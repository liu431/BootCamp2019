{
 "cells": [
  {
   "cell_type": "markdown",
   "metadata": {},
   "source": [
    "## Newton's Method\n",
    "\n",
    "Li Liu\n",
    "\n",
    "7/9/2019"
   ]
  },
  {
   "cell_type": "code",
   "execution_count": 9,
   "metadata": {},
   "outputs": [],
   "source": [
    "import numpy as np\n",
    "import matplotlib.pyplot as plt\n",
    "import sympy as sy\n",
    "from scipy import optimize\n",
    "from autograd import numpy as anp\n",
    "from autograd import grad\n",
    "from autograd import elementwise_grad"
   ]
  },
  {
   "cell_type": "markdown",
   "metadata": {},
   "source": [
    "### Pbm 1"
   ]
  },
  {
   "cell_type": "code",
   "execution_count": 14,
   "metadata": {},
   "outputs": [
    {
     "data": {
      "text/plain": [
       "(0.6931471814512683, True, 6)"
      ]
     },
     "execution_count": 14,
     "metadata": {},
     "output_type": "execute_result"
    }
   ],
   "source": [
    "def newton_method(f, x0, fp, tol=1e-5, maxiters=15):\n",
    "    converged = False\n",
    "    num_iters = maxiters\n",
    "    for k in range(maxiters):\n",
    "        x1 = x0 - f(x0)/fp(x0)\n",
    "        if abs(x1-x0) < tol:\n",
    "            converged = True\n",
    "            num_iters = k+1\n",
    "            break\n",
    "        x0 = x1\n",
    "    return x0, converged, num_iters\n",
    "\n",
    "f = lambda x: np.exp(x) - 2\n",
    "fp = lambda x: np.exp(x)\n",
    "\n",
    "newton_method(f, 2, fp)"
   ]
  },
  {
   "cell_type": "code",
   "execution_count": 17,
   "metadata": {},
   "outputs": [
    {
     "data": {
      "text/plain": [
       "0.6931471805599453"
      ]
     },
     "execution_count": 17,
     "metadata": {},
     "output_type": "execute_result"
    }
   ],
   "source": [
    "optimize.newton(f,2,fp)"
   ]
  },
  {
   "cell_type": "markdown",
   "metadata": {},
   "source": [
    "### Pbm 3"
   ]
  },
  {
   "cell_type": "code",
   "execution_count": 18,
   "metadata": {},
   "outputs": [
    {
     "data": {
      "text/plain": [
       "(-327.6800000000008, False, 15)"
      ]
     },
     "execution_count": 18,
     "metadata": {},
     "output_type": "execute_result"
    }
   ],
   "source": [
    "def newton_method_modified(f, x0, fp, alpha=1, tol=1e-5, maxiters=15):\n",
    "    converged = False\n",
    "    num_iters = maxiters\n",
    "    for k in range(maxiters):\n",
    "        x1 = x0 - alpha*f(x0)/fp(x0)\n",
    "        if abs(x1-x0) < tol:\n",
    "            converged = True\n",
    "            num_iters = k+1\n",
    "            break\n",
    "        x0 = x1\n",
    "    return x0, converged, num_iters\n",
    "\n",
    "f = lambda x : anp.sign(x)*anp.power(anp.abs(x), 1./3)\n",
    "fp = grad(f)\n",
    "\n",
    "newton_method_modified(f, .01, fp, alpha=1)"
   ]
  },
  {
   "cell_type": "code",
   "execution_count": 20,
   "metadata": {},
   "outputs": [
    {
     "data": {
      "text/plain": [
       "(-3.199999999999966e-06, True, 6)"
      ]
     },
     "execution_count": 20,
     "metadata": {},
     "output_type": "execute_result"
    }
   ],
   "source": [
    "newton_method_modified(f, .01, fp, alpha=.4)"
   ]
  },
  {
   "cell_type": "markdown",
   "metadata": {},
   "source": [
    "### Pbm 4"
   ]
  },
  {
   "cell_type": "code",
   "execution_count": 21,
   "metadata": {},
   "outputs": [
    {
     "data": {
      "image/png": "[encoded data removed]",
      "text/plain": [
       "<Figure size 432x288 with 1 Axes>"
      ]
     },
     "metadata": {
      "needs_background": "light"
     },
     "output_type": "display_data"
    },
    {
     "data": {
      "text/plain": [
       "0.33"
      ]
     },
     "execution_count": 21,
     "metadata": {},
     "output_type": "execute_result"
    }
   ],
   "source": [
    "agrid = np.linspace(0,1,101)\n",
    "f = lambda x : anp.sign(x)*anp.power(anp.abs(x), 1./3)\n",
    "fp = grad(f)\n",
    "\n",
    "def newton_method_alpha(f, x0, fp, tol=1e-5, maxiters=15):\n",
    "    xpoints = []\n",
    "    ypoints = []\n",
    "    for alpha in agrid:\n",
    "        xpoints.append(alpha)\n",
    "        ypoints.append(newton_method_modified(f, x0, fp, alpha)[2])\n",
    "    x = np.array(xpoints[1:])\n",
    "    y = np.array(ypoints[1:])\n",
    "    plt.scatter(x, y)\n",
    "    plt.show()\n",
    "    return(x[np.argmin(y)])\n",
    "\n",
    "newton_method_alpha(f, .01, fp)"
   ]
  },
  {
   "cell_type": "markdown",
   "metadata": {},
   "source": [
    "### Pbm 7"
   ]
  },
  {
   "cell_type": "code",
   "execution_count": 22,
   "metadata": {},
   "outputs": [
    {
     "data": {
      "image/png": "[encoded data removed]",
      "text/plain": [
       "<Figure size 432x288 with 1 Axes>"
      ]
     },
     "metadata": {
      "needs_background": "light"
     },
     "output_type": "display_data"
    }
   ],
   "source": [
    "def basins_of_attraction(f, Df, zeros, bounds, res, iters):\n",
    "    rmin, rmax, imin, imax = bounds\n",
    "    x_real = np.linspace(rmin, rmax, res)\n",
    "    x_imag = np.linspace(imin, imax, res)\n",
    "    X_real, X_imag = np.meshgrid(x_real, x_imag)\n",
    "    X_0 = X_real + 1j*X_imag\n",
    "    for i in range(iters):\n",
    "        X_1 = X_0 - f(X_0)/Df(X_0)\n",
    "        X_0 = X_1\n",
    "    Y = []\n",
    "    for x in X_0.flatten():\n",
    "        dist_2 = (zeros - x)**2        \n",
    "        Y.append(np.argmin(dist_2))\n",
    "    Y = np.array(Y)\n",
    "    Y = np.reshape(Y, (500,500))\n",
    "    plt.pcolormesh(X_real, X_imag, Y, cmap=\"brg\")\n",
    "    \n",
    "f = lambda x: np.power(x,3)-1\n",
    "Df = lambda x: 3*np.power(x,2)\n",
    "\n",
    "res = 500\n",
    "bounds = [-1.5, 1.5, -1.5, 1.5]\n",
    "iters = 20\n",
    "zeros = np.array([1, -1/2 + np.sqrt(3)/2j, -1/2 - np.sqrt(3)/2j])\n",
    "\n",
    "basins_of_attraction(f, Df, zeros, bounds, res, iters)\n"
   ]
  },
  {
   "cell_type": "code",
   "execution_count": 23,
   "metadata": {},
   "outputs": [
    {
     "data": {
      "image/png": "[encoded data removed]",
      "text/plain": [
       "<Figure size 432x288 with 1 Axes>"
      ]
     },
     "metadata": {
      "needs_background": "light"
     },
     "output_type": "display_data"
    }
   ],
   "source": [
    "f = lambda x: np.power(x,3)-x\n",
    "Df = lambda x: 3*np.power(x,2) - 1\n",
    "zeros = np.array([-1,0,1])\n",
    "\n",
    "basins_of_attraction(f, Df, zeros, bounds, res, iters)"
   ]
  }
 ],
 "metadata": {
  "kernelspec": {
   "display_name": "Python 3",
   "language": "python",
   "name": "python3"
  },
  "language_info": {
   "codemirror_mode": {
    "name": "ipython",
    "version": 3
   },
   "file_extension": ".py",
   "mimetype": "text/x-python",
   "name": "python",
   "nbconvert_exporter": "python",
   "pygments_lexer": "ipython3",
   "version": "3.7.1"
  }
 },
 "nbformat": 4,
 "nbformat_minor": 2
}
