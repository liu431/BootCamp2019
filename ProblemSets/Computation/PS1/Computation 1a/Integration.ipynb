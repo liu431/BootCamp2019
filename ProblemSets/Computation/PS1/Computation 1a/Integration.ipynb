{
 "cells": [
  {
   "cell_type": "markdown",
   "metadata": {},
   "source": [
    "## Computation Assignment --- Part 2\n",
    "\n",
    "## Li Liu\n",
    "\n",
    "## 7/7/2019"
   ]
  },
  {
   "cell_type": "markdown",
   "metadata": {},
   "source": [
    "# Numerical Integration\n",
    "### by [Richard W. Evans](https://sites.google.com/site/rickecon/), January 2019\n",
    "The code in this Jupyter notebook was written using Python 3.6. All references cited in this notebook are fully cited in Section 7 at the end of the notebook."
   ]
  },
  {
   "cell_type": "code",
   "execution_count": 2,
   "metadata": {},
   "outputs": [],
   "source": [
    "import numpy as np\n",
    "import pandas as pd\n",
    "import matplotlib.pyplot as plt\n",
    "import random"
   ]
  },
  {
   "cell_type": "markdown",
   "metadata": {},
   "source": [
    "## 1. Introduction\n",
    "Integrals of the form $\\int_a^b g(x)dx$ arise often in economic models. One example is the aggregating of consumption amounts of a continuum of differentiated goods $c_t(i)$,\n",
    "\\begin{equation}\\label{NumInt_EqArmAggr}\n",
    "    C_t = \\left(\\int_0^1 \\alpha_i^\\frac{1}{\\varepsilon}c_t(i)^\\frac{\\varepsilon-1}{\\varepsilon}di\\right)^\\frac{\\varepsilon}{\\varepsilon-1}\n",
    "\\end{equation}\n",
    "where $C_t$ is aggregate consumption, $\\alpha_i$ is a weight on the particular amount of consumption of good $i$, $\\varepsilon$ is the constant elasticity of substitution between different goods $i$, and the measure of goods is normalized to be between 0 and 1, without loss of generality. This consumption aggregator is often called the Armington aggregator as it was first proposed in Armington (1969). It is also known as a Dixit-Stiglitz aggregator after its use in Dixit and Stiglitz (1977). Another key example of an integral that often occurs in macroeconomics is the expectations operator on the right-hand-side of the standard intertermporal Euler equation,\n",
    "\\begin{equation}\\label{NumInt_EqEulEx}\n",
    "  \\begin{split}\n",
    "    u'(c_t) &= \\beta E_{z_{t+1}|z_t}\\Bigl[(1+r_{t+1}-\\delta)u'(c_{t+1})\\Bigr] \\\\\n",
    "    \\Rightarrow\\quad u'(c_t) &= \\beta\\int_a^b \\Bigl(1+r_{t+1}(z_{t+1})-\\delta\\Bigr)u'\\Bigl(c_{t+1}(z_{t+1})\\Bigr)f(z_{t+1}|z_t)dz_{t+1}\n",
    "  \\end{split}\n",
    "\\end{equation}\n",
    "where $a$ and $b$ are the bounds of the support of $z_{t+1}$ and $f(z_{t+1}|z_t)$ is the pdf of $z_{t+1}$ that could potentially be conditional on $z_t$.\n",
    "\n",
    "It is a rare convenience when these integrals can be evaluated analytically. However, it does not take much richness in functional form to render analytical solutions impossible for many integrals in economic models. In these cases, the integral must be computed numerically. The following discussion of numerical integration draws from the great treatments of the subject in Heer and Maussner (2009, pp. 598-603), Judd (1998, ch. 7), and Adda and Cooper (2003, pp. 55-60)."
   ]
  },
  {
   "cell_type": "markdown",
   "metadata": {},
   "source": [
    "## 2. Newton-Cotes Quadrature\n",
    "Newton-Cotes quadrature forumalas approximate the integral of a function $\\int_a^b g(x)dx$ by evaluating the function at $N$ equally spaced nodes $\\{x_1,x_2,...x_N\\}$ and weighting those nodes with $N$ weights $\\{\\omega_1,\\omega_2,...\\omega_N\\}$. The general form of Newton-Cotes quadrature forumulas is\n",
    "\\begin{equation}\\label{NumInt_EqNewtCotesGen}\n",
    "  \\int_a^b g(x)dx \\approx \\sum_{n=1}^N\\omega_n g(x_n)\n",
    "\\end{equation}"
   ]
  },
  {
   "cell_type": "markdown",
   "metadata": {},
   "source": [
    "### 2.1. Midpoint rule (1 node)\n",
    "The midpoint rule is the simplest Newton-Cotes formula and uses only one node or evaluation of the function. It is simply a Riemann sum approximation over the domain of the function $g(x)$. The midpoint formula simply evaluates the function at the midpoint of the domain of $x = \\frac{a+b}{2}$ and assumes that the function is a constant at that level over the entire domain of $x\\in[a,b]$.\n",
    "\\begin{equation}\\label{NumInt_EqMidPtRule}\n",
    "  \\int_a^b g(x)dx \\approx (b-a)g\\left(\\frac{a+b}{2}\\right)\n",
    "\\end{equation}"
   ]
  },
  {
   "cell_type": "code",
   "execution_count": 3,
   "metadata": {},
   "outputs": [
    {
     "data": {
      "text/plain": [
       "67330"
      ]
     },
     "execution_count": 3,
     "metadata": {},
     "output_type": "execute_result"
    }
   ],
   "source": [
    "import requests\n",
    "from IPython.display import Image\n",
    "\n",
    "# Download and save the data file Riemann_sum_convergence.png\n",
    "url = ('https://raw.githubusercontent.com/rickecon/Notebooks/' +\n",
    "       'master/NumIntegr/images/Riemann_sum_convergence.png')\n",
    "image_file = requests.get(url, allow_redirects=True)\n",
    "open('Riemann_sum_convergence.png', 'wb').write(image_file.content)\n",
    "#Image('Riemann_sum_convergence.png')"
   ]
  },
  {
   "cell_type": "markdown",
   "metadata": {},
   "source": [
    "A more sophisticated midpoint rule is the composite midpoint rule, which breaks up the domain of the function $g(x)$ into $N$ intervals and applies the midpoint rule to each interval. For nodes $x_0,x_1,\\ldots,x_{N-1}$ with $x_i=a+\\frac{(2i+1)(b-a)}{2N}$, the composite midpoint rule is given by\n",
    "\\begin{equation}\\label{NumInt_EqMidPtRuleComp}\n",
    "  \\int_a^b g(x)dx \\approx \\frac{b-a}{N}\\sum_{i=0}^{N-1}g(x_i)\n",
    "\\end{equation}"
   ]
  },
  {
   "cell_type": "code",
   "execution_count": 4,
   "metadata": {},
   "outputs": [
    {
     "data": {
      "text/plain": [
       "21199"
      ]
     },
     "execution_count": 4,
     "metadata": {},
     "output_type": "execute_result"
    }
   ],
   "source": [
    "# Download and save the data file MidRiemann2.png\n",
    "url = ('https://raw.githubusercontent.com/rickecon/Notebooks/' +\n",
    "       'master/NumIntegr/images/MidRiemann2.png')\n",
    "image_file = requests.get(url, allow_redirects=True)\n",
    "open('MidRiemann2.png', 'wb').write(image_file.content)\n",
    "#Image('MidRiemann2.png')"
   ]
  },
  {
   "cell_type": "markdown",
   "metadata": {},
   "source": [
    "### 2.2. Trapezoid rule (2 nodes)\n",
    "The trapezoid rule estimates the integral as the area under a line that connects the function $g(x)$ at the two endpoints $a$ and $b$.\n",
    "\\begin{equation}\\label{NumInt_EqTrapRule}\n",
    "  \\int_a^b g(x)dx \\approx \\frac{b-a}{2}\\bigl[g(a) + g(b)\\bigr]\n",
    "\\end{equation}\n",
    "\n",
    "A more sophisticated trapezoid rule is the composite trapezoid rule, which breaks up the domain of the function $g(x)$ into $N$ intervals and applies the trapezoid rule to each interval.  For nodes $x_0,x_1,\\ldots,x_N$ with $x_i=a+i(b-a)/N$, the composite trapezoid rule is given by\n",
    "\\begin{equation}\\label{NumInt_EqTrapRuleComp}\n",
    "  \\int_a^b g(x)dx \\approx \\frac{b-a}{2N}\\left[g(x_0) + 2\\sum_{i=1}^{N-1}g(x_i) + g(x_N)\\right]\n",
    "\\end{equation}\n",
    "\n",
    "### 2.3. Simpson's rule (3 nodes)\n",
    "Simpson's rule offers a smooth nonlinear (quadratic) alternative the linear approximations of the midpoint and trapezoid rules. Simpson's rule finds the unique quadratic function in $x$ that passes through the end points and the midpoint of the function $g(a)$, $g\\left(\\frac{a+b}{2}\\right)$, and $g(b)$, which produces the following weights and values.\n",
    "\\begin{equation}\\label{NumInt_EqSimpsRule}\n",
    "  \\int_a^b g(x)dx \\approx \\frac{b-a}{6}\\left[g(a) + 4g\\left(\\frac{a+b}{2}\\right) + g(b)\\right]\n",
    "\\end{equation}\n",
    "\n",
    "Again, a more sophisticated Simpson's rule is the composite Simpson's rule, which breaks up the domain of the function $g(x)$ into $N$ intervals and applies the Simpson's rule to each interval.  For nodes $x_0,x_1,\\ldots,x_{2N}$ with $x_i=a+i(b-a)/(2N)$, the composite Simpson's rule is given by\n",
    "\\begin{equation}\\label{NumInt_EqTrapRuleComp2}\n",
    "  \\int_a^b g(x)dx \\approx \\frac{b-a}{6N}\\left[g(x_0) + 4\\sum_{i=1,3,\\ldots}^{2N-1}g(x_i) + 2\\sum_{i=2,4,\\ldots}^{2N-2}g(x_i) + g(x_{2N})\\right]\n",
    "\\end{equation}\n",
    "\n",
    "### 2.4. Exercises"
   ]
  },
  {
   "cell_type": "markdown",
   "metadata": {},
   "source": [
    "**Exercise 2.1.** You can verify that the analytical solution to the integral of the function\n",
    "\\begin{equation*}\n",
    "  g(x)=0.1x^4 -1.5x^3 + 0.53x^2 + 2x + 1\n",
    "\\end{equation*}\n",
    "between $x=-10$ and $x=10$ is $\\int_{-10}^{10} g(x)dx = 4,373.3\\bar{3}$. Write a Python function that will take as arguments an anonymous function that the user specifies representing $g(x)$, integration bounds $a$ and $b$, the number of intervals $N$, and\n",
    "```python\n",
    "method = {'midpoint', 'trapezoid', 'Simpsons'}\n",
    "```\n",
    "Using the composite methods, evaluate the numerical approximations of the integral $\\int_a^b g(x)dx$ using all three Newton-Cotes methods in your function and compare the difference between the values of these integrals to the true analytical value of the integral."
   ]
  },
  {
   "cell_type": "code",
   "execution_count": 5,
   "metadata": {},
   "outputs": [
    {
     "name": "stdout",
     "output_type": "stream",
     "text": [
      "Midpoint method value: 4373.333333319438\n",
      "Trapezoid method value: 4373.33333336054\n",
      "Simpsons method value: 4373.333333333138\n",
      "Difference between Midpoint method and true value: -1.3895260053686798e-08\n",
      "Difference between Trapezoid method and true value: 2.7206624508835375e-08\n",
      "Difference between Simpsons method and true value: -1.9463186617940664e-10\n"
     ]
    }
   ],
   "source": [
    "def NewtonCotes(g,a,b,N,methods={'midpoint','trapezoid','Simpsons'}):\n",
    "    intermid=[a+(b-a)*(2*i+1)/(2*N) for i in range(N)]\n",
    "    appmid=sum(g(i) for i in intermid)*(b-a)/N\n",
    "    intertra=[a+i*(b-a)/N for i in range(N+1)]\n",
    "    apptra=(2*sum(g(i) for i in intertra[1:-1])+\\\n",
    "            g(intertra[0])+g(intertra[-1]))*(b-a)/(2*N)\n",
    "    intersim=[a+i*(b-a)/(2*N) for i in range(2*N+1)]\n",
    "    appsim=(g(intersim[0])+g(intersim[-1])+\\\n",
    "            4*sum(g(i) for i in intersim[1:-1:2])+\\\n",
    "             2*sum(g(i) for i in intersim[2:-2:2]))*(b-a)/(6*N)  \n",
    "            \n",
    "    return appmid,apptra,appsim\n",
    "\n",
    "g=lambda x: 0.1*x**4-1.5*x**3+0.53*x**2+2*x+1\n",
    "Res=NewtonCotes(g,-10,10,1000000)\n",
    "true=4373+1/3\n",
    "print(\"Midpoint method value:\",Res[0])\n",
    "print(\"Trapezoid method value:\",Res[1])\n",
    "print(\"Simpsons method value:\",Res[2])\n",
    "print(\"Difference between Midpoint method and true value:\",Res[0]-true)\n",
    "print(\"Difference between Trapezoid method and true value:\",Res[1]-true)\n",
    "print(\"Difference between Simpsons method and true value:\",Res[2]-true)"
   ]
  },
  {
   "cell_type": "markdown",
   "metadata": {},
   "source": [
    "**Exercise 2.2.** Write a Python function that makes a Newton-Cotes discrete approximation of the distribution of the normally distributed variable $Z \\sim N(\\mu,\\sigma)$. Let this function take as arguments the mean $\\mu$, the standard deviation $\\sigma$, the number of equally spaced nodes $N$ to estimate the distribution, and the number of standard deviations $k$ away from $\\mu$ to make the furthest nodes on either side of $\\mu$. Use the [`scipy.stats.norm.cdf`](http://docs.scipy.org/doc/scipy/reference/generated/scipy.stats.norm.html#scipy.stats.norm) command for the cdf of the normal distribution to compute the weights $\\omega_n$ for the nodes $x_n$. Have this function return a vector of nodes of $[Z_1,Z_2,...Z_N]$ and a vector of weights $[\\omega_1,\\omega_2,...\\omega_N]$ such that $\\omega_i$ is given by the integral under the normal distribution between the midpoints of the two closest nodes. Define $f(Z;\\mu,\\sigma)$ as the pdf of the normal distribution and $F(Z;\\mu,\\sigma)$ as the cdf.\n",
    "\\begin{equation*}\n",
    "  \\begin{split}\n",
    "    &\\omega_i =\n",
    "      \\begin{cases}\n",
    "        F\\left(\\frac{Z_1 + Z_2}{2};\\mu,\\sigma\\right) \\quad\\quad\\quad\\quad\\:\\text{if}\\quad i = 1 \\\\\n",
    "        \\int_{Z_{min}}^{Z_{max}}f(Z;\\mu,\\sigma)dZ \\quad\\quad\\:\\:\\text{if}\\quad 1<i<N \\\\\n",
    "        1 - F\\left(\\frac{Z_{N-1} + Z_{N}}{2};\\mu,\\sigma\\right) \\quad\\text{if}\\quad i = N\n",
    "      \\end{cases} \\\\\n",
    "    &\\text{where}\\quad Z_{min} = \\frac{Z_{i-1} + Z_{i}}{2} \\quad\\text{and}\\quad Z_{max} = \\frac{Z_{i} + Z_{i+1}}{2}\n",
    "  \\end{split}\n",
    "\\end{equation*}\n",
    "What are the weights and nodes $\\{\\omega_n,Z_n\\}_{n=1}^N$ for $N=11$?"
   ]
  },
  {
   "cell_type": "code",
   "execution_count": 6,
   "metadata": {},
   "outputs": [
    {
     "data": {
      "text/html": [
       "<div>\n",
       "<style scoped>\n",
       "    .dataframe tbody tr th:only-of-type {\n",
       "        vertical-align: middle;\n",
       "    }\n",
       "\n",
       "    .dataframe tbody tr th {\n",
       "        vertical-align: top;\n",
       "    }\n",
       "\n",
       "    .dataframe thead th {\n",
       "        text-align: right;\n",
       "    }\n",
       "</style>\n",
       "<table border=\"1\" class=\"dataframe\">\n",
       "  <thead>\n",
       "    <tr style=\"text-align: right;\">\n",
       "      <th></th>\n",
       "      <th>Z</th>\n",
       "      <th>Weight</th>\n",
       "    </tr>\n",
       "  </thead>\n",
       "  <tbody>\n",
       "    <tr>\n",
       "      <th>1</th>\n",
       "      <td>-3.0</td>\n",
       "      <td>0.003467</td>\n",
       "    </tr>\n",
       "    <tr>\n",
       "      <th>2</th>\n",
       "      <td>-2.4</td>\n",
       "      <td>0.014397</td>\n",
       "    </tr>\n",
       "    <tr>\n",
       "      <th>3</th>\n",
       "      <td>-1.8</td>\n",
       "      <td>0.048943</td>\n",
       "    </tr>\n",
       "    <tr>\n",
       "      <th>4</th>\n",
       "      <td>-1.2</td>\n",
       "      <td>0.117253</td>\n",
       "    </tr>\n",
       "    <tr>\n",
       "      <th>5</th>\n",
       "      <td>-0.6</td>\n",
       "      <td>0.198028</td>\n",
       "    </tr>\n",
       "    <tr>\n",
       "      <th>6</th>\n",
       "      <td>0.0</td>\n",
       "      <td>0.235823</td>\n",
       "    </tr>\n",
       "    <tr>\n",
       "      <th>7</th>\n",
       "      <td>0.6</td>\n",
       "      <td>0.198028</td>\n",
       "    </tr>\n",
       "    <tr>\n",
       "      <th>8</th>\n",
       "      <td>1.2</td>\n",
       "      <td>0.117253</td>\n",
       "    </tr>\n",
       "    <tr>\n",
       "      <th>9</th>\n",
       "      <td>1.8</td>\n",
       "      <td>0.048943</td>\n",
       "    </tr>\n",
       "    <tr>\n",
       "      <th>10</th>\n",
       "      <td>2.4</td>\n",
       "      <td>0.014397</td>\n",
       "    </tr>\n",
       "    <tr>\n",
       "      <th>11</th>\n",
       "      <td>3.0</td>\n",
       "      <td>0.003467</td>\n",
       "    </tr>\n",
       "  </tbody>\n",
       "</table>\n",
       "</div>"
      ],
      "text/plain": [
       "      Z    Weight\n",
       "1  -3.0  0.003467\n",
       "2  -2.4  0.014397\n",
       "3  -1.8  0.048943\n",
       "4  -1.2  0.117253\n",
       "5  -0.6  0.198028\n",
       "6   0.0  0.235823\n",
       "7   0.6  0.198028\n",
       "8   1.2  0.117253\n",
       "9   1.8  0.048943\n",
       "10  2.4  0.014397\n",
       "11  3.0  0.003467"
      ]
     },
     "execution_count": 6,
     "metadata": {},
     "output_type": "execute_result"
    }
   ],
   "source": [
    "import scipy.stats as ss #Use norm.cdf\n",
    "from scipy.integrate import quad #Integrate func from a to b\n",
    "import pandas as pd #Result table\n",
    "\n",
    "def NewtonCotesNorm(mu, sigma, N, k):\n",
    "    Z = np.linspace(mu-k*sigma, mu+k*sigma, N)\n",
    "    weight = np.zeros(N)\n",
    "    weight[0] = ss.norm.cdf((Z[0]+Z[1])/2, loc=mu, scale=sigma)\n",
    "    weight[N-1] = 1-ss.norm.cdf((Z[N-2]+Z[N-1])/2, loc=mu, scale=sigma)\n",
    "    \n",
    "    for i in range(1,N-1):\n",
    "        #Integrate from Zmin to Zmax, return value and absolute error\n",
    "        Zmin,Zmax=(Z[i-1]+Z[i])/2,(Z[i+1]+Z[i])/2\n",
    "        weight[i] = quad(lambda x:ss.norm.pdf(x, loc=mu, scale=sigma),Zmin,Zmax)[0]\n",
    "    \n",
    "    return Z,weight\n",
    "\n",
    "Z,weight=NewtonCotesNorm(0,1,11,3)\n",
    "table=pd.DataFrame({'Z':Z,'Weight':weight})\n",
    "table.index+=1\n",
    "table"
   ]
  },
  {
   "cell_type": "code",
   "execution_count": 7,
   "metadata": {},
   "outputs": [
    {
     "data": {
      "text/plain": [
       "0.7851447585510265"
      ]
     },
     "execution_count": 7,
     "metadata": {},
     "output_type": "execute_result"
    }
   ],
   "source": [
    "#Approximate the normal distribtion integral with Newton-Cotes quadrature forumulas\n",
    "np.dot(abs(table['Z']),table['Weight'])"
   ]
  },
  {
   "cell_type": "markdown",
   "metadata": {},
   "source": [
    "**Exercise 2.3.** If $Z\\sim N(\\mu,\\sigma)$, then $A\\equiv e^Z\\sim LN(\\mu,\\sigma)$ is distributed lognormally and $\\log(A)\\sim N(\\mu,\\sigma)$. Use your knowledge that $A\\equiv e^Z$, $\\log(A)\\sim N(\\mu,\\sigma)$, and your function from Exercise 2.2 to write a function that gives a discrete approximation to the lognormal distribution. Note: You will not end up with evenly spaced nodes $[A_1,A_2,...A_N]$, but your weights should be the same as in Exercise 2.2."
   ]
  },
  {
   "cell_type": "code",
   "execution_count": 8,
   "metadata": {},
   "outputs": [],
   "source": [
    "# Z is log(A) and A=e**Z\n",
    "def NewtonCotesLogNorm(mu, sigma, N, k):\n",
    "    Z = np.linspace(mu-k*sigma, mu+k*sigma, N)\n",
    "    weight = np.zeros(N)\n",
    "    weight[0] = ss.norm.cdf((Z[0]+Z[1])/2, loc=mu, scale=sigma)\n",
    "    weight[N-1] = 1-ss.norm.cdf((Z[N-2]+Z[N-1])/2, loc=mu, scale=sigma)\n",
    "    \n",
    "    for i in range(1,N-1):\n",
    "        #Integrate from Zmin to Zmax, return value and absolute error\n",
    "        Zmin,Zmax=(Z[i-1]+Z[i])/2,(Z[i+1]+Z[i])/2\n",
    "        weight[i] = quad(lambda x:ss.norm.pdf(x, loc=mu, scale=sigma),Zmin,Zmax)[0]\n",
    "    df=pd.DataFrame({\"Z\":Z,\"Weight\":weight})\n",
    "    df['A']=np.exp(df['Z'])\n",
    "    #Approximate the lognormal distribtion integral with Newton-Cotes quadrature forumulas\n",
    "    return sum(df['A']*df['Weight'])"
   ]
  },
  {
   "cell_type": "markdown",
   "metadata": {},
   "source": [
    "**Exercise 2.4.** Let $Y_i$ represent the income of individual $i$ in the United States for all individuals $i$. Assume that income $Y_i$ is lognormally distributed in the U.S. according to $Y_i\\sim LN(\\mu,\\sigma)$, where the mean of log income is $\\mu = 10.5$ and the standard deviation of log income is $\\sigma = 0.8$. Use your function from Exercise 2.3 to compute an approximation of the expected value of income or average income in the U.S. How does your approximation compare to the exact expected value of $E[Y] = e^{\\mu + \\frac{\\sigma^2}{2}}$?"
   ]
  },
  {
   "cell_type": "code",
   "execution_count": 9,
   "metadata": {},
   "outputs": [
    {
     "name": "stdout",
     "output_type": "stream",
     "text": [
      "Exact expected value is: 50011.087008521754\n",
      "Approximated value is: 50009.69075006095\n",
      "Absolute Difference is: 1.3962584608016186\n"
     ]
    }
   ],
   "source": [
    "exact=np.exp(10.5+0.8*0.8/2)\n",
    "appr=NewtonCotesLogNorm(10.5, 0.8, 19, 3)\n",
    "print(\"Exact expected value is:\",exact)\n",
    "print(\"Approximated value is:\",appr)\n",
    "print(\"Absolute Difference is:\",abs(appr-exact))"
   ]
  },
  {
   "cell_type": "markdown",
   "metadata": {},
   "source": [
    "## 3. Gaussian Quadrature"
   ]
  },
  {
   "cell_type": "markdown",
   "metadata": {},
   "source": [
    "### 3.1. Gaussian Quadrature\n",
    "In Newton-Cotes quadrature, the nodes are uniformly spaced. Gaussian quadrature formulas for approximating an integral take the same approximation form $\\int_a^b g(x)dx \\approx \\sum_{n=1}^N\\omega_n g(x_n)$ and optimally choose the weights $\\omega_n$ and unevenly spaced nodes $x_n$ given the total number of nodes $N$ and some approximating polynomial class $h_i(x)$. The $N$ weights and nodes are chosen to make an *exact integration* relationship hold. That is, for polynomials of order $2N-1$ the $N$ weights and nodes must exactly satisfy\n",
    "\\begin{equation}\\label{NumInt_EqGausQuadGen}\n",
    "  \\int_a^b h_i(x)dx = \\sum_{n=1}^N \\omega_n h_i(x_n) \\quad\\text{for}\\quad i=0,1,\\ldots,2N-1\n",
    "\\end{equation}\n",
    "where $h_i(x)$ is an $i$-order polynomial in $x$.  If the $h_i(x)$ form a basis, this means that every polynomial of degree less than or equal to $2N-1$ will be computed exactly using the $N$ weights and $N$ nodes.\n",
    "\n",
    "As a simple example, suppose we want to approximate an arbitrary function $g(x)$ with Gaussian quadrature using a simple class of polynomials $h_i(x) = x^{i}$ and only $N=2$ weights and nodes. The Gaussian quadrature definition equation above implies a system of four equations used to determine the four variables $(\\omega_1,\\omega_2,x_1,x_2)$ to approximate the integral $\\int_a^b g(x)dx \\approx \\sum_{n=1}^N\\omega_n g(x_n)$.\n",
    "\\begin{equation}\\label{NumInt_EqGausQuadN2}\n",
    "  \\begin{split}\n",
    "    &\\int_a^b dx = \\omega_1 + \\omega_2 \\\\\n",
    "    &\\int_a^b x dx = \\omega_1 x_1 + \\omega_2 x_2 \\\\\n",
    "    &\\int_a^b x^2 dx = \\omega_1 x_1^2 + \\omega_2 x_2^2 \\\\\n",
    "    &\\int_a^b x^3 dx = \\omega_1 x_1^3 + \\omega_2 x_2^3\n",
    "  \\end{split}\n",
    "\\end{equation}\n",
    "For $N=2$, the optimal weights and nodes that solve the system above are $(\\omega_1,\\omega_2,x_1,x_2)=(1,1,-0.578,0.578)$. The Python code to solve this nonlinear system could be a simple root finder such as [`scipy.optimize.root`](http://docs.scipy.org/doc/scipy/reference/generated/scipy.optimize.root.html#scipy.optimize.root) or one of the constrained minimizers in [`scipy.optimize.minimize`](http://docs.scipy.org/doc/scipy/reference/generated/scipy.optimize.minimize.html#scipy.optimize.minimize). In general, the spacing of the nodes will not be uniform.\n",
    "\n",
    "The accuracy of the Gaussian quadrature approximation of the integral $\\int_a^b g(x)dx$ increases in the number of nodes $N$. The accuracy of the approximation of the integral can also be improved by the choice of polynomial family $h_i(x)$. In particular, the families of orthonormal polynomials have multiple desirable properties. Because of the orthogonality of their coefficients, the system above is easier to solve due to the lack of collinearity. Also, the weights $\\omega_n$ turn out to be the zeros of the orthogonal polynomial family. Lastly, these orthogonal families of polynomials can give very accurate solutions to integrals of the form $\\int_a^b w(x)g(x)dx$, where $w(x)$ is the weighting function of an orthonormal family of polynomials.\n",
    "\n",
    "For finite integration limits, [`scipy.integrate.quad`](http://docs.scipy.org/doc/scipy/reference/generated/scipy.integrate.quad.html#scipy.integrate.quad) uses a Clenshaw-Curtis method which uses Chebyshev orthogonal polynomials as basis functions and uses corresponding Chebyshev moments. If one of the integration limits is infinite, [`scipy.integrate.quad`](http://docs.scipy.org/doc/scipy/reference/generated/scipy.integrate.quad.html#scipy.integrate.quad) uses Fourier basis functions with the corresponding Fourier moments.\n",
    "\n",
    "For a more detailed discussion of the theory behind Gaussian quadrature, see Judd (1998, pp. 257-265) and Heer and Maussner (2009, pp. 599-601). The general applicability of Gaussian quadrature and its accuracy and efficiency advantage over Newton-Cotes formulas is summarized by Judd (1998, p. 265).\n",
    "> \"Even when the asymptotic rate of convergence for Gaussian quadrature is no better than the comparable Newton-Cotes formula, experience shows that Gaussian formulas often outperform the alternative Newton-Cotes formula [in terms of accuracy].\""
   ]
  },
  {
   "cell_type": "markdown",
   "metadata": {},
   "source": [
    "### 3.2. Exercises"
   ]
  },
  {
   "cell_type": "markdown",
   "metadata": {},
   "source": [
    "**Exercise 3.1.** Approximate the integral of the function in Exercise 2.1 using Gaussian quadrature with $N=3$, $(\\omega_1,\\omega_2,\\omega_3,x_1,x_2,x_3)$. Use the class of polynomials $h_i(x)=x^i$. How does the accuracy of your approximated integral compare to the approximations from Exercise 2.1 and the true known value of the integral?"
   ]
  },
  {
   "cell_type": "markdown",
   "metadata": {},
   "source": [
    "Link to solved Gaussian Quadrature Weights: https://pomax.github.io/bezierinfo/legendre-gauss.html"
   ]
  },
  {
   "cell_type": "code",
   "execution_count": 10,
   "metadata": {},
   "outputs": [
    {
     "name": "stdout",
     "output_type": "stream",
     "text": [
      "Approximated integral using Gaussian quadrature: 4373.333333333334\n",
      "True integral value: 4373.333333333333\n",
      "Absolute Error: 9.094947017729282e-13\n",
      "This method is awesome!!!\n"
     ]
    }
   ],
   "source": [
    "g=lambda x: 0.1*x**4-1.5*x**3+0.53*x**2+2*x+1\n",
    "a,b=-10,10\n",
    "w1,w2,w3,x1,x2,x3=8/9,5/9,5/9,0,-0.7745966692414834,0.7745966692414834\n",
    "m,n=(b-a)/2,(b+a)/2\n",
    "#convert the limits of [a,b] to [-1,1]\n",
    "gau=(b-a)*0.5*(w1*g(m*x1+n)+w2*g(m*x2+n)+w3*g(m*x3+n))\n",
    "print(\"Approximated integral using Gaussian quadrature:\",gau)\n",
    "print(\"True integral value:\",4373+1/3)\n",
    "print(\"Absolute Error:\",abs(4373+1/3-gau))\n",
    "print(\"This method is awesome!!!\")"
   ]
  },
  {
   "cell_type": "markdown",
   "metadata": {},
   "source": [
    "**Exercise 3.2.** Use the Python Gaussian quadrature command [`scipy.integrate.quad`](http://docs.scipy.org/doc/scipy/reference/generated/scipy.integrate.quad.html#scipy.integrate.quad) to numerically approximate the integral from Exercise 2.1.\n",
    "\\begin{equation*}\n",
    "  \\int_{-10}^{10} g(x)dx \\quad\\text{where}\\quad g(x)=0.1x^4 -1.5x^3 + 0.53x^2 + 2x + 1\n",
    "\\end{equation*}\n",
    "How does the approximated integral using the [`scipy.integrate.quad`](http://docs.scipy.org/doc/scipy/reference/generated/scipy.integrate.quad.html#scipy.integrate.quad) command compare to the exact value of the function?"
   ]
  },
  {
   "cell_type": "code",
   "execution_count": 11,
   "metadata": {},
   "outputs": [
    {
     "name": "stdout",
     "output_type": "stream",
     "text": [
      "Approximated integral using Scipy Gaussian quadrature: 4373.333333333334\n",
      "True integral value: 4373.333333333333\n",
      "Absolute Error: 9.094947017729282e-13\n"
     ]
    }
   ],
   "source": [
    "g=lambda x: 0.1*x**4-1.5*x**3+0.53*x**2+2*x+1\n",
    "print(\"Approximated integral using Scipy Gaussian quadrature:\",quad(g,-10,10)[0])\n",
    "print(\"True integral value:\",4373+1/3)\n",
    "print(\"Absolute Error:\",abs(4373+1/3-quad(g,-10,10)[0]))"
   ]
  },
  {
   "cell_type": "markdown",
   "metadata": {},
   "source": [
    "## 4. Monte Carlo Integration\n",
    "High-dimensional integration is highly inefficient using the standard one-dimensional methods of Newton-Cotes and Gaussian quadrature.  The method of choice in high-dimensional settings is known as Monte Carlo Integration.\n",
    "\n",
    "In this section, we detail two types of Monte Carlo integration. The standard Monte Carlo simulation approach in Section 4.1 uses pseudo-randomly generated draws from a uniform distribution over the domain of the function in order to approximate the weights and nodes for integration. The quasi-Monte Carlo approach in Section 4.2 uses elements of low-discrepancy sequences over the domain of the function in order to approximate the integral. Both methods have benefits and drawbacks."
   ]
  },
  {
   "cell_type": "markdown",
   "metadata": {},
   "source": [
    "### 4.1. Standard Monte Carlo integration\n",
    "In the Newton-Cotes quadrature methods of approximating an integral, nodes and weights for the approximation $\\sum_{n=1}^N\\omega_n g(x_n)$ are chosen without much attention to the effect of the placement of these nodes or the levels of the weights on the accuracy of the approximation. Newton-Cotes methods are computationally fast, but lack in accuracy. Gaussian quadrature methods spend more computational time choosing \"optimal\" weights and nodes, but this gives an accuracy payoff over Newton-Cotes formulas. Monte Carlo integration methods use the computationally fast method of drawing uniformly from the support of the variable of integration. These methods depend on a large number of draws to get high accuracy. Judd (1998, pp. 309-311) spends significant time explaining that these methods are more correctly called \"pseudo-Monte Carlo methods\" because they make use of pseudorandom number generators, the use of which cannot invoke the law of large numbers or the central limit theorem. However, the biases introduced by pseudorandom number generators are rarely significant in practice. Although Monte Carlo integration methods do not converge as quickly as Gaussian quadrature methods for functions of one variable, they are especially valuable when integrating over functions of multiple variables.\n",
    "\n",
    "Let $\\Omega\\subset\\mathbb{R}^m$ be the domain of integration. Let $\\mathbf{x}_1, \\mathbf{x}_2, \\ldots, \\mathbf{x}_N$ be $N$ uniform random draws from $\\Omega$. Then we can write the following approximation of the integral.\n",
    "\\begin{equation}\\label{EqMontoCarloIntGen}\n",
    "  \\int_\\Omega g(\\mathbf{x})d\\mathbf{x}\\approx V\\frac{1}{N}\\sum_{n=1}^N g\\left(\\mathbf{x}_n\\right) \\quad\\text{where}\\quad V = \\int_\\Omega d\\mathbf{x}\n",
    "\\end{equation}\n",
    "The equation above says we can approximate the integral of a function $g(\\mathbf{x})$ on a domain $\\Omega$ by taking the average of the evaluations of the function $g$ at $N$ random draws of the vector $\\mathbf{x}_n$ multiplied by the volume of the domain.\n",
    "\n",
    "An easy example of a univariate integral is $\\int_0^1 x\\: dx$ (here $g(\\mathbf{x}) = x$). The Monte Carlo approximation formula for this integral is the following.\n",
    "\\begin{equation}\\label{EqMontCarlIntXdX}\n",
    "  \\int_0^1 x\\: dx \\approx V\\frac{1}{N}\\sum_{n=1}^N x_n = \\frac{1}{N}\\sum_{n=1}^N x_n\n",
    "\\end{equation}\n",
    "It is easy to see that the answer to the exact integral on the left-hand-side of this integral is 1/2. In the approximation on the right-hand-side of this equation, $V$ is the volume of the domain of $x\\in[0,1]$, which is 1. It is straightforward to see that the average of $N$ draws from a uniform distribution between 0 and 1 will converge quickly to 1/2.\n",
    "\n",
    "Exercise 4.1 lets you try your hand at coding a classic Monte Carlo integration approximation of the integral of a function of two variables to approximate the value of $\\pi$. The area of a circle with radius $r=1$ is $\\pi$. A way to visualize the Monte Carlo approximation of the area of that circle, or $\\pi$, is to enclose the circle in a square with sides of length 2, in which the $x$-axis goes from -1 to 1 and the $y$-axis goes from -1 to 1. The points in the Figure are the uniformly distributed random draws from $(x,y)\\in[-1,1]\\times[-1,1]$. Intuitively, the area of the circle is the fraction of the dots (red dots divided by total dots) that are inside the circle or on the boundary of the circle, multiplied by the area or volume of the square in which the circle lies.   "
   ]
  },
  {
   "cell_type": "code",
   "execution_count": 44,
   "metadata": {},
   "outputs": [
    {
     "data": {
      "text/plain": [
       "57523"
      ]
     },
     "execution_count": 44,
     "metadata": {},
     "output_type": "execute_result"
    }
   ],
   "source": [
    "# Download and save the data file MonteCarloCircle.png\n",
    "url = ('https://raw.githubusercontent.com/rickecon/Notebooks/' +\n",
    "       'master/NumIntegr/images/MonteCarloCircle.png')\n",
    "image_file = requests.get(url, allow_redirects=True)\n",
    "open('MonteCarloCircle.png', 'wb').write(image_file.content)\n",
    "#Image('MonteCarloCircle.png')"
   ]
  },
  {
   "cell_type": "markdown",
   "metadata": {},
   "source": [
    "Following the intuition of the previous paragraph and of the figure above, the exact area of the circle can be written as an integral of the indicator function of coordinate variables $x$ and $y$ in the following way.\n",
    "\\begin{equation}\\label{EqMontCarlIntPiCircInd}\n",
    "  \\begin{split}\n",
    "    \\text{Area} &= \\int_\\Omega g(x,y)dx\\,dy = \\pi \\\\\n",
    "    &\\quad\\text{where}\\quad g(x,y) =\n",
    "      \\begin{cases}\n",
    "        1\\quad\\text{if}\\quad x^2 + y^2 \\leq 1 \\\\\n",
    "        0\\quad\\text{else}\n",
    "      \\end{cases} \\quad\\text{and}\\quad \\Omega = [-1,1]\\times[-1,1]\n",
    "  \\end{split}\n",
    "\\end{equation}\n",
    "The exact integral for the area of a unit radius circle can be Monte Carlo approximated using the form above resulting in the following function.\n",
    "\\begin{equation}\\label{EqMontCarlIntPiCirc}\n",
    "  \\int_\\Omega g(x,y)dx\\,dy \\approx 4\\frac{1}{N}\\sum_{n=1}^N g\\left(x_n,y_n\\right)\n",
    "\\end{equation}"
   ]
  },
  {
   "cell_type": "markdown",
   "metadata": {},
   "source": [
    "### 4.2. Quasi-Monte Carlo integration\n",
    "It is important to realize what Monte Carlo methods really are in practice. Due to the impracticality of generating truly \"random\" sequences, Monte Carlo methods utilize pseudorandom sequences. Any sequence generated using a pseudorandom number generator will have a small amount of artificial correlation, and this problem is compounded in higher dimensions.\n",
    "\n",
    "Quasi-Monte Carlo methods dispense with the attempt to create deterministic samples that mimic random samples, and instead embrace their deterministic character. Judd (1998, ch. 9) defines quasi-Monte Carlo methods as sampling methods that do not rely on probabilistic ideas and pseudorandom sequences for constructing the sample and analyzing the estimate. Quasi-Monte Carlo methods use the same approximating function $\\sum_{n=1}^N\\omega_n g(x_n)$, but draw on number theory and Fourier analytic methods to create low-discrepancy sequences that are used as sample points. However, other than the selcetion of sample points, quasi-Monte Carlo integration proceeds in exactly the same way as standard Monte Carlo integration as detailed in the previous section.\n",
    "\n",
    "Many different deterministic sequences can be used in quasi-Monte Carlo sampling.  All of these \"quasirandom\" sequences strive for uniformity in a general sense. Hence it is useful to have a precise way of measuring the degree to which a point set exhibits uniformity. If we have a uniformly distributed sequence $\\mathbf{x}_n$ in the $s$-dimensional unit cube $I^s=[0,1)^s$, we would intuitively expect that every subset of $I^s$ with the same volume would contain the same number of points.  This idea is described precisely by the discrepancy of $\\mathbf{x}_n$. We first define local discrepancy, and then define global discrepancy.\n",
    "\n",
    "For $N$ points $\\{\\mathbf{x}_n\\}_{n=1}^N$ in $I^s$, $s\\geq0$, and $J\\subseteq I^s$, the local discrepancy $D(J;N)$ is defined by\n",
    "\\begin{equation}\\label{EqQMCLocalDiscrep}\n",
    "  D(J;N)=S(J;N)-V(J)N,\n",
    "\\end{equation}\n",
    "where $V(J)$ is the volume of the subinterval $J$ and $S(J;N)$ is the number of points from $\\{\\mathbf{x}_n\\}_{n=1}^N$ that are in $J$.  If the $N$ points are uniformly distributed, then the local discrepancy should be very small for all $J$'s.\n",
    "\n",
    "Figure \\ref{FigQMCDiscrepancy} shows a $2$-dimensional unit cube $I^s=[0,1)^2$ with six points.  Three sub-intervals $A$, $B$, and $C$ are shaded. The local discrepancy of $A$, which contains $3$ points, is calculated from the equation above as $D(A;6)=S(A;6)-V(A)6=3-6/2=0$. Similarly, the local discrepancies of $B$ and $C$ are $0.1267$ and $0.8$, respectively."
   ]
  },
  {
   "cell_type": "code",
   "execution_count": 45,
   "metadata": {},
   "outputs": [
    {
     "data": {
      "text/plain": [
       "63747"
      ]
     },
     "execution_count": 45,
     "metadata": {},
     "output_type": "execute_result"
    }
   ],
   "source": [
    "# Download and save the data file NumInt_Discrepancy.png\n",
    "url = ('https://raw.githubusercontent.com/rickecon/Notebooks/' +\n",
    "       'master/NumIntegr/images/NumInt_Discrepancy.png')\n",
    "image_file = requests.get(url, allow_redirects=True)\n",
    "open('NumInt_Discrepancy.png', 'wb').write(image_file.content)\n",
    "#Image('NumInt_Discrepancy.png')"
   ]
  },
  {
   "cell_type": "markdown",
   "metadata": {},
   "source": [
    "A global concept of discrepancy is given by the star-discrepancy. We define the star-discrepancy $\\Delta(N)$ of $N$ points by,\n",
    "\\begin{equation}\\label{EqQMCGlobalDiscrep}\n",
    "  \\Delta(N)=\\sup_J |D(J;N)|,\n",
    "\\end{equation}\n",
    "where the supremum is taken over all subsets $J$ of the form $J=\\prod_{i=1}^s[0,u_i)$. The star-discrepancy can be thought of as the worst-case local discrepancy, looking only at subintervals that have the origin as a corner.\n",
    "\n",
    "A common class of sequences used in quasi-Monte Carlo sampling is equidistributed sequences. Equidistributed sequences sequences where the star-discrepancy $\\Delta(N)$ tends to zero as $N$ tends to infinity. In other words, in the limit the proportion of terms falling in any subinterval is proportional to the length of that interval.\n",
    "\n",
    "There are a number of equidistributed sequences, and here we will provide some examples. By way of notation, let $p_1, p_2, \\ldots$ denote the sequence of prime numbers $2,3,5,\\ldots$, and let $\\langle x\\rangle$ represent the fractional part of $x$, that is $\\langle x\\rangle = x - \\lfloor x\\rfloor$. The table below contains formulas for a number of $s$-dimensional equidistributed sequences on $[0,1)^s$. The figure below shows the first $1,000$ points for two-dimensional Weyl, Haber, Niederreiter, and Baker sequences.\n",
    "\n",
    "| Name of Sequence | Formula for $(x_1, x_2, \\ldots, x_s)_n$ |\n",
    "| ---------------- | --------------------------------------- |\n",
    "| Weyl             | $(\\langle np_1^{1/2}\\}, \\ldots, \\langle np_s^{1/2}\\})$ |\n",
    "| Haber            | $\\left(\\left\\langle\\frac{n(n+1)}{2}p_1^{1/2}\\right\\rangle,\\ldots,\\left\\langle\\frac{n(n+1)}{2}p_s^{1/2}\\right\\rangle\\right)$ |\n",
    "| Niederreiter     | $\\left(\\left\\langle n2^{1/(n+1)}\\right\\rangle,\\ldots,\\left\\langle n2^{s/(n+1)}\\right\\rangle\\right)$ |\n",
    "| Baker            | $(\\langle ne^{r_1}\\rangle,\\ldots,\\langle ne^{r_s}\\rangle)$, $r_j$ rational and distinct |"
   ]
  },
  {
   "cell_type": "code",
   "execution_count": 46,
   "metadata": {},
   "outputs": [
    {
     "data": {
      "text/plain": [
       "203122"
      ]
     },
     "execution_count": 46,
     "metadata": {},
     "output_type": "execute_result"
    }
   ],
   "source": [
    "# Download and save the data file NumInt_ComparisonWHNB1000.png\n",
    "url = ('https://raw.githubusercontent.com/rickecon/Notebooks/' +\n",
    "       'master/NumIntegr/images/NumInt_ComparisonWHNB1000.png')\n",
    "image_file = requests.get(url, allow_redirects=True)\n",
    "open('NumInt_ComparisonWHNB1000.png', 'wb').write(image_file.content)\n",
    "#Image('NumInt_ComparisonWHNB1000.png')"
   ]
  },
  {
   "cell_type": "markdown",
   "metadata": {},
   "source": [
    "A key distinction between quasirandom sequences and pseudorandom sequences is that quasirandom sequences do not \"look like\" random numbers. As can be seen in the figures above, they generally display quite obvious patterns. From the outset, quasirandom sequences are chosen so as to have low discrepancy, and are not encumbered by any other requirements of random numbers.\n",
    "\n",
    "However, equidistribution is a rather weak criterion to express the idea that a sequence is uniform. Even though the discrepancy approaches zero as $n$ approaches infinity, the Weyl sequence in the figure above shows how there will often be large gaps for small $n$. An alternative approach is to use low-discrepancy sequences. The goal of a low-discrepancy sequence is to minimize the star-discrepancy of every subsequence. In contrast to equidistributed sequences, the algorithms to generate these sequences take into account the total number of points desired so that maximum uniformity is achieved for every subsequence, and not just in the limit.\n",
    "\n",
    "Halton sequences describe a class of low-discrepancy multidimensional sequences that fill the interval $[0,1)$. To construct a Halton sequence, begin with a consecutive sequence of positive integers of length $N$, for example $n=1,2,\\ldots,N$. Now choose any prime number $p$ and convert each integer $n$ into its representation in the base $p$ number system.  For multiple dimensions, repeat the process with a different prime $p$. Then reflect the base $p$ representation of each integer about the decimal point to obtain a number in the interval $[0,1)$.\n",
    "\n",
    "Many other techniques exist for creating low-discrepancy sequences. Faure' sequences are permutations of Halton sequences. Sobol sequences are a reordering of Halton sequences. Other methods include $(t,m,s)$-Nets and the method of good lattice points. Niederreiter (1978) is a good resource on low-discrepancy sequences in quasi-Monte Carlo methods.\n",
    "\n",
    "Quasi-Monte Carlo methods do far better asymptotically than any Monte Carlo method for many problems. With $N$ points in $s$ dimensions, quasi-Monte Carlo techniques have a worst-case convergence rate of $O \\left( \\frac{\\left(  \\log N\\right) ^s}{N} \\right)$ as opposed to $O \\left( \\frac{1}{\\sqrt{N}} \\right)$ for standard Monte Carlo techniques.  However, standard Monte Carlo integration is easier to implement properly and is generally sufficient for most purposes."
   ]
  },
  {
   "cell_type": "markdown",
   "metadata": {},
   "source": [
    "### 4.3. Exercises\n"
   ]
  },
  {
   "cell_type": "markdown",
   "metadata": {},
   "source": [
    "**Exercise 4.1.** Use Monte Carlo integration to approximate the value of $\\pi$. Define a function in that takes as arguments a function $g(\\mathbf{x})$ of a vector of variables $\\mathbf{x}$, the domain $\\Omega$ of $\\mathbf{x}$, and the number of random draws $N$ and returns the Monte Carlo approximation of the integral $\\int_\\Omega g(\\mathbf{x}) d\\mathbf{x}$. Let $\\Omega$ be a generalized rectangle--width $x$ and height $y$. In order to approximate $\\pi$, let the functional form of the anonymous function be $g(x,y)$ from Section 4.1 with domain $\\Omega = [-1,1]\\times[-1,1]$. What is the smallest number of random draws $N$ from $\\Omega$ that matches the true value of $\\pi$ to the 4th decimal 3.1415? Set the random seed in your uniform random number generator to 25. This will make the correct answer consistent across submissions."
   ]
  },
  {
   "cell_type": "code",
   "execution_count": 13,
   "metadata": {},
   "outputs": [],
   "source": [
    "np.random.seed=25\n",
    "def MC(g,omega,N):\n",
    "    x_l,x_r=omega[0][0],omega[0][1]\n",
    "    y_l,y_r=omega[1][0],omega[1][1]\n",
    "    xran=np.random.uniform(x_l,x_r,N)\n",
    "    yran=np.random.uniform(y_l,y_r,N)\n",
    "    arr=[g(xran[i],yran[i]) for i in range(N)]\n",
    "    inside=sum(arr)\n",
    "    area=(x_r-x_l)*(y_r-y_l)\n",
    "    return area * inside / N"
   ]
  },
  {
   "cell_type": "code",
   "execution_count": 14,
   "metadata": {},
   "outputs": [
    {
     "data": {
      "text/plain": [
       "3.1504"
      ]
     },
     "execution_count": 14,
     "metadata": {},
     "output_type": "execute_result"
    }
   ],
   "source": [
    "omega=np.array([[-1,1],[-1,1]])\n",
    "def g(x,y):\n",
    "    if x**2+y**2<1:\n",
    "        return 1\n",
    "    else:\n",
    "        return 0\n",
    "MC(g,omega,2500)"
   ]
  },
  {
   "cell_type": "code",
   "execution_count": 15,
   "metadata": {},
   "outputs": [
    {
     "name": "stdout",
     "output_type": "stream",
     "text": [
      "Smallest number of random draws N from Ω:  615\n"
     ]
    }
   ],
   "source": [
    "i=1\n",
    "while round(MC(g,omega,i),4)!=3.1415:\n",
    "     i+=1\n",
    "else:\n",
    "     print(\"Smallest number of random draws N from Ω: \",i)"
   ]
  },
  {
   "cell_type": "code",
   "execution_count": 17,
   "metadata": {},
   "outputs": [
    {
     "data": {
      "image/png": "[encoded data removed]",
      "text/plain": [
       "<Figure size 432x288 with 1 Axes>"
      ]
     },
     "metadata": {
      "needs_background": "light"
     },
     "output_type": "display_data"
    }
   ],
   "source": [
    "#Extra: The Monte Carlo approximation gets closer to pi when N gets larger\n",
    "xvec=np.linspace(1, 3000, num=100)\n",
    "yvec=[MC(g,omega,int(i)) for i in xvec]\n",
    "plt.scatter(xvec,yvec)\n",
    "plt.plot(xvec,[3.1415]*len(xvec))\n",
    "plt.show()"
   ]
  },
  {
   "cell_type": "markdown",
   "metadata": {
    "collapsed": true
   },
   "source": [
    "__ Exercise 4.2__. Define a function in Python that returns the $n$-th element of a $d$-dimensional equidistributed sequence. It should have support for the four sequences in the Table in Section 4.2."
   ]
  },
  {
   "cell_type": "code",
   "execution_count": 19,
   "metadata": {},
   "outputs": [],
   "source": [
    "def isPrime(n):\n",
    "    '''\n",
    "    --------------------------------------------------------------------\n",
    "    This function returns a boolean indicating whether an integer n is a\n",
    "    prime number\n",
    "    --------------------------------------------------------------------\n",
    "    INPUTS:\n",
    "    n = scalar, any scalar value\n",
    "\n",
    "    OTHER FUNCTIONS AND FILES CALLED BY THIS FUNCTION: None\n",
    "\n",
    "    OBJECTS CREATED WITHIN FUNCTION:\n",
    "    i = integer in [2, sqrt(n)]\n",
    "\n",
    "    FILES CREATED BY THIS FUNCTION: None\n",
    "\n",
    "    RETURN: boolean\n",
    "    --------------------------------------------------------------------\n",
    "    '''\n",
    "    for i in range(2, int(np.sqrt(n) + 1)):\n",
    "        if n % i == 0:\n",
    "            return False\n",
    "\n",
    "    return True"
   ]
  },
  {
   "cell_type": "code",
   "execution_count": 20,
   "metadata": {},
   "outputs": [
    {
     "data": {
      "text/plain": [
       "(False, True, False)"
      ]
     },
     "execution_count": 20,
     "metadata": {},
     "output_type": "execute_result"
    }
   ],
   "source": [
    "isPrime(99),isPrime(3), isPrime(4)"
   ]
  },
  {
   "cell_type": "code",
   "execution_count": 20,
   "metadata": {
    "collapsed": true
   },
   "outputs": [],
   "source": [
    "def primes_ascend(N, min_val=2):\n",
    "    '''\n",
    "    --------------------------------------------------------------------\n",
    "    This function generates an ordered sequence of N consecutive prime\n",
    "    numbers, the smallest of which is greater than or equal to 1 using\n",
    "    the Sieve of Eratosthenes algorithm.\n",
    "    (https://en.wikipedia.org/wiki/Sieve_of_Eratosthenes)\n",
    "    --------------------------------------------------------------------\n",
    "    INPUTS:\n",
    "    N       = integer, number of elements in sequence of consecutive\n",
    "              prime numbers\n",
    "    min_val = scalar >= 2, the smallest prime number in the consecutive\n",
    "              sequence must be greater-than-or-equal-to this value\n",
    "\n",
    "    OTHER FUNCTIONS AND FILES CALLED BY THIS FUNCTION:\n",
    "        isPrime()\n",
    "\n",
    "    OBJECTS CREATED WITHIN FUNCTION:\n",
    "    primes_vec     = (N,) vector, consecutive prime numbers greater than\n",
    "                     min_val\n",
    "    MinIsEven      = boolean, =True if min_val is even, =False otherwise\n",
    "    MinIsGrtrThn2  = boolean, =True if min_val is\n",
    "                     greater-than-or-equal-to 2, =False otherwise\n",
    "    curr_prime_ind = integer >= 0, running count of prime numbers found\n",
    "\n",
    "    FILES CREATED BY THIS FUNCTION: None\n",
    "\n",
    "    RETURN: primes_vec\n",
    "    --------------------------------------------------------------------\n",
    "    '''\n",
    "    primes_vec = np.zeros(N, dtype=int)\n",
    "    MinIsEven = 1 - min_val % 2\n",
    "    MinIsGrtrThn2 = min_val > 2\n",
    "    curr_prime_ind = 0\n",
    "    if not MinIsGrtrThn2:\n",
    "        i = 2\n",
    "        curr_prime_ind += 1\n",
    "        primes_vec[0] = i\n",
    "    i = min(3, min_val + (MinIsEven * 1))\n",
    "    while curr_prime_ind < N:\n",
    "        if isPrime(i):\n",
    "            curr_prime_ind += 1\n",
    "            primes_vec[curr_prime_ind - 1] = i\n",
    "        i += 2\n",
    "\n",
    "    return primes_vec"
   ]
  },
  {
   "cell_type": "code",
   "execution_count": 53,
   "metadata": {},
   "outputs": [
    {
     "data": {
      "text/plain": [
       "array([1.41421356, 1.73205081, 2.23606798, 2.64575131, 3.31662479,\n",
       "       3.60555128, 4.12310563, 4.35889894, 4.79583152, 5.38516481,\n",
       "       5.56776436, 6.08276253, 6.40312424, 6.55743852, 6.8556546 ,\n",
       "       7.28010989, 7.68114575, 7.81024968, 8.18535277, 8.42614977])"
      ]
     },
     "execution_count": 53,
     "metadata": {},
     "output_type": "execute_result"
    }
   ],
   "source": [
    "a=primes_ascend(20, min_val=2)\n",
    "np.sqrt(a)"
   ]
  },
  {
   "cell_type": "code",
   "execution_count": 22,
   "metadata": {
    "collapsed": true
   },
   "outputs": [],
   "source": [
    "import math\n",
    "\n",
    "def equidis(n,d,seq_type=('Weyl','Haber','Niederreiter','Baker')):\n",
    "    '''\n",
    "    returns the n -th element of a d-dimensional equidistributed sequence. \n",
    "    It has support for the four sequences in the Table in Section 4.2.\n",
    "    \n",
    "    modf() returns the fractional and integer parts of x in a two-item tuple.\n",
    "    '''\n",
    "    pri=primes_ascend(d, min_val=2)\n",
    "    if seq_type=='Weyl':\n",
    "        lis1=[math.modf(i)[0] for i in np.sqrt(pri)*n]\n",
    "        return lis1\n",
    "    elif seq_type=='Haber':\n",
    "        lis2=[math.modf(i)[0] for i in np.sqrt(pri)*n*(n+1)/2]\n",
    "        return lis2\n",
    "    elif seq_type=='Niederreiter':\n",
    "        exp=[i/(n+1) for i in range(1,d+1)]\n",
    "        lis3=[math.modf(i)[0] for i in n*np.power(2,exp)]\n",
    "        return lis3\n",
    "    elif seq_type=='Baker':\n",
    "        rational=[1/i for i in range(1,d+1)]\n",
    "        lis4=[math.modf(i)[0] for i in n*np.exp(rational)]\n",
    "        return lis4\n",
    "    else:\n",
    "        return NotImplementedError"
   ]
  },
  {
   "cell_type": "code",
   "execution_count": 54,
   "metadata": {},
   "outputs": [
    {
     "data": {
      "text/plain": [
       "[0.142135623730951, 0.32050807568877104, 0.36067977499789805]"
      ]
     },
     "execution_count": 54,
     "metadata": {},
     "output_type": "execute_result"
    }
   ],
   "source": [
    "equidis(10,3,'Weyl')"
   ]
  },
  {
   "cell_type": "code",
   "execution_count": 55,
   "metadata": {},
   "outputs": [
    {
     "data": {
      "text/plain": [
       "[0.7817459305202306, 0.2627944162882443, 0.9837387624884428]"
      ]
     },
     "execution_count": 55,
     "metadata": {},
     "output_type": "execute_result"
    }
   ],
   "source": [
    "equidis(10,3,'Haber')"
   ]
  },
  {
   "cell_type": "code",
   "execution_count": 56,
   "metadata": {},
   "outputs": [
    {
     "data": {
      "text/plain": [
       "[0.6504108943996272, 0.3431252219546259, 0.08089444404447121]"
      ]
     },
     "execution_count": 56,
     "metadata": {},
     "output_type": "execute_result"
    }
   ],
   "source": [
    "equidis(10,3,'Niederreiter')"
   ]
  },
  {
   "cell_type": "code",
   "execution_count": 57,
   "metadata": {},
   "outputs": [
    {
     "data": {
      "text/plain": [
       "[0.18281828459045002, 0.4872127070012837, 0.9561242508608956]"
      ]
     },
     "execution_count": 57,
     "metadata": {},
     "output_type": "execute_result"
    }
   ],
   "source": [
    "equidis(10,3,'Baker')"
   ]
  },
  {
   "cell_type": "markdown",
   "metadata": {},
   "source": [
    "**Exercise 4.3** Repeat Exercise 4.1 to approximate the value of $\\pi$, this time using quasi-Monte Carlo integration.  You will need to appropriately scale the equidistributed sequences. Compare the rates of convergence. What is the smallest number of random draws $N$ from $\\Omega$ for the quasi-Monte Carlo integration that matches the true value of $\\pi$ to the 4th decimal 3.1415?. Set the seed in your uniform random number generator to 25. This will make the correct answer consistent across submissions."
   ]
  },
  {
   "cell_type": "code",
   "execution_count": 58,
   "metadata": {
    "collapsed": true
   },
   "outputs": [],
   "source": [
    "np.random.seed=25\n",
    "omega=np.array([[-1,1],[-1,1]])\n",
    "def g(x,y):\n",
    "    if x**2+y**2<1:\n",
    "        return 1\n",
    "    else:\n",
    "        return 0\n",
    "def QMC(g,omega,N,seq_type):\n",
    "    '''\n",
    "    Function for quasi-Monte Carlo integration\n",
    "    '''\n",
    "    x_l,x_r=omega[0][0],omega[0][1]\n",
    "    y_l,y_r=omega[1][0],omega[1][1]\n",
    "    \n",
    "    if seq_type=='Weyl':\n",
    "        xran=[2*np.array(equidis(i,2,'Weyl'))[0]-1 for i in range(N)] \n",
    "        yran=[2*np.array(equidis(i,2,'Weyl'))[1]-1 for i in range(N)]\n",
    "    elif seq_type=='Haber':\n",
    "        xran=[2*np.array(equidis(i,2,'Haber'))[0]-1 for i in range(N)] \n",
    "        yran=[2*np.array(equidis(i,2,'Haber'))[1]-1 for i in range(N)]\n",
    "    elif seq_type=='Niederreiter':\n",
    "        xran=[2*np.array(equidis(i,2,'Niederreiter'))[0]-1 for i in range(N)] \n",
    "        yran=[2*np.array(equidis(i,2,'Niederreiter'))[1]-1 for i in range(N)]\n",
    "    elif seq_type=='Baker':\n",
    "        xran=[2*np.array(equidis(i,2,'Baker'))[0]-1 for i in range(N)] \n",
    "        yran=[2*np.array(equidis(i,2,'Baker'))[1]-1 for i in range(N)]\n",
    "    else:\n",
    "        raise NotImplementedError\n",
    "\n",
    "    arr=[g(xran[i],yran[i]) for i in range(N)]\n",
    "    inside=sum(arr)\n",
    "    area=(x_r-x_l)*(y_r-y_l)\n",
    "    return area * inside / N"
   ]
  },
  {
   "cell_type": "code",
   "execution_count": 59,
   "metadata": {},
   "outputs": [
    {
     "data": {
      "text/plain": [
       "3.12"
      ]
     },
     "execution_count": 59,
     "metadata": {},
     "output_type": "execute_result"
    }
   ],
   "source": [
    "QMC(g,omega,500,'Weyl')"
   ]
  },
  {
   "cell_type": "code",
   "execution_count": 60,
   "metadata": {},
   "outputs": [
    {
     "data": {
      "text/plain": [
       "3.144"
      ]
     },
     "execution_count": 60,
     "metadata": {},
     "output_type": "execute_result"
    }
   ],
   "source": [
    "QMC(g,omega,500,'Haber')"
   ]
  },
  {
   "cell_type": "code",
   "execution_count": 61,
   "metadata": {},
   "outputs": [
    {
     "data": {
      "text/plain": [
       "3.984"
      ]
     },
     "execution_count": 61,
     "metadata": {},
     "output_type": "execute_result"
    }
   ],
   "source": [
    "QMC(g,omega,500,'Niederreiter')"
   ]
  },
  {
   "cell_type": "code",
   "execution_count": 62,
   "metadata": {},
   "outputs": [
    {
     "data": {
      "text/plain": [
       "3.144"
      ]
     },
     "execution_count": 62,
     "metadata": {},
     "output_type": "execute_result"
    }
   ],
   "source": [
    "QMC(g,omega,500,'Baker')"
   ]
  },
  {
   "cell_type": "code",
   "execution_count": 64,
   "metadata": {},
   "outputs": [
    {
     "name": "stdout",
     "output_type": "stream",
     "text": [
      "Doesn't converge to 3.1415 in finite random draws\n",
      "Smallest number of random draws N with Weyl sequence:  1230\n"
     ]
    }
   ],
   "source": [
    "#'Weyl'\n",
    "i=1\n",
    "while round(QMC(g,omega,i,'Weyl'),4)!=3.1415:\n",
    "     i+=1\n",
    "     if i==1000:\n",
    "        print(\"Doesn't converge to 3.1415 in finite random draws\")\n",
    "else:\n",
    "     print(\"Smallest number of random draws N with Weyl sequence: \",i)"
   ]
  },
  {
   "cell_type": "code",
   "execution_count": 33,
   "metadata": {},
   "outputs": [
    {
     "name": "stdout",
     "output_type": "stream",
     "text": [
      "Smallest number of random draws N with Haber sequence:  2064\n"
     ]
    }
   ],
   "source": [
    "#'Haber'\n",
    "i=1\n",
    "while round(QMC(g,omega,i,'Haber'),4)!=3.1415:\n",
    "     i+=1\n",
    "     if i==100000:\n",
    "        print(\"Doesn't converge to 3.1415 in finite random draws\")\n",
    "else:\n",
    "     print(\"Smallest number of random draws N with Haber sequence: \",i)"
   ]
  },
  {
   "cell_type": "code",
   "execution_count": 34,
   "metadata": {},
   "outputs": [
    {
     "ename": "KeyboardInterrupt",
     "evalue": "",
     "output_type": "error",
     "traceback": [
      "\u001b[1;31m---------------------------------------------------------------------------\u001b[0m",
      "\u001b[1;31mKeyboardInterrupt\u001b[0m                         Traceback (most recent call last)",
      "\u001b[1;32m<ipython-input-34-5503a69ce3fe>\u001b[0m in \u001b[0;36m<module>\u001b[1;34m()\u001b[0m\n\u001b[0;32m      1\u001b[0m \u001b[1;31m#'Niederreiter'\u001b[0m\u001b[1;33m\u001b[0m\u001b[1;33m\u001b[0m\u001b[1;33m\u001b[0m\u001b[0m\n\u001b[0;32m      2\u001b[0m \u001b[0mi\u001b[0m\u001b[1;33m=\u001b[0m\u001b[1;36m1\u001b[0m\u001b[1;33m\u001b[0m\u001b[1;33m\u001b[0m\u001b[0m\n\u001b[1;32m----> 3\u001b[1;33m \u001b[1;32mwhile\u001b[0m \u001b[0mround\u001b[0m\u001b[1;33m(\u001b[0m\u001b[0mQMC\u001b[0m\u001b[1;33m(\u001b[0m\u001b[0mg\u001b[0m\u001b[1;33m,\u001b[0m\u001b[0momega\u001b[0m\u001b[1;33m,\u001b[0m\u001b[0mi\u001b[0m\u001b[1;33m,\u001b[0m\u001b[1;34m'Niederreiter'\u001b[0m\u001b[1;33m)\u001b[0m\u001b[1;33m,\u001b[0m\u001b[1;36m4\u001b[0m\u001b[1;33m)\u001b[0m\u001b[1;33m!=\u001b[0m\u001b[1;36m3.1415\u001b[0m\u001b[1;33m:\u001b[0m\u001b[1;33m\u001b[0m\u001b[1;33m\u001b[0m\u001b[0m\n\u001b[0m\u001b[0;32m      4\u001b[0m      \u001b[0mi\u001b[0m\u001b[1;33m+=\u001b[0m\u001b[1;36m1\u001b[0m\u001b[1;33m\u001b[0m\u001b[1;33m\u001b[0m\u001b[0m\n\u001b[0;32m      5\u001b[0m      \u001b[1;32mif\u001b[0m \u001b[0mi\u001b[0m\u001b[1;33m==\u001b[0m\u001b[1;36m10000\u001b[0m\u001b[1;33m:\u001b[0m\u001b[1;33m\u001b[0m\u001b[1;33m\u001b[0m\u001b[0m\n",
      "\u001b[1;32m<ipython-input-27-16beca13144e>\u001b[0m in \u001b[0;36mQMC\u001b[1;34m(g, omega, N, seq_type)\u001b[0m\n\u001b[0;32m     20\u001b[0m         \u001b[0myran\u001b[0m\u001b[1;33m=\u001b[0m\u001b[1;33m[\u001b[0m\u001b[1;36m2\u001b[0m\u001b[1;33m*\u001b[0m\u001b[0mnp\u001b[0m\u001b[1;33m.\u001b[0m\u001b[0marray\u001b[0m\u001b[1;33m(\u001b[0m\u001b[0mequidis\u001b[0m\u001b[1;33m(\u001b[0m\u001b[0mi\u001b[0m\u001b[1;33m,\u001b[0m\u001b[1;36m2\u001b[0m\u001b[1;33m,\u001b[0m\u001b[1;34m'Haber'\u001b[0m\u001b[1;33m)\u001b[0m\u001b[1;33m)\u001b[0m\u001b[1;33m[\u001b[0m\u001b[1;36m1\u001b[0m\u001b[1;33m]\u001b[0m\u001b[1;33m-\u001b[0m\u001b[1;36m1\u001b[0m \u001b[1;32mfor\u001b[0m \u001b[0mi\u001b[0m \u001b[1;32min\u001b[0m \u001b[0mrange\u001b[0m\u001b[1;33m(\u001b[0m\u001b[0mN\u001b[0m\u001b[1;33m)\u001b[0m\u001b[1;33m]\u001b[0m\u001b[1;33m\u001b[0m\u001b[1;33m\u001b[0m\u001b[0m\n\u001b[0;32m     21\u001b[0m     \u001b[1;32melif\u001b[0m \u001b[0mseq_type\u001b[0m\u001b[1;33m==\u001b[0m\u001b[1;34m'Niederreiter'\u001b[0m\u001b[1;33m:\u001b[0m\u001b[1;33m\u001b[0m\u001b[1;33m\u001b[0m\u001b[0m\n\u001b[1;32m---> 22\u001b[1;33m         \u001b[0mxran\u001b[0m\u001b[1;33m=\u001b[0m\u001b[1;33m[\u001b[0m\u001b[1;36m2\u001b[0m\u001b[1;33m*\u001b[0m\u001b[0mnp\u001b[0m\u001b[1;33m.\u001b[0m\u001b[0marray\u001b[0m\u001b[1;33m(\u001b[0m\u001b[0mequidis\u001b[0m\u001b[1;33m(\u001b[0m\u001b[0mi\u001b[0m\u001b[1;33m,\u001b[0m\u001b[1;36m2\u001b[0m\u001b[1;33m,\u001b[0m\u001b[1;34m'Niederreiter'\u001b[0m\u001b[1;33m)\u001b[0m\u001b[1;33m)\u001b[0m\u001b[1;33m[\u001b[0m\u001b[1;36m0\u001b[0m\u001b[1;33m]\u001b[0m\u001b[1;33m-\u001b[0m\u001b[1;36m1\u001b[0m \u001b[1;32mfor\u001b[0m \u001b[0mi\u001b[0m \u001b[1;32min\u001b[0m \u001b[0mrange\u001b[0m\u001b[1;33m(\u001b[0m\u001b[0mN\u001b[0m\u001b[1;33m)\u001b[0m\u001b[1;33m]\u001b[0m\u001b[1;33m\u001b[0m\u001b[1;33m\u001b[0m\u001b[0m\n\u001b[0m\u001b[0;32m     23\u001b[0m         \u001b[0myran\u001b[0m\u001b[1;33m=\u001b[0m\u001b[1;33m[\u001b[0m\u001b[1;36m2\u001b[0m\u001b[1;33m*\u001b[0m\u001b[0mnp\u001b[0m\u001b[1;33m.\u001b[0m\u001b[0marray\u001b[0m\u001b[1;33m(\u001b[0m\u001b[0mequidis\u001b[0m\u001b[1;33m(\u001b[0m\u001b[0mi\u001b[0m\u001b[1;33m,\u001b[0m\u001b[1;36m2\u001b[0m\u001b[1;33m,\u001b[0m\u001b[1;34m'Niederreiter'\u001b[0m\u001b[1;33m)\u001b[0m\u001b[1;33m)\u001b[0m\u001b[1;33m[\u001b[0m\u001b[1;36m1\u001b[0m\u001b[1;33m]\u001b[0m\u001b[1;33m-\u001b[0m\u001b[1;36m1\u001b[0m \u001b[1;32mfor\u001b[0m \u001b[0mi\u001b[0m \u001b[1;32min\u001b[0m \u001b[0mrange\u001b[0m\u001b[1;33m(\u001b[0m\u001b[0mN\u001b[0m\u001b[1;33m)\u001b[0m\u001b[1;33m]\u001b[0m\u001b[1;33m\u001b[0m\u001b[1;33m\u001b[0m\u001b[0m\n\u001b[0;32m     24\u001b[0m     \u001b[1;32melif\u001b[0m \u001b[0mseq_type\u001b[0m\u001b[1;33m==\u001b[0m\u001b[1;34m'Baker'\u001b[0m\u001b[1;33m:\u001b[0m\u001b[1;33m\u001b[0m\u001b[1;33m\u001b[0m\u001b[0m\n",
      "\u001b[1;32m<ipython-input-27-16beca13144e>\u001b[0m in \u001b[0;36m<listcomp>\u001b[1;34m(.0)\u001b[0m\n\u001b[0;32m     20\u001b[0m         \u001b[0myran\u001b[0m\u001b[1;33m=\u001b[0m\u001b[1;33m[\u001b[0m\u001b[1;36m2\u001b[0m\u001b[1;33m*\u001b[0m\u001b[0mnp\u001b[0m\u001b[1;33m.\u001b[0m\u001b[0marray\u001b[0m\u001b[1;33m(\u001b[0m\u001b[0mequidis\u001b[0m\u001b[1;33m(\u001b[0m\u001b[0mi\u001b[0m\u001b[1;33m,\u001b[0m\u001b[1;36m2\u001b[0m\u001b[1;33m,\u001b[0m\u001b[1;34m'Haber'\u001b[0m\u001b[1;33m)\u001b[0m\u001b[1;33m)\u001b[0m\u001b[1;33m[\u001b[0m\u001b[1;36m1\u001b[0m\u001b[1;33m]\u001b[0m\u001b[1;33m-\u001b[0m\u001b[1;36m1\u001b[0m \u001b[1;32mfor\u001b[0m \u001b[0mi\u001b[0m \u001b[1;32min\u001b[0m \u001b[0mrange\u001b[0m\u001b[1;33m(\u001b[0m\u001b[0mN\u001b[0m\u001b[1;33m)\u001b[0m\u001b[1;33m]\u001b[0m\u001b[1;33m\u001b[0m\u001b[1;33m\u001b[0m\u001b[0m\n\u001b[0;32m     21\u001b[0m     \u001b[1;32melif\u001b[0m \u001b[0mseq_type\u001b[0m\u001b[1;33m==\u001b[0m\u001b[1;34m'Niederreiter'\u001b[0m\u001b[1;33m:\u001b[0m\u001b[1;33m\u001b[0m\u001b[1;33m\u001b[0m\u001b[0m\n\u001b[1;32m---> 22\u001b[1;33m         \u001b[0mxran\u001b[0m\u001b[1;33m=\u001b[0m\u001b[1;33m[\u001b[0m\u001b[1;36m2\u001b[0m\u001b[1;33m*\u001b[0m\u001b[0mnp\u001b[0m\u001b[1;33m.\u001b[0m\u001b[0marray\u001b[0m\u001b[1;33m(\u001b[0m\u001b[0mequidis\u001b[0m\u001b[1;33m(\u001b[0m\u001b[0mi\u001b[0m\u001b[1;33m,\u001b[0m\u001b[1;36m2\u001b[0m\u001b[1;33m,\u001b[0m\u001b[1;34m'Niederreiter'\u001b[0m\u001b[1;33m)\u001b[0m\u001b[1;33m)\u001b[0m\u001b[1;33m[\u001b[0m\u001b[1;36m0\u001b[0m\u001b[1;33m]\u001b[0m\u001b[1;33m-\u001b[0m\u001b[1;36m1\u001b[0m \u001b[1;32mfor\u001b[0m \u001b[0mi\u001b[0m \u001b[1;32min\u001b[0m \u001b[0mrange\u001b[0m\u001b[1;33m(\u001b[0m\u001b[0mN\u001b[0m\u001b[1;33m)\u001b[0m\u001b[1;33m]\u001b[0m\u001b[1;33m\u001b[0m\u001b[1;33m\u001b[0m\u001b[0m\n\u001b[0m\u001b[0;32m     23\u001b[0m         \u001b[0myran\u001b[0m\u001b[1;33m=\u001b[0m\u001b[1;33m[\u001b[0m\u001b[1;36m2\u001b[0m\u001b[1;33m*\u001b[0m\u001b[0mnp\u001b[0m\u001b[1;33m.\u001b[0m\u001b[0marray\u001b[0m\u001b[1;33m(\u001b[0m\u001b[0mequidis\u001b[0m\u001b[1;33m(\u001b[0m\u001b[0mi\u001b[0m\u001b[1;33m,\u001b[0m\u001b[1;36m2\u001b[0m\u001b[1;33m,\u001b[0m\u001b[1;34m'Niederreiter'\u001b[0m\u001b[1;33m)\u001b[0m\u001b[1;33m)\u001b[0m\u001b[1;33m[\u001b[0m\u001b[1;36m1\u001b[0m\u001b[1;33m]\u001b[0m\u001b[1;33m-\u001b[0m\u001b[1;36m1\u001b[0m \u001b[1;32mfor\u001b[0m \u001b[0mi\u001b[0m \u001b[1;32min\u001b[0m \u001b[0mrange\u001b[0m\u001b[1;33m(\u001b[0m\u001b[0mN\u001b[0m\u001b[1;33m)\u001b[0m\u001b[1;33m]\u001b[0m\u001b[1;33m\u001b[0m\u001b[1;33m\u001b[0m\u001b[0m\n\u001b[0;32m     24\u001b[0m     \u001b[1;32melif\u001b[0m \u001b[0mseq_type\u001b[0m\u001b[1;33m==\u001b[0m\u001b[1;34m'Baker'\u001b[0m\u001b[1;33m:\u001b[0m\u001b[1;33m\u001b[0m\u001b[1;33m\u001b[0m\u001b[0m\n",
      "\u001b[1;31mKeyboardInterrupt\u001b[0m: "
     ]
    }
   ],
   "source": [
    "#'Niederreiter'\n",
    "i=1\n",
    "while round(QMC(g,omega,i,'Niederreiter'),4)!=3.1415:\n",
    "     i+=1\n",
    "     if i==10000:\n",
    "        print(\"Doesn't converge to 3.1415 in finite random draws\")\n",
    "else:\n",
    "     print(\"Smallest number of random draws N with Niederreiter sequence: \",i)"
   ]
  },
  {
   "cell_type": "code",
   "execution_count": null,
   "metadata": {},
   "outputs": [],
   "source": [
    "#'Baker'\n",
    "i=1\n",
    "while round(QMC(g,omega,i,'Baker'),4)!=3.1415:\n",
    "     i+=1\n",
    "     if i==1000:\n",
    "        print(\"Doesn't converge to 3.1415 in finite random draws\")\n",
    "else:\n",
    "     print(\"Smallest number of random draws N with Baker sequence: \",i)"
   ]
  },
  {
   "cell_type": "markdown",
   "metadata": {},
   "source": [
    "#### Compare the rates of convergence\n",
    "When using quasi-Monte Carlo  at given random seed(25), the ranking of rate of approximation is: convergence:\n",
    "\n",
    "Top1.Baker sequence\n",
    "\n",
    "Top2. Weyl sequence\n",
    "\n",
    "Top3. Haber sequence\n",
    "\n",
    "Top4. Niederreiter sequence"
   ]
  },
  {
   "cell_type": "markdown",
   "metadata": {},
   "source": [
    "## 5. Sparse Grids\n",
    "Put Sparse Grids information here."
   ]
  },
  {
   "cell_type": "markdown",
   "metadata": {},
   "source": [
    "## 6. Discrete Markov Approximation of Continuous AR(1) Process\n",
    "Suppose you have a random shock $z_t$ in your model that has some persistence according to the following AR(1) process.\n",
    "\\begin{equation}\\label{NumInt_EqAR1}\n",
    "  z_{t+1} = \\rho z_{t} + (1-\\rho)\\mu + \\varepsilon_{t+1} \\quad\\text{where}\\quad \\varepsilon_t\\sim N(0,\\sigma) \\quad\\text{and}\\quad \\rho\\in(0,1)\n",
    "\\end{equation}\n",
    "The expected value of $z_{t+1}$ is conditional on the current realization of the shock $E[z_{t+1}|z_t] = \\rho z_{t} + (1-\\rho)\\mu$ but the variance of $z_{t+1}$ is unconditional $Var[z_{t+1}] = \\sigma^2$. The AR(1) process in this equation generates a variable that fluctuates around its mean $\\mu$, and the expected value of the variable tomorrow $E[z_{t+1}|z_t]$ is some convex combination of the variable today $z_t$ and the mean $\\mu$.\n",
    "\n",
    "Typical examples of these types of shocks in economics are shocks to ability, health status, and productivity shocks--all of which exhibit persistence or dependence on recent values. If the shock must be strictly positive, as is the case with productivity shocks, the variable $z_t$ is simply exponentiated.\n",
    "\\begin{equation}\\label{NumInt_EqStochProd}\n",
    "  Y_t = A_t K_t^\\alpha L_t^{1-\\alpha} \\quad\\text{where}\\quad A_t = e^{z_t}\n",
    "\\end{equation}\n",
    "Notice that the variable $A_t$ is lognormally distributed $A_t\\sim LN\\bigl(\\rho z_{t-1} + (1-\\rho)\\mu,\\sigma\\bigr)$ because $\\log(A_t)=z_t$ and $z_t\\sim N\\bigl(\\rho z_{t-1} + (1-\\rho)\\mu,\\sigma\\bigr)$. You made a discretized approximation of the i.i.d. (no persistence) version of this distribution in Exercise 2.3 and estimated average income in the U.S. using it in Exercise 2.4.\n",
    "\n",
    "Tauchen and Hussey (1991) describe a quadrature-based method for producing efficient nodes and probabilities of a discrete first-order Markov process to approximate a continuous AR(1) random variable. Tauchen (1986) details a simpler non-quadrature based method for producing efficient nodes and probabilities of a discrete first-order Markov process to approximate a continuous AR(1) random variable. A classic example of where this discretization is extremely valuable is in the stochastic intertemporal Euler equation from Section 1.\n",
    "\\begin{equation}\\tag{\\ref{NumInt_EqEulEx}}\n",
    "  \\begin{split}\n",
    "    u'(c_t) &^= \\beta E_{z_{t+1}|z_t}\\Bigl[(1+r_{t+1}-\\delta)u'(c_{t+1})\\Bigr] \\\\\n",
    "    \\Rightarrow\\quad u'(c_t) &= \\beta\\int_a^b \\Bigl(1+r_{t+1}(z_{t+1})-\\delta\\Bigr)u'\\Bigl(c_{t+1}(z_{t+1})\\Bigr)f(z_{t+1}|z_t)dz_{t+1}\n",
    "  \\end{split}\n",
    "\\end{equation}\n",
    "The expectation on the right-hand-side of the Euler equation is over $z_{t+1}$ given $z_t$, where $z_{t+1}$ is the AR(1) process described at the beginning of this section. One of the most common nonlinear solution techniques for the functional equations of the dynamic household decision problem characterized by this Euler equation is value function iteration on the following recursive Bellman equation.\n",
    "\\begin{equation}\\label{NumInt_EqBellman}\n",
    "  V(k,z) = \\max_{k'}\\:u(k,z,k') + \\beta E_{z'|z}\\bigl[V(k',z')\\bigr]\n",
    "\\end{equation}\n",
    "\n",
    "The expectation on the right-hand-side of the Bellman equation is simply an integral of the form $E_{z'|z}\\bigl[V(k',z')\\bigr] = \\int_{z'}V(k',z')f(z'|z)dz'$. However, it is difficult to use standard Gaussian quadrature or Monte Carlo integration methods because the value function $V(k',z')$ is often only known at a few points.\n",
    "\n",
    "One solution to this problem is to interpolate or fit some continuous function $\\tilde{V}(k',z')$ to the known points of $V(k',z')$ and then use Gaussian quadrature or Monte Carlo integration to approximate the integral $\\int_{z'}\\tilde{V}(k',z')f(z'|z)dz'$. Heer and Maussner (2008) and Heer and Maussner (2009, p. 237) find that the errors in the extrapolated values of the interpolated function $\\tilde{V}$ beyond the bounds of the known points of $V$ cause the solution to be less accurate than using the Tauchen-Hussey method of approximating $f(z'|z)$ with a discrete first order Markov process."
   ]
  },
  {
   "cell_type": "markdown",
   "metadata": {},
   "source": [
    "## 7. References\n",
    "* Adda, Jerome and Russell Cooper, *Dynamic Economics: Quantitative Methods and Applications*, MIT Press (2003).\n",
    "* Armington, Paul S., \"A Theory of Demand for Products Distinguished by Place of Production,\" IMF Staff Papers, 16:1, March (1969).\n",
    "* Dixit, Avinash K. and Joseph E. Stiglitz, \"Monopolistic Competition and Optimum Product Diversity,\" *American Economic Review*, 67:3, pp. 297-308, June (1977).\n",
    "* Heer, Burkhard and Alfred Maussner, \"Computation of Business Cycle Models: A Comparison of Numerical Methods,\" *Macroeconomic Dynamics*, 12:5, pp.641-663, November (2008).\n",
    "* Heer, Burkhard and Alfred Maussner, *Dynamic General Equilibrium Modeling: Computational Methods and Applications*, 2nd edition, Springer (2009).\n",
    "* Judd, Kenneth L., *Numerical Methods in Economics*, MIT Press, (1998).\n",
    "* Tauchen, George, \"Finite State Markov-chain Approximation to Univariate and Vector Autoregression,\" *Economics Letters*, 20:2, pp. 177-181 (1986).\n",
    "* Tauchen, George and Robert Hussey, \"Quadrature-based Methods for Obtaining Approximate Solutions to Nonlinear Asset Pricing Models,\" *Econometrica*, 59:2, pp. 371-396, March (1991)."
   ]
  }
 ],
 "metadata": {
  "anaconda-cloud": {},
  "kernelspec": {
   "display_name": "Python 3",
   "language": "python",
   "name": "python3"
  },
  "language_info": {
   "codemirror_mode": {
    "name": "ipython",
    "version": 3
   },
   "file_extension": ".py",
   "mimetype": "text/x-python",
   "name": "python",
   "nbconvert_exporter": "python",
   "pygments_lexer": "ipython3",
   "version": "3.7.1"
  }
 },
 "nbformat": 4,
 "nbformat_minor": 1
}
