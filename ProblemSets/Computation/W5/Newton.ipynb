{
 "cells": [
  {
   "cell_type": "markdown",
   "metadata": {},
   "source": [
    "# 12 Newton and Quasi-Newton Methods"
   ]
  },
  {
   "cell_type": "code",
   "execution_count": 40,
   "metadata": {},
   "outputs": [],
   "source": [
    "import pandas as pd\n",
    "import numpy as np \n",
    "from numpy import linalg as la\n",
    "from matplotlib import pyplot as plt\n",
    "import scipy.optimize as opt\n",
    "import time"
   ]
  },
  {
   "cell_type": "markdown",
   "metadata": {},
   "source": [
    "## Problem 1"
   ]
  },
  {
   "cell_type": "code",
   "execution_count": 41,
   "metadata": {},
   "outputs": [],
   "source": [
    "def newton(df, d2f, x0, maxiter=1000, tol=1e-8):\n",
    "    \n",
    "    xk = x0\n",
    "    err = tol + 1\n",
    "    converged = True\n",
    "    iteration = 0\n",
    "    while (err > tol) and (iteration < maxiter):\n",
    "        \n",
    "        zk = la.solve(d2f(xk), df(xk))\n",
    "        xk1 = xk - zk \n",
    "        err = la.norm(df(xk1), np.inf)\n",
    "        xk = xk1\n",
    "        iteration += 1\n",
    "        \n",
    "        if iteration == maxiter:\n",
    "            converged = False\n",
    "            \n",
    "    return xk, converged, iteration        "
   ]
  },
  {
   "cell_type": "code",
   "execution_count": 42,
   "metadata": {},
   "outputs": [
    {
     "data": {
      "text/plain": [
       "(array([1., 1.]), True, 5)"
      ]
     },
     "execution_count": 42,
     "metadata": {},
     "output_type": "execute_result"
    }
   ],
   "source": [
    "f = opt.rosen\n",
    "df = opt.rosen_der\n",
    "d2f = opt.rosen_hess\n",
    "newton(df, d2f, np.array([2,2]))"
   ]
  },
  {
   "cell_type": "code",
   "execution_count": 43,
   "metadata": {},
   "outputs": [
    {
     "name": "stdout",
     "output_type": "stream",
     "text": [
      "Optimization terminated successfully.\n",
      "         Current function value: 0.000000\n",
      "         Iterations: 35\n",
      "         Function evaluations: 42\n",
      "         Gradient evaluations: 42\n"
     ]
    },
    {
     "data": {
      "text/plain": [
       "array([1.00000021, 1.00000045])"
      ]
     },
     "execution_count": 43,
     "metadata": {},
     "output_type": "execute_result"
    }
   ],
   "source": [
    "opt.fmin_bfgs(f=f, x0=[-2,2], fprime=df, maxiter=50)"
   ]
  },
  {
   "cell_type": "code",
   "execution_count": null,
   "metadata": {},
   "outputs": [],
   "source": []
  },
  {
   "cell_type": "markdown",
   "metadata": {},
   "source": [
    "## Problem 2"
   ]
  },
  {
   "cell_type": "code",
   "execution_count": 44,
   "metadata": {},
   "outputs": [],
   "source": [
    "def BFGS(df, x0, maxiter=1000, tol=1e-8):\n",
    "    \n",
    "    n = len(x0)\n",
    "    Ak_inv = np.eye(n)\n",
    "    \n",
    "    xk = x0\n",
    "    err = tol + 1\n",
    "    converged = True\n",
    "    iteration = 0\n",
    "    while (err > tol) and (iteration < maxiter):\n",
    "        \n",
    "        xk1 = xk - Ak_inv @ df(xk).T\n",
    "        \n",
    "        sk = xk1 - xk\n",
    "        yk = df(xk1).T - df(xk).T\n",
    "        sk_dot_yk = sk.T @ yk\n",
    "        \n",
    "        if (sk_dot_yk)**2 == 0:\n",
    "            return x0, False, maxiter\n",
    "                \n",
    "        term1 = Ak_inv\n",
    "        term2 = ( (sk_dot_yk + yk.T @ Ak_inv @ yk) * np.outer(sk, sk) ) / (sk_dot_yk) ** 2\n",
    "        term3 = (Ak_inv @ np.outer(yk, sk.T) + np.outer(sk, yk.T) @ Ak_inv) / sk_dot_yk\n",
    "        Ak1_inv = term1 + term2 - term3\n",
    "        \n",
    "        err = la.norm(df(xk1), np.inf)\n",
    "        xk = xk1\n",
    "        Ak_inv = Ak1_inv\n",
    "        \n",
    "        if iteration == maxiter:\n",
    "            converged = False\n",
    "            \n",
    "        iteration += 1\n",
    "        \n",
    "    return xk, converged, iteration   "
   ]
  },
  {
   "cell_type": "code",
   "execution_count": 45,
   "metadata": {},
   "outputs": [
    {
     "data": {
      "text/plain": [
       "(array([1.0000001 , 1.00000019]), True, 145)"
      ]
     },
     "execution_count": 45,
     "metadata": {},
     "output_type": "execute_result"
    }
   ],
   "source": [
    "f = opt.rosen\n",
    "df = opt.rosen_der\n",
    "d2f = opt.rosen_hess\n",
    "BFGS(df, np.array([-2,2]), 400, 1e-6)"
   ]
  },
  {
   "cell_type": "code",
   "execution_count": null,
   "metadata": {},
   "outputs": [],
   "source": []
  },
  {
   "cell_type": "markdown",
   "metadata": {},
   "source": [
    "## Problem 3"
   ]
  },
  {
   "cell_type": "code",
   "execution_count": 48,
   "metadata": {},
   "outputs": [],
   "source": [
    "def prob3(N):\n",
    "    \n",
    "    newton_time = np.zeros(N)\n",
    "    BFGS_time = np.zeros(N)\n",
    "    scipy_time = np.zeros(N)\n",
    "    \n",
    "    newton_iter = np.zeros(N)\n",
    "    BFGS_iter = np.zeros(N)\n",
    "    scipy_iter = np.zeros(N)\n",
    "    \n",
    "    f = opt.rosen\n",
    "    df = opt.rosen_der\n",
    "    d2f = opt.rosen_hess\n",
    "    \n",
    "    for i in range(N):\n",
    "        x0 = np.random.uniform(-3, 3, 2)\n",
    "        \n",
    "        # Newton Method\n",
    "        start_time = time.time()\n",
    "        xk, converged, iteration = newton(df, d2f, x0)\n",
    "        end_time = time.time() \n",
    "        newton_time[i] = end_time - start_time\n",
    "        newton_iter[i] = iteration\n",
    "        \n",
    "        # BFGS Method\n",
    "        start_time = time.time()\n",
    "        xk, converged, iteration = BFGS(df, x0)\n",
    "        end_time = time.time() \n",
    "        BFGS_time[i] = end_time - start_time\n",
    "        BFGS_iter[i] = iteration\n",
    "        \n",
    "        # Scipy Method\n",
    "        start_time = time.time()\n",
    "        results = opt.fmin_bfgs(f, x0, fprime=df, disp=False, retall=1)\n",
    "        end_time = time.time() \n",
    "        scipy_time[i] = end_time - start_time\n",
    "        scipy_iter[i] = len(results[1])\n",
    "        \n",
    "    plt.loglog()\n",
    "    plt.scatter(newton_time, newton_iter, alpha=0.5, label=\"Newton's Method\")\n",
    "    plt.scatter(BFGS_time, BFGS_iter, alpha=0.5, label='BFGS')\n",
    "    plt.scatter(scipy_time, scipy_iter, alpha=0.5, label='scipy.optimize.fmin_bfgs()')\n",
    "    plt.xlabel('Time (seconds)')\n",
    "    plt.ylabel('Iterations')\n",
    "    plt.title('Computation Time Vs. Iterations')\n",
    "    plt.legend()\n",
    "    plt.show()"
   ]
  },
  {
   "cell_type": "code",
   "execution_count": 53,
   "metadata": {},
   "outputs": [
    {
     "data": {
      "image/png": "[encoded data removed]",
      "text/plain": [
       "<Figure size 432x288 with 1 Axes>"
      ]
     },
     "metadata": {},
     "output_type": "display_data"
    }
   ],
   "source": [
    "prob3(100)"
   ]
  },
  {
   "cell_type": "code",
   "execution_count": null,
   "metadata": {},
   "outputs": [],
   "source": []
  },
  {
   "cell_type": "markdown",
   "metadata": {},
   "source": [
    "## Problem 4"
   ]
  },
  {
   "cell_type": "code",
   "execution_count": 9,
   "metadata": {},
   "outputs": [],
   "source": [
    "def gauss_newton(func, x0, Dfun, maxiter=500, tol=1e-5):\n",
    "     \n",
    "    xk = x0\n",
    "    err = tol + 1\n",
    "    converged = True\n",
    "    iteration = 0\n",
    "    while (err > tol) and (iteration < maxiter):\n",
    "                \n",
    "        df_xk = Dfun(xk).T @ func(xk)\n",
    "        d2f_xk = Dfun(xk).T @ Dfun(xk)\n",
    "        zk = la.solve(d2f_xk, df_xk)\n",
    "        xk1 = xk - zk\n",
    "        \n",
    "        err = la.norm(xk1 - xk, np.inf)\n",
    "        xk = xk1\n",
    "        iteration += 1\n",
    "        \n",
    "        if iteration == maxiter:\n",
    "            converged = False\n",
    "            \n",
    "    return xk, converged, iteration       "
   ]
  },
  {
   "cell_type": "code",
   "execution_count": 10,
   "metadata": {},
   "outputs": [],
   "source": [
    "T = np.arange(10)\n",
    "y = 3*np.sin(0.5*T)+ 0.5*np.random.randn(10)\n",
    "model = lambda x, t: x[0]*np.sin(x[1]*t)\n",
    "residual = lambda x: model(x, T) - y\n",
    "jac = lambda x: np.column_stack((np.sin(x[1]*T), x[0]*T*np.cos(x[1]*T)))"
   ]
  },
  {
   "cell_type": "code",
   "execution_count": 17,
   "metadata": {},
   "outputs": [
    {
     "data": {
      "text/plain": [
       "(array([3.32744241, 0.51301394]), True, 4)"
      ]
     },
     "execution_count": 17,
     "metadata": {},
     "output_type": "execute_result"
    }
   ],
   "source": [
    "gauss_newton(func=residual, x0=np.array([2.5,.6]), Dfun=jac)"
   ]
  },
  {
   "cell_type": "code",
   "execution_count": 18,
   "metadata": {},
   "outputs": [
    {
     "data": {
      "text/plain": [
       "(array([3.32744241, 0.51301394]), 1)"
      ]
     },
     "execution_count": 18,
     "metadata": {},
     "output_type": "execute_result"
    }
   ],
   "source": [
    "minx = opt.leastsq(func=residual, x0=np.array([2.5,.6]), Dfun=jac)\n",
    "minx"
   ]
  },
  {
   "cell_type": "code",
   "execution_count": 19,
   "metadata": {},
   "outputs": [
    {
     "data": {
      "image/png": "[encoded data removed]",
      "text/plain": [
       "<Figure size 432x288 with 1 Axes>"
      ]
     },
     "metadata": {},
     "output_type": "display_data"
    }
   ],
   "source": [
    "x, conv, niters = gauss_newton(func=residual, x0=np.array([2.5,.6]), Dfun=jac)\n",
    "dom = np.linspace(0, 10, 200)\n",
    "plt.plot(T, y, '*', label=\"Data Points\")\n",
    "plt.plot(dom, 3*np.sin(.5*dom), label=\"True DGP\") \n",
    "plt.plot(dom, model(x, dom), '--', c='b', label=\"Gauss-Newton Estimate\")\n",
    "plt.plot(dom, model(minx[0], dom), '--', c='g', label=\"Scipy Estimate\")\n",
    "plt.legend()\n",
    "plt.show()"
   ]
  },
  {
   "cell_type": "code",
   "execution_count": null,
   "metadata": {},
   "outputs": [],
   "source": []
  },
  {
   "cell_type": "markdown",
   "metadata": {},
   "source": [
    "## Problem 5"
   ]
  },
  {
   "cell_type": "code",
   "execution_count": 20,
   "metadata": {},
   "outputs": [],
   "source": [
    "time, pop = np.load('population.npy').T"
   ]
  },
  {
   "cell_type": "code",
   "execution_count": 21,
   "metadata": {},
   "outputs": [],
   "source": [
    "model2 = lambda x, t: x[0] * np.exp(x[1] * (t + x[2]))\n",
    "residual2 = lambda x: model2(x, time) - pop\n",
    "jac2 = lambda x: np.column_stack((np.exp(x[1]*(time + x[2])), \\\n",
    "                                  x[0]*(time + x[2])*np.exp(x[1]*(time + x[2])), \\\n",
    "                                  x[0]*x[1]*np.exp(x[1]*(time+x[2]))))"
   ]
  },
  {
   "cell_type": "code",
   "execution_count": 22,
   "metadata": {},
   "outputs": [
    {
     "data": {
      "text/plain": [
       "(array([1.67729595, 0.18474177, 9.11885064]), 1)"
      ]
     },
     "execution_count": 22,
     "metadata": {},
     "output_type": "execute_result"
    }
   ],
   "source": [
    "minx2 = opt.leastsq(func=residual2, x0=np.array([1.5, .4, 2.5]), Dfun=jac2)\n",
    "minx2"
   ]
  },
  {
   "cell_type": "code",
   "execution_count": 23,
   "metadata": {},
   "outputs": [
    {
     "data": {
      "image/png": "[encoded data removed]",
      "text/plain": [
       "<Figure size 432x288 with 1 Axes>"
      ]
     },
     "metadata": {},
     "output_type": "display_data"
    }
   ],
   "source": [
    "plt.plot(time, pop, '*', label=\"Data Points\")\n",
    "plt.plot(time, model2(minx2[0], time), '--', c='g', label=\"Scipy Estimate\")\n",
    "plt.title(\"US Population\")\n",
    "plt.legend()\n",
    "plt.show()"
   ]
  },
  {
   "cell_type": "code",
   "execution_count": 36,
   "metadata": {},
   "outputs": [],
   "source": [
    "model3 = lambda x, t: x[0]/(1 + np.exp(-x[1]*(t + x[2])))\n",
    "residual3 = lambda x: model3(x, time) - pop\n",
    "jac3 = lambda x: np.column_stack((1/(1 + np.exp(-x[1]*(time + x[2]))), \\\n",
    "                                 x[0]*(time + x[2])*np.exp(-x[1]*(time+x[2]))/(1 + np.exp(-x[1]*(time + x[2])))**(2), \\\n",
    "                                 x[0]*x[1]*np.exp(-x[1]*(time+x[2]))/(1 + np.exp(-x[1]*(time + x[2])))**(2)))"
   ]
  },
  {
   "cell_type": "code",
   "execution_count": 37,
   "metadata": {},
   "outputs": [
    {
     "data": {
      "text/plain": [
       "(array([184.76582414,   0.32169312, -12.05552938]), 1)"
      ]
     },
     "execution_count": 37,
     "metadata": {},
     "output_type": "execute_result"
    }
   ],
   "source": [
    "minx3 = opt.leastsq(func=residual3, x0=np.array([150, .4, -15]), Dfun=jac3)\n",
    "minx3"
   ]
  },
  {
   "cell_type": "code",
   "execution_count": 38,
   "metadata": {},
   "outputs": [
    {
     "data": {
      "image/png": "[encoded data removed]",
      "text/plain": [
       "<Figure size 432x288 with 1 Axes>"
      ]
     },
     "metadata": {},
     "output_type": "display_data"
    }
   ],
   "source": [
    "plt.plot(time, pop, '*', label=\"Data Points\")\n",
    "plt.plot(time, model3(minx3[0], time), '--', c='g', label=\"Scipy Estimate\")\n",
    "plt.title(\"US Population\")\n",
    "plt.legend()\n",
    "plt.show()"
   ]
  },
  {
   "cell_type": "code",
   "execution_count": null,
   "metadata": {},
   "outputs": [],
   "source": []
  }
 ],
 "metadata": {
  "kernelspec": {
   "display_name": "Python 3",
   "language": "python",
   "name": "python3"
  },
  "language_info": {
   "codemirror_mode": {
    "name": "ipython",
    "version": 3
   },
   "file_extension": ".py",
   "mimetype": "text/x-python",
   "name": "python",
   "nbconvert_exporter": "python",
   "pygments_lexer": "ipython3",
   "version": "3.6.5"
  }
 },
 "nbformat": 4,
 "nbformat_minor": 2
}
