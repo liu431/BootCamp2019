{
 "cells": [
  {
   "cell_type": "markdown",
   "metadata": {},
   "source": [
    "## Numerical Differentiation\n",
    "\n",
    "Li Liu\n",
    "\n",
    "7/5/2019"
   ]
  },
  {
   "cell_type": "markdown",
   "metadata": {},
   "source": [
    "### Pbm 1\n",
    "Write a function that defines f(x) = (sin(x) + 1)sin(cos(x)) and takes its symbolic derivative with respect to x using SymPy. Lambdify the resulting function so that it can accept NumPy arrays and return the resulting function handle."
   ]
  },
  {
   "cell_type": "code",
   "execution_count": 1,
   "metadata": {},
   "outputs": [
    {
     "name": "stdout",
     "output_type": "stream",
     "text": [
      "Symbolic derivative of the function:\n"
     ]
    },
    {
     "data": {
      "text/plain": [
       "(-log(sin(x) + 1)*sin(x)*cos(cos(x)) + sin(cos(x))*cos(x)/(sin(x) + 1))*(sin(x) + 1)**sin(cos(x))"
      ]
     },
     "execution_count": 1,
     "metadata": {},
     "output_type": "execute_result"
    }
   ],
   "source": [
    "from matplotlib import pyplot as plt\n",
    "from sympy import *\n",
    "from math import pi \n",
    "import numpy as np\n",
    "\n",
    "#Define the symbolic function\n",
    "x = Symbol('x')\n",
    "y = (sin(x)+1)**(sin(cos(x)))\n",
    "\n",
    "sym = lambda x: y.diff(x)\n",
    "print(\"Symbolic derivative of the function:\")\n",
    "sym(x)"
   ]
  },
  {
   "cell_type": "code",
   "execution_count": 3,
   "metadata": {},
   "outputs": [
    {
     "data": {
      "text/plain": [
       "(-log(sin(x) + 1)*sin(x)*cos(cos(x)) + sin(cos(x))*cos(x)/(sin(x) + 1))*(sin(x) + 1)**sin(cos(x))"
      ]
     },
     "execution_count": 3,
     "metadata": {},
     "output_type": "execute_result"
    }
   ],
   "source": [
    "diff(y,x)"
   ]
  },
  {
   "cell_type": "code",
   "execution_count": 4,
   "metadata": {
    "collapsed": true
   },
   "outputs": [],
   "source": [
    "#Create the NumPy array and lambdify the functions\n",
    "xvec=np.linspace(-pi,pi,1000)\n",
    "f = lambdify(x, y, 'numpy')\n",
    "fprime=lambdify(x,sym(x),'numpy')"
   ]
  },
  {
   "cell_type": "code",
   "execution_count": 5,
   "metadata": {},
   "outputs": [
    {
     "data": {
      "image/png": "[encoded data removed]",
      "text/plain": [
       "<matplotlib.figure.Figure at 0x1ffb8983358>"
      ]
     },
     "metadata": {},
     "output_type": "display_data"
    }
   ],
   "source": [
    "#Plot f and f'\n",
    "ax = plt.gca()\n",
    "ax.spines[\"bottom\"].set_position(\"zero\")\n",
    "plt.plot(xvec, f(xvec))\n",
    "plt.plot(xvec, fprime(xvec))\n",
    "plt.show()"
   ]
  },
  {
   "cell_type": "code",
   "execution_count": 7,
   "metadata": {},
   "outputs": [
    {
     "data": {
      "image/png": "[encoded data removed]",
      "text/plain": [
       "<matplotlib.figure.Figure at 0x1ffb8c2bbe0>"
      ]
     },
     "metadata": {},
     "output_type": "display_data"
    },
    {
     "data": {
      "text/plain": [
       "<sympy.plotting.plot.Plot at 0x1ffb5af8d68>"
      ]
     },
     "execution_count": 7,
     "metadata": {},
     "output_type": "execute_result"
    }
   ],
   "source": [
    "#Symplot for plotting\n",
    "from sympy.plotting import plot as symplot\n",
    "symplot(y,sym(x),(x,-3,3))"
   ]
  },
  {
   "cell_type": "markdown",
   "metadata": {},
   "source": [
    "### Pbm 2\n",
    "Write a function for each of the finite difference quotients listed in Table 8.1. Each function should accept a function handle f, an array of points x, and a float h; each should return an array of the difference quotients evaluated at each point in x"
   ]
  },
  {
   "cell_type": "code",
   "execution_count": 8,
   "metadata": {
    "collapsed": true
   },
   "outputs": [],
   "source": [
    "def Forward1(func,*args,h=0.01):\n",
    "    return [(func(x+h)-func(x))/h for x in args][0]"
   ]
  },
  {
   "cell_type": "code",
   "execution_count": 9,
   "metadata": {
    "collapsed": true
   },
   "outputs": [],
   "source": [
    "def Forward2(func,*args,h=0.01):\n",
    "    return [(4*func(x+h)-func(x+2*h)-3*func(x))/(2*h) for x in args][0]"
   ]
  },
  {
   "cell_type": "code",
   "execution_count": 10,
   "metadata": {
    "collapsed": true
   },
   "outputs": [],
   "source": [
    "def Backward1(func,*args,h=0.01):\n",
    "    return [(func(x)-func(x-h))/h for x in args][0]"
   ]
  },
  {
   "cell_type": "code",
   "execution_count": 11,
   "metadata": {
    "collapsed": true
   },
   "outputs": [],
   "source": [
    "def Backward2(func,*args,h=0.01):\n",
    "    return [(-4*func(x-h)+func(x-2*h)+3*func(x))/(2*h) for x in args][0]"
   ]
  },
  {
   "cell_type": "code",
   "execution_count": 12,
   "metadata": {
    "collapsed": true
   },
   "outputs": [],
   "source": [
    "def Centered2(func,*args,h=0.01):\n",
    "    return [(func(x+h)-func(x-h))/(2*h) for x in args][0]"
   ]
  },
  {
   "cell_type": "code",
   "execution_count": 14,
   "metadata": {
    "collapsed": true
   },
   "outputs": [],
   "source": [
    "def Centered4(func,*args,h=0.01):\n",
    "    return [(func(x-2*h)-8*func(x-h)+8*func(x+h)-\n",
    "             func(x+2*h))/(12*h) for x in args][0]"
   ]
  },
  {
   "cell_type": "markdown",
   "metadata": {},
   "source": [
    "Approximate the derivative of f(x) = (sin(x) + 1)sin(cos(x)) at each point of a domain over [−π, π]."
   ]
  },
  {
   "cell_type": "code",
   "execution_count": 15,
   "metadata": {},
   "outputs": [
    {
     "data": {
      "image/png": "[encoded data removed]",
      "text/plain": [
       "<matplotlib.figure.Figure at 0x1ffb8dda9e8>"
      ]
     },
     "metadata": {},
     "output_type": "display_data"
    }
   ],
   "source": [
    "plt.plot(xvec, fprime(xvec),label='Symbolic Differentiation')\n",
    "plt.plot(xvec, Forward1(f,xvec),label='Forward Order 1')\n",
    "plt.plot(xvec, Forward2(f,xvec),label='Forward Order 2')\n",
    "plt.plot(xvec, Backward1(f,xvec),label='Backward Order 1')\n",
    "plt.plot(xvec, Backward2(f,xvec),label='Backward Order 2')\n",
    "plt.plot(xvec, Centered2(f,xvec),label='Centered Order 2')\n",
    "plt.plot(xvec, Centered4(f,xvec),label='Centered Order 4')\n",
    "plt.legend(loc='lower right')\n",
    "plt.xlabel(\"[-pi,pi]\")\n",
    "plt.ylabel(\"Derivatives of f\")\n",
    "plt.show()"
   ]
  },
  {
   "cell_type": "markdown",
   "metadata": {},
   "source": [
    "The seven plots are almost the same!"
   ]
  },
  {
   "cell_type": "markdown",
   "metadata": {},
   "source": [
    "### Pbm 3\n",
    "Write a function that accepts a point x0 at which to compute the derivative of\n",
    "f(x) = (sin(x) + 1)sin(cos(x))."
   ]
  },
  {
   "cell_type": "code",
   "execution_count": 16,
   "metadata": {
    "collapsed": true
   },
   "outputs": [],
   "source": [
    "#Function for computing absolute error against h of exact and approximate f'(x)\n",
    "def convergence(x):\n",
    "    x0=fprime(x)\n",
    "    hvec=np.logspace(-8,0,9)\n",
    "    plt.plot(hvec,abs([Forward1(f,x,h=i) for i in hvec]-x0),label='Order 1 Forward')\n",
    "    plt.plot(hvec,abs([Forward2(f,x,h=i) for i in hvec]-x0),label='Order 2 Forward')\n",
    "    plt.plot(hvec,abs([Backward1(f,x,h=i) for i in hvec]-x0),label='Order 1 Backward')\n",
    "    plt.plot(hvec,abs([Backward2(f,x,h=i) for i in hvec]-x0),label='Order 2 Backward')\n",
    "    plt.plot(hvec,abs([Centered2(f,x,h=i) for i in hvec]-x0),label='Order 2 Centered')\n",
    "    plt.plot(hvec,abs([Centered4(f,x,h=i) for i in hvec]-x0),label='Order 4 Centered')\n",
    "    plt.legend(loc='upper left')\n",
    "    plt.xlabel(\"h\")\n",
    "    plt.ylabel(\"Absolute Error\")\n",
    "    plt.loglog()\n",
    "    plt.show()"
   ]
  },
  {
   "cell_type": "code",
   "execution_count": 20,
   "metadata": {},
   "outputs": [
    {
     "data": {
      "image/png": "[encoded data removed]",
      "text/plain": [
       "<matplotlib.figure.Figure at 0x1ffb900a0b8>"
      ]
     },
     "metadata": {},
     "output_type": "display_data"
    }
   ],
   "source": [
    "#Example plot at x=1\n",
    "hvec=np.logspace(-8,0,9)\n",
    "convergence(1)"
   ]
  },
  {
   "cell_type": "markdown",
   "metadata": {},
   "source": [
    "### Pbm 4\n",
    "Load the data, convert α and β to radians, then compute the coordinates x(t) and y(t) at each given t using 8.4. Approximate x0(t) and y0(t) using a forward difference quotient for t = 7, a backward difference quotient for t = 14, and a centered difference quotient for t = 8, 9, . . . , 13 (see Figure 8.1). Return the values of the speed at each t."
   ]
  },
  {
   "cell_type": "code",
   "execution_count": 62,
   "metadata": {},
   "outputs": [
    {
     "data": {
      "text/html": [
       "<div>\n",
       "<style scoped>\n",
       "    .dataframe tbody tr th:only-of-type {\n",
       "        vertical-align: middle;\n",
       "    }\n",
       "\n",
       "    .dataframe tbody tr th {\n",
       "        vertical-align: top;\n",
       "    }\n",
       "\n",
       "    .dataframe thead th {\n",
       "        text-align: right;\n",
       "    }\n",
       "</style>\n",
       "<table border=\"1\" class=\"dataframe\">\n",
       "  <thead>\n",
       "    <tr style=\"text-align: right;\">\n",
       "      <th></th>\n",
       "      <th>t</th>\n",
       "      <th>alpha</th>\n",
       "      <th>beta</th>\n",
       "      <th>x(t)</th>\n",
       "      <th>y(t)</th>\n",
       "      <th>x_prime(t)</th>\n",
       "      <th>y_prime(t)</th>\n",
       "      <th>speed</th>\n",
       "    </tr>\n",
       "  </thead>\n",
       "  <tbody>\n",
       "    <tr>\n",
       "      <th>0</th>\n",
       "      <td>7.0</td>\n",
       "      <td>0.981748</td>\n",
       "      <td>1.178795</td>\n",
       "      <td>1311.271337</td>\n",
       "      <td>1962.456239</td>\n",
       "      <td>44</td>\n",
       "      <td>12</td>\n",
       "      <td>45.61</td>\n",
       "    </tr>\n",
       "    <tr>\n",
       "      <th>1</th>\n",
       "      <td>8.0</td>\n",
       "      <td>0.969181</td>\n",
       "      <td>1.161866</td>\n",
       "      <td>1355.936476</td>\n",
       "      <td>1975.114505</td>\n",
       "      <td>45</td>\n",
       "      <td>12</td>\n",
       "      <td>46.57</td>\n",
       "    </tr>\n",
       "    <tr>\n",
       "      <th>2</th>\n",
       "      <td>9.0</td>\n",
       "      <td>0.956440</td>\n",
       "      <td>1.144761</td>\n",
       "      <td>1401.918398</td>\n",
       "      <td>1987.346016</td>\n",
       "      <td>47</td>\n",
       "      <td>12</td>\n",
       "      <td>48.51</td>\n",
       "    </tr>\n",
       "    <tr>\n",
       "      <th>3</th>\n",
       "      <td>10.0</td>\n",
       "      <td>0.943525</td>\n",
       "      <td>1.127308</td>\n",
       "      <td>1450.497006</td>\n",
       "      <td>2000.840713</td>\n",
       "      <td>48</td>\n",
       "      <td>13</td>\n",
       "      <td>49.73</td>\n",
       "    </tr>\n",
       "    <tr>\n",
       "      <th>4</th>\n",
       "      <td>11.0</td>\n",
       "      <td>0.930959</td>\n",
       "      <td>1.110378</td>\n",
       "      <td>1498.640350</td>\n",
       "      <td>2013.512411</td>\n",
       "      <td>46</td>\n",
       "      <td>12</td>\n",
       "      <td>47.54</td>\n",
       "    </tr>\n",
       "    <tr>\n",
       "      <th>5</th>\n",
       "      <td>12.0</td>\n",
       "      <td>0.919614</td>\n",
       "      <td>1.095020</td>\n",
       "      <td>1543.798955</td>\n",
       "      <td>2025.792234</td>\n",
       "      <td>49</td>\n",
       "      <td>13</td>\n",
       "      <td>50.70</td>\n",
       "    </tr>\n",
       "    <tr>\n",
       "      <th>6</th>\n",
       "      <td>13.0</td>\n",
       "      <td>0.906524</td>\n",
       "      <td>1.077217</td>\n",
       "      <td>1598.041382</td>\n",
       "      <td>2040.990583</td>\n",
       "      <td>51</td>\n",
       "      <td>14</td>\n",
       "      <td>52.89</td>\n",
       "    </tr>\n",
       "    <tr>\n",
       "      <th>7</th>\n",
       "      <td>14.0</td>\n",
       "      <td>0.895005</td>\n",
       "      <td>1.061509</td>\n",
       "      <td>1647.596093</td>\n",
       "      <td>2055.065571</td>\n",
       "      <td>49</td>\n",
       "      <td>14</td>\n",
       "      <td>50.96</td>\n",
       "    </tr>\n",
       "  </tbody>\n",
       "</table>\n",
       "</div>"
      ],
      "text/plain": [
       "      t     alpha      beta         x(t)         y(t)  x_prime(t)  y_prime(t)  \\\n",
       "0   7.0  0.981748  1.178795  1311.271337  1962.456239          44          12   \n",
       "1   8.0  0.969181  1.161866  1355.936476  1975.114505          45          12   \n",
       "2   9.0  0.956440  1.144761  1401.918398  1987.346016          47          12   \n",
       "3  10.0  0.943525  1.127308  1450.497006  2000.840713          48          13   \n",
       "4  11.0  0.930959  1.110378  1498.640350  2013.512411          46          12   \n",
       "5  12.0  0.919614  1.095020  1543.798955  2025.792234          49          13   \n",
       "6  13.0  0.906524  1.077217  1598.041382  2040.990583          51          14   \n",
       "7  14.0  0.895005  1.061509  1647.596093  2055.065571          49          14   \n",
       "\n",
       "   speed  \n",
       "0  45.61  \n",
       "1  46.57  \n",
       "2  48.51  \n",
       "3  49.73  \n",
       "4  47.54  \n",
       "5  50.70  \n",
       "6  52.89  \n",
       "7  50.96  "
      ]
     },
     "execution_count": 62,
     "metadata": {},
     "output_type": "execute_result"
    }
   ],
   "source": [
    "#Transform the matrix data into DataFrame for better represenation\n",
    "import pandas as pd\n",
    "import warnings\n",
    "warnings.filterwarnings(\"ignore\")\n",
    "df=np.load(\"plane.npy\")\n",
    "radar=pd.DataFrame(df,columns=['t','alpha','beta'])\n",
    "\n",
    "#Degree to radian\n",
    "radar['alpha']=np.deg2rad(radar['alpha'])\n",
    "radar['beta']=np.deg2rad(radar['beta'])\n",
    "a=500\n",
    "\n",
    "#Calculate the plane location on the Cartesian coordinates\n",
    "radar['x(t)']=(a*np.tan(radar['beta']))/(np.tan(radar['beta'])-np.tan(radar['alpha']))\n",
    "radar['y(t)']=(a*np.tan(radar['beta'])*np.tan(radar['alpha']))\\\n",
    "                /(np.tan(radar['beta'])-np.tan(radar['alpha']))\n",
    "\n",
    "#Approximate x'(t) and y'(t)\n",
    "radar['x_prime(t)']=0\n",
    "radar['x_prime(t)'][0]=radar['x(t)'][1]-radar['x(t)'][0]\n",
    "radar['x_prime(t)'][7]=radar['x(t)'][7]-radar['x(t)'][6]\n",
    "radar['y_prime(t)']=0\n",
    "radar['y_prime(t)'][0]=radar['y(t)'][1]-radar['y(t)'][0]\n",
    "radar['y_prime(t)'][7]=radar['y(t)'][7]-radar['y(t)'][6]\n",
    "for i in range(1,7):\n",
    "    radar['x_prime(t)'][i]=0.5*(radar['x(t)'][i+1]-radar['x(t)'][i-1])\n",
    "    radar['y_prime(t)'][i]=0.5*(radar['y(t)'][i+1]-radar['y(t)'][i-1])\n",
    "\n",
    "radar['speed']=np.sqrt(radar['x_prime(t)']**2+radar['y_prime(t)']**2).round(2)\n",
    "radar"
   ]
  },
  {
   "cell_type": "code",
   "execution_count": 63,
   "metadata": {},
   "outputs": [
    {
     "data": {
      "text/html": [
       "<div>\n",
       "<style scoped>\n",
       "    .dataframe tbody tr th:only-of-type {\n",
       "        vertical-align: middle;\n",
       "    }\n",
       "\n",
       "    .dataframe tbody tr th {\n",
       "        vertical-align: top;\n",
       "    }\n",
       "\n",
       "    .dataframe thead th {\n",
       "        text-align: right;\n",
       "    }\n",
       "</style>\n",
       "<table border=\"1\" class=\"dataframe\">\n",
       "  <thead>\n",
       "    <tr style=\"text-align: right;\">\n",
       "      <th></th>\n",
       "      <th>t</th>\n",
       "      <th>speed</th>\n",
       "    </tr>\n",
       "  </thead>\n",
       "  <tbody>\n",
       "    <tr>\n",
       "      <th>0</th>\n",
       "      <td>7.0</td>\n",
       "      <td>45.61</td>\n",
       "    </tr>\n",
       "    <tr>\n",
       "      <th>1</th>\n",
       "      <td>8.0</td>\n",
       "      <td>46.57</td>\n",
       "    </tr>\n",
       "    <tr>\n",
       "      <th>2</th>\n",
       "      <td>9.0</td>\n",
       "      <td>48.51</td>\n",
       "    </tr>\n",
       "    <tr>\n",
       "      <th>3</th>\n",
       "      <td>10.0</td>\n",
       "      <td>49.73</td>\n",
       "    </tr>\n",
       "    <tr>\n",
       "      <th>4</th>\n",
       "      <td>11.0</td>\n",
       "      <td>47.54</td>\n",
       "    </tr>\n",
       "    <tr>\n",
       "      <th>5</th>\n",
       "      <td>12.0</td>\n",
       "      <td>50.70</td>\n",
       "    </tr>\n",
       "    <tr>\n",
       "      <th>6</th>\n",
       "      <td>13.0</td>\n",
       "      <td>52.89</td>\n",
       "    </tr>\n",
       "    <tr>\n",
       "      <th>7</th>\n",
       "      <td>14.0</td>\n",
       "      <td>50.96</td>\n",
       "    </tr>\n",
       "  </tbody>\n",
       "</table>\n",
       "</div>"
      ],
      "text/plain": [
       "      t  speed\n",
       "0   7.0  45.61\n",
       "1   8.0  46.57\n",
       "2   9.0  48.51\n",
       "3  10.0  49.73\n",
       "4  11.0  47.54\n",
       "5  12.0  50.70\n",
       "6  13.0  52.89\n",
       "7  14.0  50.96"
      ]
     },
     "execution_count": 63,
     "metadata": {},
     "output_type": "execute_result"
    }
   ],
   "source": [
    "#Return the speed at each t\n",
    "radar[['t','speed']]"
   ]
  },
  {
   "cell_type": "markdown",
   "metadata": {},
   "source": [
    "### Pbm 5\n",
    "Write a function that accepts a function f : Rn → Rm, a point x0 ∈ Rn, and a\n",
    "float h. Approximate the Jacobian matrix of f at x using the second order centered difference quotient in (8.5)."
   ]
  },
  {
   "cell_type": "code",
   "execution_count": 85,
   "metadata": {
    "collapsed": true
   },
   "outputs": [],
   "source": [
    "def Jacobian(func,pt,h):\n",
    "    n=len(func)\n",
    "    dim=len(pt)\n",
    "    I=np.identity(dim)\n",
    "    J = zeros(n,dim)\n",
    "    for i,fu in enumerate(func):\n",
    "        for j,s in enumerate(pt):\n",
    "            f= lambdify((x,y), fu, 'numpy')\n",
    "            right=pt+h*I[:,j]\n",
    "            left=pt-h*I [:,j]\n",
    "            J[i,j]=(f(right[0],right[1])-f(left[0],left[1]))/(2*h)\n",
    "    return J"
   ]
  },
  {
   "cell_type": "code",
   "execution_count": 87,
   "metadata": {},
   "outputs": [
    {
     "data": {
      "text/plain": [
       "Matrix([\n",
       "[             2.0,  0.0],\n",
       "[3.00010000000001, -1.0]])"
      ]
     },
     "execution_count": 87,
     "metadata": {},
     "output_type": "execute_result"
    }
   ],
   "source": [
    "#Test the Jacobian calculation function\n",
    "x = Symbol('x')\n",
    "y = Symbol('y')\n",
    "func1=x**2\n",
    "func2=x**3-y\n",
    "func=[func1,func2]\n",
    "pt=[1,1]\n",
    "h=0.01\n",
    "Jacobian(func,pt,h)"
   ]
  },
  {
   "cell_type": "code",
   "execution_count": 94,
   "metadata": {},
   "outputs": [
    {
     "data": {
      "text/plain": [
       "array([[ 2,  0],\n",
       "       [ 3, -1]])"
      ]
     },
     "execution_count": 94,
     "metadata": {},
     "output_type": "execute_result"
    }
   ],
   "source": [
    "jacob = Matrix(([x**2, x**3-y])).jacobian((x,y))\n",
    "lambdify((x,y),jacob)(1,1)"
   ]
  },
  {
   "cell_type": "markdown",
   "metadata": {},
   "source": [
    "### Pbm 6"
   ]
  },
  {
   "cell_type": "markdown",
   "metadata": {},
   "source": [
    "Chebyshev polynomials"
   ]
  },
  {
   "cell_type": "code",
   "execution_count": 33,
   "metadata": {
    "collapsed": true
   },
   "outputs": [],
   "source": [
    "from autograd import numpy as anp\n",
    "from autograd import grad, elementwise_grad"
   ]
  },
  {
   "cell_type": "code",
   "execution_count": 70,
   "metadata": {},
   "outputs": [],
   "source": [
    "def Chebyshev(x, n):\n",
    "    if n == 0:\n",
    "        return anp.ones_like(x)\n",
    "    elif n == 1:\n",
    "        return x\n",
    "    else:\n",
    "        return 2*x*Chebyshev(x, n-1)-Chebyshev(x, n-2)"
   ]
  },
  {
   "cell_type": "code",
   "execution_count": 72,
   "metadata": {},
   "outputs": [],
   "source": [
    "g = elementwise_grad(Chebyshev)"
   ]
  },
  {
   "cell_type": "code",
   "execution_count": 84,
   "metadata": {},
   "outputs": [
    {
     "name": "stderr",
     "output_type": "stream",
     "text": [
      "C:\\Anaconda\\lib\\site-packages\\autograd\\tracer.py:14: UserWarning: Output seems independent of input.\n",
      "  warnings.warn(\"Output seems independent of input.\")\n"
     ]
    },
    {
     "data": {
      "image/png": "[encoded data removed]",
      "text/plain": [
       "<matplotlib.figure.Figure at 0x1ffb8e316d8>"
      ]
     },
     "metadata": {},
     "output_type": "display_data"
    }
   ],
   "source": [
    "xvec=anp.linspace(-1, 1, 100)\n",
    "\n",
    "plt.plot(xvec, g(xvec,0), label='n=0')\n",
    "plt.plot(xvec, g(xvec,1), label='n=1')\n",
    "plt.plot(xvec, g(xvec,2), label='n=1')\n",
    "plt.plot(xvec, g(xvec,3), label='n=3')\n",
    "plt.plot(xvec, g(xvec,4), label='n=4')\n",
    "plt.legend()\n",
    "plt.show()"
   ]
  },
  {
   "cell_type": "markdown",
   "metadata": {},
   "source": [
    "### Pbm 7\n",
    "Plot the computation times versus the absolute errors on a log-log plot with different colors for SymPy, the difference quotient, and Autograd. "
   ]
  },
  {
   "cell_type": "code",
   "execution_count": 22,
   "metadata": {},
   "outputs": [
    {
     "name": "stdout",
     "output_type": "stream",
     "text": [
      "Results from symbolic differentiation: 0.8414709848078965\n",
      "Results from Autograd differentiation 0.8414709848078965\n"
     ]
    }
   ],
   "source": [
    "#Play around with Autograd\n",
    "yy=lambda x: (anp.sin(x)+1)**(anp.sin(anp.cos(x)))\n",
    "fauto=grad(yy)\n",
    "print(\"Results from symbolic differentiation:\",fprime(0.0))\n",
    "print(\"Results from Autograd differentiation\",fauto(0.)) #Take floats"
   ]
  },
  {
   "cell_type": "code",
   "execution_count": 23,
   "metadata": {
    "collapsed": true
   },
   "outputs": [],
   "source": [
    "import time\n",
    "\n",
    "def experiment(N):\n",
    "    \n",
    "    global CT1,CT2,CT3,abse1,abse2\n",
    "    CT1,CT2,CT3=[],[],[]\n",
    "    abse1,abse2=[],[]\n",
    "    for i in range(N):\n",
    "        xr=np.random.uniform(-pi,pi)\n",
    "        t0=time.clock()\n",
    "        sym=lambda x: y.diff(x)\n",
    "        fprime=lambdify(x,sym(x),'numpy')  \n",
    "        x0=fprime(xr)\n",
    "        t1=time.clock()\n",
    "        CT1.append(t1-t0)\n",
    "        \n",
    "        t2=time.clock()\n",
    "        xapp=Centered4(yy,xr,h=0.01)\n",
    "        t3=time.clock()\n",
    "        CT2.append(t3-t2)  \n",
    "        abse1.append(abs(xapp-x0))\n",
    "        \n",
    "        t4=time.clock()\n",
    "        xauto=fauto(xr)\n",
    "        t5=time.clock()\n",
    "        CT3.append(t5-t4)  \n",
    "        abse2.append(abs(xauto-x0))     \n",
    "   \n",
    "    plt.scatter(np.array(CT1),np.array([1e-18] * N), alpha=0.8,label=\"SymPy\")\n",
    "    plt.scatter(np.array(CT2),np.array(abse1),alpha=0.8,label=\"Difference Quotients\")\n",
    "    plt.scatter(np.array(CT3),np.array(abse2), alpha=0.8,label=\"Autograd\")\n",
    "    plt.legend(loc='upper right')\n",
    "    plt.xlabel(\"Computation Time (seconds)\")\n",
    "    plt.ylabel(\"Absolute Error\")\n",
    "    plt.xlim(10**-5,10**-2)\n",
    "    plt.ylim(10**-19,10**-7)\n",
    "    plt.loglog()\n",
    "    plt.show()\n"
   ]
  },
  {
   "cell_type": "code",
   "execution_count": 24,
   "metadata": {},
   "outputs": [
    {
     "data": {
      "image/png": "[encoded data removed]",
      "text/plain": [
       "<matplotlib.figure.Figure at 0x1ffb8df6588>"
      ]
     },
     "metadata": {},
     "output_type": "display_data"
    }
   ],
   "source": [
    "experiment(200)"
   ]
  },
  {
   "cell_type": "markdown",
   "metadata": {},
   "source": [
    " "
   ]
  }
 ],
 "metadata": {
  "kernelspec": {
   "display_name": "Python 3",
   "language": "python",
   "name": "python3"
  },
  "language_info": {
   "codemirror_mode": {
    "name": "ipython",
    "version": 3
   },
   "file_extension": ".py",
   "mimetype": "text/x-python",
   "name": "python",
   "nbconvert_exporter": "python",
   "pygments_lexer": "ipython3",
   "version": "3.6.7"
  }
 },
 "nbformat": 4,
 "nbformat_minor": 2
}
