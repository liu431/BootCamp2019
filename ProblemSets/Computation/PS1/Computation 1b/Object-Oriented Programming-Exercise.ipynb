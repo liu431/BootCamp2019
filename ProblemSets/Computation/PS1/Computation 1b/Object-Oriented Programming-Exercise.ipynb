{
 "cells": [
  {
   "cell_type": "markdown",
   "metadata": {},
   "source": [
    "## Object-Oriented Programming\n",
    "\n",
    "Li Liu\n",
    "\n",
    "7/5/2019"
   ]
  },
  {
   "cell_type": "markdown",
   "metadata": {},
   "source": [
    "#### Pbm 1"
   ]
  },
  {
   "cell_type": "code",
   "execution_count": 21,
   "metadata": {},
   "outputs": [],
   "source": [
    "class Backpack:\n",
    "    \"\"\"\n",
    "    A Backpack object class\n",
    "    \"\"\"\n",
    "    def __init__(self, name, color, max_size=5):\n",
    "        self.name = name\n",
    "        self.contents = []\n",
    "        self.color = color\n",
    "        self.max_size = max_size\n",
    "        \n",
    "    def put(self, item):\n",
    "        \"\"\"\n",
    "        add 'item' to the backpack's list of contents\n",
    "        check that the backpack doesn't go over capacity\n",
    "        \"\"\"\n",
    "        if len(self.contents) < self.max_size:\n",
    "            self.contents.append(item)\n",
    "        else:\n",
    "            print(\"No Room!\")\n",
    "        \n",
    "    def take(self, item):\n",
    "        \"\"\"remove 'item' from the backpack's list of contents\"\"\"\n",
    "        self.contents.remove(item)\n",
    "        \n",
    "    def dump(self):\n",
    "        \"\"\"reset the contents to an empty list\"\"\"\n",
    "        self.contents = []"
   ]
  },
  {
   "cell_type": "code",
   "execution_count": 25,
   "metadata": {
    "collapsed": true
   },
   "outputs": [],
   "source": [
    "#test function\n",
    "def test_backpack():\n",
    "    testpack = Backpack('Berry', 'black')\n",
    "    if testpack.name != 'Barry':\n",
    "        print('Backpack.name assigned incorrectly')\n",
    "    for item in ['pencil', 'pen', 'paper', 'computer']:\n",
    "        testpack.put(item)\n",
    "    print('Contents:', testpack.contents)"
   ]
  },
  {
   "cell_type": "code",
   "execution_count": 26,
   "metadata": {},
   "outputs": [
    {
     "name": "stdout",
     "output_type": "stream",
     "text": [
      "Backpack.name assigned incorrectly\n",
      "Contents: ['pencil', 'pen', 'paper', 'computer']\n"
     ]
    }
   ],
   "source": [
    "test_backpack()"
   ]
  },
  {
   "cell_type": "markdown",
   "metadata": {},
   "source": [
    "#### Pbm 2"
   ]
  },
  {
   "cell_type": "code",
   "execution_count": 30,
   "metadata": {},
   "outputs": [],
   "source": [
    "class Jetpack(Backpack):\n",
    "    \"\"\"\n",
    "    Class that inherit from the Backpack class\n",
    "    \"\"\"\n",
    "    def __init__(self, name, color, max_size=2):\n",
    "        \"\"\"\n",
    "        use the Backpack constructor to initialize attributes\n",
    "        set the default value of fuel to 10\n",
    "        \"\"\"\n",
    "        Backpack.__init__(self, name, color, max_size)\n",
    "        self.fuel = 10\n",
    "        \n",
    "    def fly(self, fuel):\n",
    "        \"\"\"decrement the fuel if there is remaining fuel\"\"\"\n",
    "        if fuel <= self.fuel:\n",
    "            self.fuel -= fuel\n",
    "        else:\n",
    "            print('Not enough fuel!')\n",
    "        \n",
    "    def dump(self):\n",
    "        \"\"\"reset the contents and fuel to an empty list\"\"\"\n",
    "        self.contents = [] \n",
    "        self.fuel = []"
   ]
  },
  {
   "cell_type": "markdown",
   "metadata": {},
   "source": [
    "#### Pbm 3"
   ]
  },
  {
   "cell_type": "code",
   "execution_count": 109,
   "metadata": {},
   "outputs": [],
   "source": [
    "class Backpack:\n",
    "    \"\"\"\n",
    "    A Backpack object class\n",
    "    \"\"\"\n",
    "    def __init__(self, name, color, max_size=5):\n",
    "        self.name = name\n",
    "        self.contents = []\n",
    "        self.color = color\n",
    "        self.max_size = max_size\n",
    "        \n",
    "    def put(self, item):\n",
    "        \"\"\"\n",
    "        add 'item' to the backpack's list of contents\n",
    "        check that the backpack doesn't go over capacity\n",
    "        \"\"\"\n",
    "        if len(self.contents) < self.max_size:\n",
    "            self.contents.append(item)\n",
    "        else:\n",
    "            print(\"No Room!\")\n",
    "        \n",
    "    def take(self, item):\n",
    "        \"\"\"remove 'item' from the backpack's list of contents\"\"\"\n",
    "        self.contents.remove(item)\n",
    "        \n",
    "    def dump(self):\n",
    "        \"\"\"reset the contents to an empty list\"\"\"\n",
    "        self.contents = []\n",
    "        \n",
    "    def __eq__(self, other):\n",
    "        \"\"\"check if two objects are equal\"\"\"\n",
    "        return (self.name == other.name) * \\\n",
    "                (self.color == other.color) *\\\n",
    "                (len(self.contents) == len(self.contents))\n",
    "            \n",
    "    def __str__(self):\n",
    "        \"\"\"return the string representation of an object\"\"\"\n",
    "\n",
    "        return 'Owner: \\t\\t{} \\nColor: \\t\\t{} \\nSize: \\t\\t{}\\nMax Size:\\t{} \\nContents: \\t{}'.\\\n",
    "                format(self.name, self.color, \n",
    "                       len(self.contents), self.max_size, self.contents)"
   ]
  },
  {
   "cell_type": "code",
   "execution_count": 110,
   "metadata": {
    "collapsed": true
   },
   "outputs": [],
   "source": [
    "B = Backpack('a', 'red')"
   ]
  },
  {
   "cell_type": "code",
   "execution_count": 111,
   "metadata": {},
   "outputs": [
    {
     "name": "stdout",
     "output_type": "stream",
     "text": [
      "Owner: \t\ta \n",
      "Color: \t\tred \n",
      "Size: \t\t0\n",
      "Max Size:\t5 \n",
      "Contents: \t[]\n"
     ]
    }
   ],
   "source": [
    "print(B)"
   ]
  },
  {
   "cell_type": "markdown",
   "metadata": {},
   "source": [
    "#### Pbm 4"
   ]
  },
  {
   "cell_type": "code",
   "execution_count": 152,
   "metadata": {},
   "outputs": [],
   "source": [
    "import numpy as np\n",
    "class ComplexNumber:\n",
    "    \"\"\"complex number object\"\"\"\n",
    "    \n",
    "    def __init__(self, real, imag):\n",
    "        \"\"\"initialize the object\"\"\"\n",
    "        self.real = real\n",
    "        self.imag = imag\n",
    "        \n",
    "    def conjugate(self):\n",
    "        \"\"\"return the complex conjugate\"\"\"\n",
    "        return ComplexNumber(self.real, -self.imag)\n",
    "    \n",
    "    def __str__(self):\n",
    "        \"\"\"print complex number\"\"\"\n",
    "        if self.imag >= 0:\n",
    "            return ('({}+{}j)').format(self.real, self.imag)\n",
    "        else:\n",
    "            return ('({}-{}j)').format(self.real, self.imag)\n",
    "        \n",
    "    def __abs__(self):\n",
    "        \"\"\"return the magnitude\"\"\"\n",
    "        return np.sqrt(self.real**2 + self.imag**2)\n",
    "    \n",
    "    def __eq__(self, other):\n",
    "        \"\"\"check if two objects are equal\"\"\"           \n",
    "        return (self.real == other.real) * (self.imag == other.imag)\n",
    "    \n",
    "    def __add__(self, other):\n",
    "        \"\"\"add two objects\"\"\"\n",
    "        return ComplexNumber(self.real+other.real, self.imag+other.imag)\n",
    "        \n",
    "    def __sub__(self, other):\n",
    "        \"\"\"subtract two objects\"\"\"\n",
    "        return ComplexNumber(self.real-other.real, self.imag-other.imag)\n",
    "    \n",
    "    def __mul__(self, other):\n",
    "        \"\"\"multiply two objects\"\"\"\n",
    "        return ComplexNumber(self.real*other.real-self.imag*other.imag,\n",
    "                            self.real*other.imag+other.real*self.imag)\n",
    "\n",
    "    def __truediv__(self, other):\n",
    "        \"\"\"divide two objects\"\"\"\n",
    "        numerator = other.real**2+other.imag**2\n",
    "        new_real = (self.real*other.real+self.imag*other.imag)/numerator\n",
    "        new_imag = (-self.real*other.imag+other.real*self.imag)/numerator\n",
    "        return ComplexNumber(new_real, new_imag)\n",
    "\n"
   ]
  },
  {
   "cell_type": "code",
   "execution_count": 157,
   "metadata": {},
   "outputs": [],
   "source": [
    "n1 = ComplexNumber(2,3)\n",
    "n2 = ComplexNumber(3,4)"
   ]
  },
  {
   "cell_type": "code",
   "execution_count": 154,
   "metadata": {},
   "outputs": [
    {
     "data": {
      "text/plain": [
       "3.605551275463989"
      ]
     },
     "execution_count": 154,
     "metadata": {},
     "output_type": "execute_result"
    }
   ],
   "source": [
    "abs(n.conjugate())"
   ]
  },
  {
   "cell_type": "code",
   "execution_count": 158,
   "metadata": {},
   "outputs": [
    {
     "data": {
      "text/plain": [
       "<__main__.ComplexNumber at 0x23286e34748>"
      ]
     },
     "execution_count": 158,
     "metadata": {},
     "output_type": "execute_result"
    }
   ],
   "source": [
    "n1 + n2"
   ]
  },
  {
   "cell_type": "code",
   "execution_count": 159,
   "metadata": {},
   "outputs": [
    {
     "data": {
      "text/plain": [
       "<__main__.ComplexNumber at 0x23286e34198>"
      ]
     },
     "execution_count": 159,
     "metadata": {},
     "output_type": "execute_result"
    }
   ],
   "source": [
    "n1 - n2"
   ]
  },
  {
   "cell_type": "code",
   "execution_count": 160,
   "metadata": {},
   "outputs": [
    {
     "data": {
      "text/plain": [
       "<__main__.ComplexNumber at 0x23286e34940>"
      ]
     },
     "execution_count": 160,
     "metadata": {},
     "output_type": "execute_result"
    }
   ],
   "source": [
    "n1/n2"
   ]
  },
  {
   "cell_type": "code",
   "execution_count": 161,
   "metadata": {},
   "outputs": [
    {
     "data": {
      "text/plain": [
       "<__main__.ComplexNumber at 0x23286e01f98>"
      ]
     },
     "execution_count": 161,
     "metadata": {},
     "output_type": "execute_result"
    }
   ],
   "source": [
    "n1*n2"
   ]
  },
  {
   "cell_type": "code",
   "execution_count": 155,
   "metadata": {
    "collapsed": true
   },
   "outputs": [],
   "source": [
    "#test function\n",
    "\n",
    "def test_ComplexNumber(a, b):\n",
    "    py_cnum, my_cnum =complex (a,b), ComplexNumber(a,b)\n",
    "    \n",
    "    if my_cnum.real != a or my_cnum.imag != b:\n",
    "        print(\"__init__() set self.real and self.imag incorrectly\")\n",
    "        \n",
    "    if py_cnum.conjugate().imag != my_cnum.conjugate().imag:\n",
    "        print(\"conjugate() failed for\", py_cnum)\n",
    "        \n",
    "    if str(py_cnum) != str(my_cnum):\n",
    "        print(\"__str__() failed for\", py_cnum)\n",
    "    "
   ]
  },
  {
   "cell_type": "code",
   "execution_count": 156,
   "metadata": {},
   "outputs": [],
   "source": [
    "test_ComplexNumber(1, 1)"
   ]
  }
 ],
 "metadata": {
  "kernelspec": {
   "display_name": "Python 3",
   "language": "python",
   "name": "python3"
  },
  "language_info": {
   "codemirror_mode": {
    "name": "ipython",
    "version": 3
   },
   "file_extension": ".py",
   "mimetype": "text/x-python",
   "name": "python",
   "nbconvert_exporter": "python",
   "pygments_lexer": "ipython3",
   "version": "3.6.7"
  }
 },
 "nbformat": 4,
 "nbformat_minor": 2
}
