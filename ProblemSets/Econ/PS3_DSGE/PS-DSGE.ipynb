{
 "cells": [
  {
   "cell_type": "markdown",
   "metadata": {},
   "source": [
    "# Exercise 5"
   ]
  },
  {
   "cell_type": "code",
   "execution_count": 1,
   "metadata": {},
   "outputs": [],
   "source": [
    "import numpy as np\n",
    "from scipy import optimize"
   ]
  },
  {
   "cell_type": "code",
   "execution_count": 2,
   "metadata": {},
   "outputs": [],
   "source": [
    "# paramters\n",
    "gamma = 2.5\n",
    "beta = 0.98\n",
    "alpha = 0.4\n",
    "delta = 0.1\n",
    "z = 0\n",
    "tau = 0.05"
   ]
  },
  {
   "cell_type": "code",
   "execution_count": 3,
   "metadata": {},
   "outputs": [],
   "source": [
    "# characterizing equations\n",
    "def chara5(x):\n",
    "    c,k,w,r,T = x\n",
    "    eq1 = (1-tau)*(w+(r-delta)*k) + T - c\n",
    "    eq2 = beta*((r-delta)*(1-tau)+1) - 1\n",
    "    eq3 = r - alpha*k**(alpha-1)*np.exp(z*(1-alpha))\n",
    "    eq4 = w - (1-alpha)*k**(alpha)*np.exp(z*(1-alpha))\n",
    "    eq5 = tau*(w+(r-delta)*k) - T\n",
    "    return (eq1, eq2, eq3, eq4, eq5)"
   ]
  },
  {
   "cell_type": "code",
   "execution_count": 4,
   "metadata": {},
   "outputs": [
    {
     "name": "stdout",
     "output_type": "stream",
     "text": [
      "Steady state consumption: 1.4845048188489622\n",
      "Steady state capital: 7.287497950683181\n",
      "Steady state wage: 1.3279527683506456\n",
      "Steady state rental rate: 0.12148227712137488\n",
      "Steady state tax revenue: 0.07422524094244812\n",
      "Steady state output: 2.2132546139176514\n",
      "Steady state investment: 0.7287497950683182\n"
     ]
    }
   ],
   "source": [
    "c,k,w,r,T = optimize.fsolve(chara5, [1,1,1,1,1])\n",
    "y = k**alpha*(np.exp(z))**(1-alpha)\n",
    "i = delta*k\n",
    "print(\"Steady state consumption: \" + str(c))\n",
    "print(\"Steady state capital: \" + str(k))\n",
    "print(\"Steady state wage: \" + str(w))\n",
    "print(\"Steady state rental rate: \" + str(r))\n",
    "print(\"Steady state tax revenue: \" + str(T))\n",
    "print(\"Steady state output: \" + str(y))\n",
    "print(\"Steady state investment: \" + str(i))"
   ]
  },
  {
   "cell_type": "code",
   "execution_count": 5,
   "metadata": {},
   "outputs": [
    {
     "name": "stdout",
     "output_type": "stream",
     "text": [
      "Algebraic solution for steady state capital: 7.287497950692988\n"
     ]
    }
   ],
   "source": [
    "algebra_k = (((1/beta-1)/(1-tau)+delta)/(alpha*np.exp(z*(1-alpha))))**(1/(alpha-1))\n",
    "print(\"Algebraic solution for steady state capital: \" + str(algebra_k))"
   ]
  },
  {
   "cell_type": "markdown",
   "metadata": {},
   "source": [
    "# Exercise 6"
   ]
  },
  {
   "cell_type": "code",
   "execution_count": 6,
   "metadata": {},
   "outputs": [],
   "source": [
    "# new parameters\n",
    "xi = 1.5\n",
    "a = 0.5"
   ]
  },
  {
   "cell_type": "code",
   "execution_count": 7,
   "metadata": {},
   "outputs": [],
   "source": [
    "# characterizing equations\n",
    "def chara6(x):\n",
    "    c,l,k,w,r,T = x\n",
    "    eq1 = (1-tau)*(w*l+(r-delta)*k) + T - c\n",
    "    eq2 = beta*((r-delta)*(1-tau)+1) - 1\n",
    "    eq3 = a*(1-l)**(-xi) - c**(-gamma)*w*(1-tau)\n",
    "    eq4 = r - alpha*k**(alpha-1)*np.exp(z*(1-alpha))*l**(1-alpha)\n",
    "    eq5 = w - (1-alpha)*k**(alpha)*np.exp(z*(1-alpha))*l**(-alpha)\n",
    "    eq6 = tau*(w*l+(r-delta)*k) - T\n",
    "    return (eq1, eq2, eq3, eq4, eq5, eq6)"
   ]
  },
  {
   "cell_type": "code",
   "execution_count": 8,
   "metadata": {},
   "outputs": [
    {
     "name": "stdout",
     "output_type": "stream",
     "text": [
      "Steady state consumption: 0.8607032061550597\n",
      "Steady state labor: 0.5797914531666389\n",
      "Steady state capital: 4.22522902676833\n",
      "Steady state wage: 1.327952768350197\n",
      "Steady state rental rate: 0.12148227712137481\n",
      "Steady state tax revenue: 0.04303516030775299\n",
      "Steady state output: 1.283226108830212\n",
      "Steady state investment: 0.42252290267683307\n"
     ]
    }
   ],
   "source": [
    "c,l,k,w,r,T = optimize.fsolve(chara6, [1,0.5,1,1,1,1])\n",
    "y = k**alpha*(l*np.exp(z))**(1-alpha)\n",
    "i = delta*k\n",
    "print(\"Steady state consumption: \" + str(c))\n",
    "print(\"Steady state labor: \" + str(l))\n",
    "print(\"Steady state capital: \" + str(k))\n",
    "print(\"Steady state wage: \" + str(w))\n",
    "print(\"Steady state rental rate: \" + str(r))\n",
    "print(\"Steady state tax revenue: \" + str(T))\n",
    "print(\"Steady state output: \" + str(y))\n",
    "print(\"Steady state investment: \" + str(i))"
   ]
  },
  {
   "cell_type": "code",
   "execution_count": 9,
   "metadata": {},
   "outputs": [
    {
     "name": "stdout",
     "output_type": "stream",
     "text": [
      "Algebraic solution for steady state capital: 4.22522902678119\n"
     ]
    }
   ],
   "source": [
    "algebra_k = (((1/beta-1)/(1-tau)+delta)/(alpha*l**(1-alpha)*np.exp(z*(1-alpha))))**(1/(alpha-1))\n",
    "print(\"Algebraic solution for steady state capital: \" + str(algebra_k))"
   ]
  },
  {
   "cell_type": "markdown",
   "metadata": {},
   "source": [
    "# Exercise 7"
   ]
  },
  {
   "cell_type": "code",
   "execution_count": 10,
   "metadata": {},
   "outputs": [],
   "source": [
    "def chara7(x,alpha,beta,gamma,delta,xi,tau,a,z):\n",
    "    c,l,k,w,r,T = x\n",
    "    eq1 = (1-tau)*(w*l+(r-delta)*k) + T - c\n",
    "    eq2 = beta*((r-delta)*(1-tau)+1) - 1\n",
    "    eq3 = a*(1-l)**(-xi) - c**(-gamma)*w*(1-tau)\n",
    "    eq4 = r - alpha*k**(alpha-1)*np.exp(z*(1-alpha))*l**(1-alpha)\n",
    "    eq5 = w - (1-alpha)*k**(alpha)*np.exp(z*(1-alpha))*l**(-alpha)\n",
    "    eq6 = tau*(w*l+(r-delta)*k) - T\n",
    "    return (eq1, eq2, eq3, eq4, eq5, eq6)"
   ]
  },
  {
   "cell_type": "code",
   "execution_count": 11,
   "metadata": {},
   "outputs": [],
   "source": [
    "def sol(para):\n",
    "    alpha,beta,gamma,delta,xi,tau,a,z = para\n",
    "    c,l,k,w,r,T = optimize.fsolve(chara7, [1,0.5,1,1,1,1], \\\n",
    "                                  args=(alpha,beta,gamma,delta,xi,tau,a,z))\n",
    "    y = k**alpha*(l*np.exp(z))**(1-alpha)\n",
    "    i = delta*k\n",
    "    return k,l,y,w,r,T,i,c"
   ]
  },
  {
   "cell_type": "code",
   "execution_count": 12,
   "metadata": {},
   "outputs": [],
   "source": [
    "import copy"
   ]
  },
  {
   "cell_type": "code",
   "execution_count": 13,
   "metadata": {
    "scrolled": true
   },
   "outputs": [
    {
     "name": "stdout",
     "output_type": "stream",
     "text": [
      "The derivative of k w.r.t alpha is: 25.984895354991266\n",
      "The derivative of k w.r.t beta is: 65.43044673223974\n",
      "The derivative of k w.r.t gamma is: 0.13869923032316933\n",
      "The derivative of k w.r.t delta is: -48.349842333816895\n",
      "The derivative of k w.r.t xi is: -0.8016557422330095\n",
      "The derivative of k w.r.t tau is: -2.323225348099811\n",
      "The derivative of k w.r.t a is: -1.8492546614012895\n",
      "The derivative of k w.r.t z is: 2.8382879508903613\n",
      "The derivative of l w.r.t alpha is: -0.7693809575548549\n",
      "The derivative of l w.r.t beta is: 0.26015011950208944\n",
      "The derivative of l w.r.t gamma is: 0.019032489473325143\n",
      "The derivative of l w.r.t delta is: 1.3197751776994338\n",
      "The derivative of l w.r.t xi is: -0.110004250930551\n",
      "The derivative of l w.r.t tau is: -0.1389237019866485\n",
      "The derivative of l w.r.t a is: -0.25375714918229875\n",
      "The derivative of l w.r.t z is: -0.19031786302470266\n",
      "The derivative of y w.r.t alpha is: 4.68369540140845\n",
      "The derivative of y w.r.t beta is: 8.294106733086615\n",
      "The derivative of y w.r.t gamma is: 0.042123745491728926\n",
      "The derivative of y w.r.t delta is: -4.12104984404138\n",
      "The derivative of y w.r.t xi is: -0.24346741456238163\n",
      "The derivative of y w.r.t tau is: -0.4667148202353033\n",
      "The derivative of y w.r.t a is: -0.561629175943601\n",
      "The derivative of y w.r.t z is: 0.8620042156737284\n",
      "The derivative of w w.r.t alpha is: 4.395878365093253\n",
      "The derivative of w w.r.t beta is: 7.987349493032703\n",
      "The derivative of w w.r.t gamma is: 3.3306690738754696e-10\n",
      "The derivative of w w.r.t delta is: -7.287497919783448\n",
      "The derivative of w w.r.t xi is: 1.3322676295501878e-09\n",
      "The derivative of w w.r.t tau is: -0.16479162845417505\n",
      "The derivative of w w.r.t a is: 5.10702591327572e-09\n",
      "The derivative of w w.r.t z is: 1.3279527636411714\n",
      "The derivative of r w.r.t alpha is: -6.245004513516506e-11\n",
      "The derivative of r w.r.t beta is: -1.0960345470101274\n",
      "The derivative of r w.r.t gamma is: 2.0816681711721685e-11\n",
      "The derivative of r w.r.t delta is: 1.000000000001\n",
      "The derivative of r w.r.t xi is: 1.3877787807814457e-11\n",
      "The derivative of r w.r.t tau is: 0.022612923269993424\n",
      "The derivative of r w.r.t a is: 2.0816681711721685e-11\n",
      "The derivative of r w.r.t z is: 2.0816681711721685e-11\n",
      "The derivative of T w.r.t alpha is: 0.10426029337443077\n",
      "The derivative of T w.r.t beta is: 0.08755310310082365\n",
      "The derivative of T w.r.t gamma is: 0.00141269112033382\n",
      "The derivative of T w.r.t delta is: -0.17556473203353407\n",
      "The derivative of T w.r.t xi is: -0.008165092026113374\n",
      "The derivative of T w.r.t tau is: 0.8489835918688848\n",
      "The derivative of T w.r.t a is: -0.01883518551890062\n",
      "The derivative of T w.r.t z is: 0.028908771050606408\n",
      "The derivative of i w.r.t alpha is: 2.5984895354880244\n",
      "The derivative of i w.r.t beta is: 6.543044673207321\n",
      "The derivative of i w.r.t gamma is: 0.013869923043419163\n",
      "The derivative of i w.r.t delta is: -0.6097552061601341\n",
      "The derivative of i w.r.t xi is: -0.08016557423440318\n",
      "The derivative of i w.r.t tau is: -0.23232253479332776\n",
      "The derivative of i w.r.t a is: -0.18492546613457783\n",
      "The derivative of i w.r.t z is: 0.2838287950779339\n",
      "The derivative of c w.r.t alpha is: 2.0852058675302487\n",
      "The derivative of c w.r.t beta is: 1.7510620619609618\n",
      "The derivative of c w.r.t gamma is: 0.02825382239279861\n",
      "The derivative of c w.r.t delta is: -3.511294640767826\n",
      "The derivative of c w.r.t xi is: -0.1633018404945119\n",
      "The derivative of c w.r.t tau is: -0.23439228574728688\n",
      "The derivative of c w.r.t a is: -0.37670371033637906\n",
      "The derivative of c w.r.t z is: 0.5781754209843726\n"
     ]
    }
   ],
   "source": [
    "# numerical differentiation\n",
    "para0 = [0.4,0.98,2.5,0.1,1.5,0.05,0.5,0]\n",
    "y = [\"k\",\"l\",\"y\",\"w\",\"r\",\"T\",\"i\",\"c\"]\n",
    "x = [\"alpha\",\"beta\",\"gamma\",\"delta\",\"xi\",\"tau\",\"a\",\"z\"]\n",
    "\n",
    "d = 10 ** (-6)\n",
    "\n",
    "for i in range(8):\n",
    "    for j in range(8):\n",
    "        paraR = copy.deepcopy(para0)\n",
    "        paraL = copy.deepcopy(para0)\n",
    "        paraR[j] = para0[j] + d\n",
    "        paraL[j] = para0[j] - d\n",
    "        der = (sol(paraR)[i] - sol(paraL)[i])/(2*d)\n",
    "        print(\"The derivative of \" + y[i] + \" w.r.t \" + x[j] + \" is: \" + str(der))\n"
   ]
  }
 ],
 "metadata": {
  "kernelspec": {
   "display_name": "Python 3",
   "language": "python",
   "name": "python3"
  },
  "language_info": {
   "codemirror_mode": {
    "name": "ipython",
    "version": 3
   },
   "file_extension": ".py",
   "mimetype": "text/x-python",
   "name": "python",
   "nbconvert_exporter": "python",
   "pygments_lexer": "ipython3",
   "version": "3.7.3"
  }
 },
 "nbformat": 4,
 "nbformat_minor": 2
}
