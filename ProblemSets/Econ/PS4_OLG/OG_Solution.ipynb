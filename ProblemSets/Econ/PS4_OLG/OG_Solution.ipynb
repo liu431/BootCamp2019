{
 "cells": [
  {
   "cell_type": "markdown",
   "metadata": {},
   "source": [
    "## OG Model\n",
    "\n",
    "Li Liu\n",
    "\n",
    "Link to problem sets: https://github.com/OpenSourceEcon/BootCamp2019/blob/master/Econ/Wk4_OG/OG_probset.pdf"
   ]
  },
  {
   "cell_type": "code",
   "execution_count": 1,
   "metadata": {
    "collapsed": true
   },
   "outputs": [],
   "source": [
    "import numpy as np\n",
    "import time\n",
    "import scipy.optimize as opt\n",
    "import matplotlib.pyplot as plt\n",
    "import scipy.linalg as la"
   ]
  },
  {
   "cell_type": "code",
   "execution_count": 2,
   "metadata": {
    "collapsed": true
   },
   "outputs": [],
   "source": [
    "# Set params\n",
    "alpha = .35\n",
    "delta = 0.6415\n",
    "beta = 0.442\n",
    "sigma = 3\n",
    "A = 1\n",
    "SS_tol = 0.001\n",
    "nvec = np.array([1,1,.2])\n",
    "\n",
    "f_params = (beta, nvec, A, alpha, delta, sigma, SS_tol)"
   ]
  },
  {
   "cell_type": "code",
   "execution_count": 158,
   "metadata": {
    "collapsed": true
   },
   "outputs": [],
   "source": [
    "def get_L(nvec):\n",
    "    '    Labor market clearing  '\n",
    "    L = np.sum(nvec)\n",
    "    return L\n",
    "\n",
    "def get_K(bvec):\n",
    "    '    Capital market clearing  '   \n",
    "    K = np.sum(bvec)\n",
    "    return K\n",
    "\n",
    "def get_L(nvec):\n",
    "    '    Capital market clearing  '   \n",
    "    L = np.sum(nvec)\n",
    "    return L\n",
    "\n",
    "\n",
    "def get_r(K,L,f_params):\n",
    "    '    Firms optimization / interest rate  '     \n",
    "    beta, nvec, A, alpha, delta, sigma, SS_tol = f_params\n",
    "    r = alpha*A*np.sign(K/L)*np.abs(K/L)**(alpha-1)-delta\n",
    "    return r \n",
    "    \n",
    "def get_w(K,L,f_params):\n",
    "    '    Firms optimization / wages  '        \n",
    "    beta, nvec, A, alpha, delta, sigma, SS_tol = f_params\n",
    "    w = (1-alpha)*A*np.sign(K/L)*np.abs(K/L)**(alpha)\n",
    "    return w\n",
    "\n",
    "def mUtil(c, sigma):\n",
    "    mu = np.sign(c)*np.abs(c)**(-sigma)\n",
    "    return mu\n",
    "\n"
   ]
  },
  {
   "cell_type": "markdown",
   "metadata": {},
   "source": [
    "## Exercise 2.1."
   ]
  },
  {
   "cell_type": "code",
   "execution_count": 4,
   "metadata": {
    "collapsed": true
   },
   "outputs": [],
   "source": [
    "def feasible(f_params, bvec_guess):\n",
    "    ''' Check feasibility for the steady state given a guess for the savings vector b  '''\n",
    "    \n",
    "    # initialize\n",
    "    c = np.zeros(3)\n",
    "    \n",
    "    # unpack parameters\n",
    "    beta, nvec, A, alpha, delta, sigma, SS_tol = f_params\n",
    "    n1, n2, n3 = nvec\n",
    "    b2, b3 = bvec_guess\n",
    "    \n",
    "    # Initialize the boolians\n",
    "    K_cnstr, c_cnstr, b_cnstr = np.full(1, False), np.full(3, False), np.full(2, False)\n",
    "    \n",
    "    K = get_K(bvec_guess)\n",
    "    L = get_L(nvec)\n",
    "    w = get_w(K,L,f_params) #in steady state, they are the same \n",
    "    r = get_r(K,L,f_params)\n",
    "    c[0] = n1*w - b2 \n",
    "    c[1] = n2*w + (1+r)*b2 - b3\n",
    "    c[2] = n3*w + (1+r)*b3\n",
    "          \n",
    "    K_cnstr[K <= 0] = True\n",
    "    c_cnstr[c <=0] = True\n",
    "\n",
    "    for iB in range(3):\n",
    "        if c_cnstr[iB] == True:\n",
    "            b_cnstr[0:iB]  == True\n",
    "\n",
    "    \n",
    "    return b_cnstr, c_cnstr, K_cnstr"
   ]
  },
  {
   "cell_type": "code",
   "execution_count": 5,
   "metadata": {},
   "outputs": [
    {
     "name": "stdout",
     "output_type": "stream",
     "text": [
      "constraint satisfied?\n",
      "b  [False False] c [ True False False] K [False]\n"
     ]
    }
   ],
   "source": [
    "# Part a.\n",
    "\n",
    "bvec_guess = np.array([1.0, 1.2])\n",
    "b_cnstr, c_cnstr, K_cnstr = feasible(f_params, bvec_guess)\n",
    "\n",
    "print('constraint satisfied?')\n",
    "print('b ', b_cnstr,'c', c_cnstr, 'K',K_cnstr)"
   ]
  },
  {
   "cell_type": "code",
   "execution_count": 6,
   "metadata": {},
   "outputs": [
    {
     "name": "stdout",
     "output_type": "stream",
     "text": [
      "constraint satisfied?\n",
      "b  [False False] c [False False False] K [False]\n"
     ]
    }
   ],
   "source": [
    "# Part b.\n",
    "\n",
    "bvec_guess = np.array([0.06, -0.001])\n",
    "b_cnstr, c_cnstr, K_cnstr = feasible(f_params, bvec_guess)\n",
    "\n",
    "print('constraint satisfied?')\n",
    "print('b ', b_cnstr,'c', c_cnstr, 'K',K_cnstr)"
   ]
  },
  {
   "cell_type": "code",
   "execution_count": 7,
   "metadata": {},
   "outputs": [
    {
     "name": "stdout",
     "output_type": "stream",
     "text": [
      "constraint satisfied?\n",
      "b  [False False] c [False False False] K [False]\n"
     ]
    }
   ],
   "source": [
    "# Part c.\n",
    "\n",
    "bvec_guess = np.array([0.1, 0.1])\n",
    "b_cnstr, c_cnstr, K_cnstr = feasible(f_params, bvec_guess)\n",
    "\n",
    "print('constraint satisfied?')\n",
    "print('b ', b_cnstr,'c', c_cnstr, 'K',K_cnstr)"
   ]
  },
  {
   "cell_type": "markdown",
   "metadata": {},
   "source": [
    "## Exercise 2.2"
   ]
  },
  {
   "cell_type": "code",
   "execution_count": 8,
   "metadata": {
    "collapsed": true
   },
   "outputs": [],
   "source": [
    "def Eul_errs_fn(bvec,f_params):\n",
    "    # initialize\n",
    "    EulErr = np.zeros(2)\n",
    "    c = np.zeros(3)\n",
    "    \n",
    "    # unpack parameters\n",
    "    beta, nvec, A, alpha, delta, sigma, SS_tol = f_params\n",
    "    n1, n2, n3 = nvec\n",
    "    b2, b3 = bvec\n",
    "        \n",
    "    K = get_K(bvec)\n",
    "    L = get_L(nvec)\n",
    "    w = get_w(K,L,f_params) #in steady state, they are the same \n",
    "    r = get_r(K,L,f_params)\n",
    "    \n",
    "    c[0] = n1*w - b2\n",
    "    c[1] = n2*w + (1+r)*b2 - b3\n",
    "    c[2] = n3*w + (1+r)*b3\n",
    "\n",
    "    EulErr[0] = mUtil(c[0], sigma) - beta*(1+r)*mUtil(c[1], sigma)\n",
    "    EulErr[1] = mUtil(c[1], sigma) - beta*(1+r)*mUtil(c[2], sigma)\n",
    "    \n",
    "    return EulErr"
   ]
  },
  {
   "cell_type": "code",
   "execution_count": 9,
   "metadata": {
    "collapsed": true
   },
   "outputs": [],
   "source": [
    "def get_SS(f_params, bvec_guess, SS_graphs=False):\n",
    "    \n",
    "    '''\n",
    "    INPUT : \n",
    "        f_arams : a tuple of the parameters for the model\n",
    "        bvec_guess : an initial guess of the steady-state savings\n",
    "        SS graphs : generates a figure of the steady-state distribution of consumption\n",
    "          and savings if it is set to True.\n",
    "    '''\n",
    "    \n",
    "    start_time = time.perf_counter()\n",
    "\n",
    "    # initialize \n",
    "    EulErr_ss = np.zeros(2)\n",
    "    c_ss = np.zeros(3)\n",
    "    \n",
    "    # unpack parameters\n",
    "    beta, nvec, A, alpha, delta, sigma, SS_tol = f_params\n",
    "    n1, n2, n3 = nvec\n",
    "    \n",
    "\n",
    "    Fn = lambda bvec: Eul_errs_fn(bvec,f_params)\n",
    "    root_found = opt.root(Fn, bvec_guess, tol=SS_tol)\n",
    "    \n",
    "    # Calculate steady-state levels of equilibrium objects\n",
    "    b_ss = root_found.x\n",
    "    Euler_ss = root_found.fun\n",
    "    \n",
    "    b2, b3 = b_ss\n",
    "\n",
    "        \n",
    "    K_ss = get_K(b_ss)\n",
    "    L_ss = get_L(nvec)\n",
    "    w_ss = get_w(K_ss,L_ss,f_params) #in steady state, they are the same \n",
    "    r_ss = get_r(K_ss,L_ss,f_params)\n",
    "    \n",
    "    c_ss[0] = n1*w_ss - b2\n",
    "    c_ss[1] = n2*w_ss + (1+r_ss)*b2 - b3\n",
    "    c_ss[2] = n3*w_ss + (1+r_ss)*b3\n",
    "        \n",
    "    Y_ss = A*(K_ss)**alpha*L_ss**(1-alpha)\n",
    "    C_ss = np.sum(c_ss)\n",
    "\n",
    "    \n",
    "    RCerr_ss =  Y_ss - C_ss - delta*K_ss\n",
    "    \n",
    "    if SS_graphs == True:\n",
    "        fig, ax = plt.subplots(figsize=(4,4))\n",
    "        s = range(3)\n",
    "        plt.plot(s, c_ss, label=r'$\\bar{c}_s$', marker='o')\n",
    "        plt.plot(s[1:], b_ss, label=r'$\\bar{b}_s$', marker='o')\n",
    "        plt.title(\"Steady-State Consumption and Savings\")\n",
    "        plt.legend()\n",
    "        plt.grid()\n",
    "        plt.xlabel(\"Cohort\")\n",
    "        plt.ylabel(\"Level\")\n",
    "        plt.xticks(s)\n",
    "        plt.show()\n",
    "\n",
    "    ss_time = time.perf_counter()\n",
    "    ss_output = {'b_ss': b_ss, 'c_ss': c_ss, 'w_ss': w_ss, \\\n",
    "                 'r_ss': r_ss,'K_ss': K_ss, 'Y_ss': Y_ss, 'C_ss': C_ss, 'EulErr_ss': EulErr_ss, 'RCerr_ss': RCerr_ss,'ss_time': ss_time}\n",
    "        \n",
    "    return ss_output"
   ]
  },
  {
   "cell_type": "code",
   "execution_count": 25,
   "metadata": {},
   "outputs": [
    {
     "name": "stdout",
     "output_type": "stream",
     "text": [
      "{'b_ss': array([0.01931262, 0.05841243]), 'c_ss': array([0.18241333, 0.20961424, 0.24087656]), 'w_ss': 0.20172594930955895, 'r_ss': 2.433025771148647, 'K_ss': 0.07772504796372812, 'Y_ss': 0.6827647515092765, 'C_ss': 0.6329041332405448, 'EulErr_ss': array([0., 0.]), 'RCerr_ss': 9.020562075079397e-17, 'ss_time': 328.611962587}\n"
     ]
    }
   ],
   "source": [
    "# Part a.\n",
    "\n",
    "# Set params\n",
    "alpha = .35\n",
    "delta = 0.6415\n",
    "beta = .442\n",
    "sigma = 3\n",
    "A = 1\n",
    "SS_tol = 0.001\n",
    "nvec = np.array([1,1,.2])\n",
    "f_params = (beta, nvec, A, alpha, delta, sigma, SS_tol)\n",
    "\n",
    "#\n",
    "results_ss = get_SS(f_params, np.array([.1, .1]))\n",
    "print(results_ss)"
   ]
  },
  {
   "cell_type": "code",
   "execution_count": 11,
   "metadata": {
    "scrolled": true
   },
   "outputs": [
    {
     "data": {
      "image/png": "[encoded data removed]",
      "text/plain": [
       "<Figure size 288x288 with 1 Axes>"
      ]
     },
     "metadata": {
      "needs_background": "light"
     },
     "output_type": "display_data"
    }
   ],
   "source": [
    "# Part b.\n",
    "\n",
    "results_ss = get_SS(f_params, np.array([.1, .1]), True)"
   ]
  },
  {
   "cell_type": "code",
   "execution_count": 22,
   "metadata": {},
   "outputs": [
    {
     "data": {
      "image/png": "[encoded data removed]",
      "text/plain": [
       "<Figure size 288x288 with 1 Axes>"
      ]
     },
     "metadata": {
      "needs_background": "light"
     },
     "output_type": "display_data"
    },
    {
     "name": "stdout",
     "output_type": "stream",
     "text": [
      "{'b_ss': array([0.02817667, 0.07686515]), 'c_ss': array([0.19597511, 0.22861536, 0.26669277]), 'w_ss': 0.22415178438531141, 'r_ss': 1.8863851251981048, 'K_ss': 0.10504181919699425, 'Y_ss': 0.7586675779195158, 'C_ss': 0.6912832509046438, 'EulErr_ss': array([0., 0.]), 'RCerr_ss': 1.5265566588595902e-16, 'ss_time': 197.636353495}\n"
     ]
    }
   ],
   "source": [
    "# Part c.\n",
    "\n",
    "# Set params\n",
    "N_gen = 20\n",
    "alpha = .35\n",
    "delta = 0.6415\n",
    "beta = .55\n",
    "sigma = 3\n",
    "A = 1\n",
    "SS_tol = 0.001\n",
    "f_params = (beta, nvec, A, alpha, delta, sigma, SS_tol)\n",
    "guess = np.array([.01, .01])\n",
    "\n",
    "#\n",
    "results_ss = get_SS(f_params, guess, True)\n",
    "print(results_ss)"
   ]
  },
  {
   "cell_type": "markdown",
   "metadata": {},
   "source": [
    "### Conclusion\n",
    "\n",
    "- With higher discount rate, agents become more patient. They save more and consume later in their life  "
   ]
  },
  {
   "cell_type": "code",
   "execution_count": 100,
   "metadata": {},
   "outputs": [
    {
     "name": "stdout",
     "output_type": "stream",
     "text": [
      "b2 st. state: 0.0193\n"
     ]
    }
   ],
   "source": [
    "b2bar, b3bar = results_ss.get(\"b_ss\")\n",
    "\n",
    "print('b2 st. state:', round(b2bar,4))"
   ]
  },
  {
   "cell_type": "markdown",
   "metadata": {},
   "source": [
    "## Exercise 2.3. Time Path Iteration"
   ]
  },
  {
   "cell_type": "code",
   "execution_count": 85,
   "metadata": {
    "collapsed": true
   },
   "outputs": [],
   "source": [
    "def Eul_b32_fn(b32, b21,r, w, f_params):\n",
    "    '''\n",
    "    r is a 2x1 array of interet rates\n",
    "    w is a 2x1 array of interet rates    \n",
    "    b21 is already established by the guess\n",
    "    plug this fn into a root-finder to solve for b32\n",
    "    '''\n",
    "    \n",
    "    # unpack parameters\n",
    "    beta, nvec, A, alpha, delta, sigma, SS_tol = f_params\n",
    "    n1, n2, n3 = nvec\n",
    "    r1, r2 = r\n",
    "    w1, w2 = w\n",
    "            \n",
    "    c21 = n2*w1 +(1+r1)*b21 - b32\n",
    "    c32= n3*w2 + (1+r2)*b32\n",
    "\n",
    "    EulErr = mUtil(c21, sigma) - beta*(1+r2)*mUtil(c32, sigma)\n",
    "    \n",
    "    return EulErr\n",
    "\n",
    "def Eul_b22b33_fn(bvec,r,w, f_params):\n",
    "    '''\n",
    "    r is a 3x1 array of interet rates\n",
    "    w is 3x1 array\n",
    "    '''    \n",
    "    EulErr = np.zeros(2)\n",
    "    # unpack parameters\n",
    "    beta, nvec, A, alpha, delta, sigma, SS_tol = f_params\n",
    "    n1, n2, n3 = nvec\n",
    "    r2, r3 = r\n",
    "    w1, w2, w3 = w\n",
    "    b22, b33 = bvec\n",
    "            \n",
    "    c12 = n1*w1  - b22   \n",
    "    c23= n2*w2 + (1+r2)*b22 - b33        \n",
    "    c33 = n3*w3 + (1+r3)*b33\n",
    "\n",
    "    EulErr[0] = mUtil(c12, sigma) - beta*(1+r2)*mUtil(c23, sigma)\n",
    "    EulErr[1] = mUtil(c23, sigma) - beta*(1+r3)*mUtil(c33, sigma)\n",
    "    return EulErr\n",
    "\n",
    "def eul_b2t_b3t1(bvec, err2_args):\n",
    "    \"\"\"Solve for b_{2,t} and b_{3,t+1} for t=3,...,T+1 using two\n",
    "    intertemporal Euler Equations.\n",
    "    \n",
    "    Parameters:\n",
    "        bvec: a 2 element numpy array with a guess for the savings vector\n",
    "        that satisfies the intertemporal Euler equations\n",
    "        err2_args: a tuple with the model parameters beta, sigma, rpath, wpath, nvec\n",
    "        \n",
    "    Returns:\n",
    "        err1: (float) error in intertemporal Euler equation from using bvec\n",
    "        err2: (float) error in intertemporal Euler equation from using bvec\n",
    "    \n",
    "    \"\"\"\n",
    "    \n",
    "    # rpath has two elements: r_2 and r_3\n",
    "    # wpath has three elements: w_1, w_2, and w_3\n",
    "    beta, sigma, rpath, wpath, nvec = err2_args \n",
    "    \n",
    "    # Calculate consumption in each period from budget constraints\n",
    "    c1 = nvec[0] * wpath[0] - bvec[0]\n",
    "    c2 = nvec[1] * wpath[1] + (1 + rpath[0]) * bvec[0] - bvec[1]\n",
    "    c3 = (1 + rpath[1]) * bvec[1] + nvec[2] * wpath[2]\n",
    "    \n",
    "    # Calculate marginal utility of consumption\n",
    "    MU1 = c1 ** (-sigma)\n",
    "    MU2 = c2 ** (-sigma)\n",
    "    MU3 = c3 ** (-sigma)\n",
    "    \n",
    "    # Calculate error from intertemporal Euler Equations\n",
    "    err1 = MU1 - beta * (1 + rpath[0]) * MU2\n",
    "    err2 = MU2 - beta * (1 + rpath[1]) * MU3\n",
    "    \n",
    "    return err1, err2"
   ]
  },
  {
   "cell_type": "code",
   "execution_count": 86,
   "metadata": {
    "collapsed": true
   },
   "outputs": [],
   "source": [
    "# Set params\n",
    "alpha = .35\n",
    "delta = 0.6415\n",
    "beta = .442\n",
    "sigma = 3\n",
    "A = 1\n",
    "SS_tol = 0.001\n",
    "nvec = np.array([1,1,.2])\n",
    "f_params = (beta, nvec, A, alpha, delta, sigma, SS_tol)\n",
    "\n",
    "# Set add. parameters\n",
    "T = 2\n",
    "path_tol = 1e-9\n",
    "xi = .8\n",
    "maxIter = 100\n",
    "eps = path_tol + 100\n",
    "bvec_guess = np.array([.1, .1])\n"
   ]
  },
  {
   "cell_type": "code",
   "execution_count": 157,
   "metadata": {},
   "outputs": [
    {
     "name": "stdout",
     "output_type": "stream",
     "text": [
      "counter: 1 eps_tol: 0.005204141974155501\n",
      "counter: 2 eps_tol: 0.002111012582797936\n",
      "counter: 3 eps_tol: 0.0010888211396958229\n",
      "counter: 4 eps_tol: 0.0005833555881645702\n",
      "counter: 5 eps_tol: 0.00031629689313023354\n",
      "counter: 6 eps_tol: 0.00017243146880500186\n",
      "counter: 7 eps_tol: 9.426734267317916e-05\n",
      "counter: 8 eps_tol: 5.1609226297490424e-05\n",
      "counter: 9 eps_tol: 2.8270603487580528e-05\n",
      "counter: 10 eps_tol: 1.548495629356614e-05\n",
      "counter: 11 eps_tol: 8.476750845172893e-06\n",
      "counter: 12 eps_tol: 4.635472288187141e-06\n",
      "counter: 13 eps_tol: 2.53110016833337e-06\n",
      "counter: 14 eps_tol: 1.3793255772703782e-06\n",
      "counter: 15 eps_tol: 7.497401192741561e-07\n",
      "counter: 16 eps_tol: 4.0615456044135106e-07\n",
      "counter: 17 eps_tol: 2.1903826096351374e-07\n",
      "counter: 18 eps_tol: 1.1742207819478046e-07\n",
      "counter: 19 eps_tol: 6.245933879217622e-08\n",
      "counter: 20 eps_tol: 3.2900292737482435e-08\n",
      "counter: 21 eps_tol: 1.7127981354419956e-08\n",
      "counter: 22 eps_tol: 8.797343022817969e-09\n",
      "counter: 23 eps_tol: 4.451793765646834e-09\n",
      "counter: 24 eps_tol: 2.2174599802260766e-09\n",
      "counter: 25 eps_tol: 1.0865217256335492e-09\n",
      "counter: 26 eps_tol: 5.23785705299831e-10\n"
     ]
    }
   ],
   "source": [
    "counter = 0\n",
    "max_AbsEulErrs = np.zeros(maxIter)\n",
    "# Get the Steady State\n",
    "results_ss = get_SS(f_params, bvec_guess, False)\n",
    "bbar = results_ss[\"b_ss\"]\n",
    "Kbar = results_ss['K_ss']\n",
    "rbar = results_ss['r_ss']\n",
    "wbar = results_ss['w_ss']\n",
    "\n",
    "# Guess initial transition path (linear for K) and initialize \n",
    "bvec_new, EulErrs = np.zeros((T+1,2)), np.zeros((T+1,2))\n",
    "Kpath_new,Ct, Yt, Res  = np.zeros(T),np.zeros(T),np.zeros(T),np.zeros(T)\n",
    "# Set b21, b31 \n",
    "bvec_new[0,:] = .8 * bbar[0], 1.1 * bbar[1]\n",
    "b21 = bvec_new[0,0]\n",
    "\n",
    "K1 = get_K(bvec_new[0,:])\n",
    "\n",
    "Kpath = np.linspace(K1, Kbar, T)\n",
    "Kpath = np.append(Kpath, Kbar)\n",
    "L = get_L(nvec)\n",
    "\n",
    "# Get wage and interest rate paths in starting iteration\n",
    "rpath = get_r(Kpath, L, f_params)\n",
    "wpath = get_w(Kpath, L, f_params)\n",
    "rpath = np.append(rpath,rbar) # add sth for T+1 period \n",
    "wpath = np.append(wpath,wbar) # add sth for T+1 period \n",
    "\n",
    "# unpack parameters\n",
    "beta, nvec, A, alpha, delta, sigma, SS_tol = f_params\n",
    "n1, n2, n3 = nvec\n",
    "\n",
    "# Solve for time-path equilibrium of aggregate capital\n",
    "while (counter < maxIter and eps > path_tol):    \n",
    "    # Solve for b32,     #b32, b21 given from bvec_new\n",
    "    f = lambda b32: Eul_b32_fn(b32,b21,rpath[0:2], wpath[0:2], f_params) \n",
    "    root_f1 = opt.root(f, .1, tol=SS_tol) # b32_guess = .1\n",
    "\n",
    "    bvec_new[1,1] = root_f1.x\n",
    "    EulErrs[1,1] = root_f1.fun\n",
    "    Kpath_new[0] = get_K(bvec_new[0,:])\n",
    "    \n",
    "    # Solve for b_{2,t} and b_{3,t+1} using the twisted donut method\n",
    "    for tT in range(1,T):\n",
    "        # Solve second set of Eul. Eqs b22,b33\n",
    "        f2 = lambda bvec: Eul_b22b33_fn(bvec,rpath[tT:tT+2],wpath[tT-1:tT+2], f_params)\n",
    "        root_f2 = opt.root(f2, bvec_guess, tol=SS_tol)\n",
    "        bvec_new[tT,0] = root_f2.x[0]\n",
    "        bvec_new[tT+1,1] = root_f2.x[1]\n",
    "        # Collect Euler errors\n",
    "        EulErrs[tT,0] = root_f2.fun[0]\n",
    "        EulErrs[tT+1,1] = root_f2.fun[1]\n",
    "        \n",
    "        # Calculate new aggregate capital levels\n",
    "        Kpath_new[tT] = get_K(bvec_new[tT,:])\n",
    "        \n",
    "        #Calculate agg consumpiton \n",
    "        b2t = bvec_new[tT,0]\n",
    "        b3t = bvec_new[tT,1]\n",
    "        r = rpath[tT]\n",
    "        w = wpath[tT]\n",
    "\n",
    "        c1t = nvec[0] * w - b2t\n",
    "        c2t = nvec[1] * w + (1 + r) * b2t - b3t\n",
    "        c3t = nvec[2] * w + (1 + r) * b3t\n",
    "        Ct[tT] = c1t + c2t + c3t\n",
    "        Yt[tT] = A * (Kpath[tT] ** alpha) * (L **(1 - alpha))\n",
    "        Res[tT] = Yt[tT]- Ct[tT] - Kpath[tT-1] + (1-delta)*Kpath[tT]\n",
    "        \n",
    "    # Calculate maximum of the absolute values of all the Euler \n",
    "    # errors across the entire time path.\n",
    "    max_AbsEulErrs[counter]= np.amax(np.abs(EulErrs))\n",
    "          \n",
    "    # Calculate difference from last capital series\n",
    "    eps = la.norm(Kpath[0:T] - Kpath_new[0:T],2)\n",
    "    \n",
    "    # Update capital series\n",
    "    Kpath[0:T] = xi*Kpath_new[0:T] + (1-xi)* Kpath[0:T] \n",
    "   \n",
    "    # Update interest rates and wages\n",
    "    rpath[0:T] = get_r(Kpath[0:T], L, f_params)\n",
    "    wpath[0:T] = get_w(Kpath[0:T], L, f_params)\n",
    "\n",
    "    counter = counter + 1\n",
    "    print('counter:',counter,'eps_tol:',eps)\n",
    "    \n",
    "eps = 100\n",
    "bpath = bvec_new.copy()\n",
    "Ct[tT] = c1t + c2t + c3t\n",
    "Yt[tT] = A * (Kpath[tT] ** alpha) * (L **(1 - alpha))\n",
    "Res[tT] = Yt[tT]- Ct[tT] - Kpath[tT-1] + (1-delta)*Kpath[tT]\n"
   ]
  },
  {
   "cell_type": "markdown",
   "metadata": {},
   "source": [
    "### Part a.\n"
   ]
  },
  {
   "cell_type": "code",
   "execution_count": 164,
   "metadata": {},
   "outputs": [
    {
     "name": "stdout",
     "output_type": "stream",
     "text": [
      "Max Abs Euler Error: 0.00080665\n",
      "Max Resource Const. Error: 0.00433057\n"
     ]
    }
   ],
   "source": [
    "max_error =np.amax(np.abs(EulErrs))\n",
    "print('Max Abs Euler Error:', round(np.amax(np.abs(EulErrs)),8))\n",
    "max_res_error =np.amax(np.abs(Res))\n",
    "print('Max Resource Const. Error:', round(np.amax(np.abs(Res)),8))\n"
   ]
  },
  {
   "cell_type": "code",
   "execution_count": 188,
   "metadata": {},
   "outputs": [
    {
     "data": {
      "text/plain": [
       "Text(0.5, 1.0, 'Int. Rate')"
      ]
     },
     "execution_count": 188,
     "metadata": {},
     "output_type": "execute_result"
    },
    {
     "data": {
      "image/png": "[encoded data removed]",
      "text/plain": [
       "<Figure size 432x288 with 1 Axes>"
      ]
     },
     "metadata": {
      "needs_background": "light"
     },
     "output_type": "display_data"
    },
    {
     "data": {
      "image/png": "[encoded data removed]",
      "text/plain": [
       "<Figure size 432x288 with 1 Axes>"
      ]
     },
     "metadata": {
      "needs_background": "light"
     },
     "output_type": "display_data"
    },
    {
     "data": {
      "image/png": "[encoded data removed]",
      "text/plain": [
       "<Figure size 432x288 with 1 Axes>"
      ]
     },
     "metadata": {
      "needs_background": "light"
     },
     "output_type": "display_data"
    },
    {
     "data": {
      "image/png": "[encoded data removed]",
      "text/plain": [
       "<Figure size 432x288 with 1 Axes>"
      ]
     },
     "metadata": {
      "needs_background": "light"
     },
     "output_type": "display_data"
    }
   ],
   "source": [
    "# Plot solution\n",
    "plt.figure()\n",
    "plt.plot(range(T+1),Kpath)\n",
    "plt.title('Kpath')\n",
    "plt.figure()\n",
    "plt.plot(range(T+1),EulErrs)\n",
    "plt.title('Eul Errors')\n",
    "plt.figure()\n",
    "plt.plot(range(T+2),wpath)\n",
    "plt.ylim(0.199, 0.205)\n",
    "plt.title('Wage')\n",
    "plt.figure()\n",
    "plt.plot(range(T+2),rpath)\n",
    "plt.title('Int. Rate')"
   ]
  },
  {
   "cell_type": "markdown",
   "metadata": {},
   "source": [
    "\n",
    "### c.  How many periods did it take for the economy to get within 0.00001 of the steady-state aggregate capital stock $\\bar{K}$?\n"
   ]
  },
  {
   "cell_type": "code",
   "execution_count": 201,
   "metadata": {},
   "outputs": [
    {
     "name": "stdout",
     "output_type": "stream",
     "text": [
      "Kbar converges to the steady state at t =  2\n",
      "[ 2 10 11 12 13 14 15 16 17 18 19 20 21 22 23 24 25]\n",
      "The path converges permanently after period 10\n"
     ]
    }
   ],
   "source": [
    "DistToKbar = np.abs(Kpath - Kbar)\n",
    "ConvPoint = np.where(DistToKbar < .00001)[0]\n",
    "print('Kbar converges to the steady state at t = ',ConvPoint[0])\n",
    "print(ConvPoint)\n",
    "print('The path converges permanently after period', 10)"
   ]
  },
  {
   "cell_type": "markdown",
   "metadata": {},
   "source": [
    "# Chapter 3 - S-period lived\n",
    "\n",
    "## Problem 3.2\n"
   ]
  },
  {
   "cell_type": "code",
   "execution_count": 159,
   "metadata": {
    "collapsed": true
   },
   "outputs": [],
   "source": [
    "def Eul_errs_fn_S(bvec,S,f_params):\n",
    "    # initialize\n",
    "    bvec = np.insert(bvec, 0, 0)\n",
    "    EulErr = np.zeros(S-1)\n",
    "    c = np.zeros(S)\n",
    "    # unpack parameters\n",
    "    beta, nvec, A, alpha, delta, sigma, SS_tol = f_params\n",
    "\n",
    "    K = get_K(bvec)\n",
    "    L = get_L(nvec)\n",
    "    w = get_w(K,L,f_params) #in steady state, they are the same \n",
    "    r = get_r(K,L,f_params)\n",
    "    \n",
    "    c = find_c(nvec,bvec,w,r,f_params)\n",
    "    \n",
    "    for sS in range(S-1):    \n",
    "        EulErr[sS] = mUtil(c[sS], sigma) - beta**(80/S)*(1+r)*mUtil(c[sS+1], sigma)       \n",
    "    \n",
    "    return EulErr"
   ]
  },
  {
   "cell_type": "code",
   "execution_count": 160,
   "metadata": {
    "collapsed": true
   },
   "outputs": [],
   "source": [
    "def find_c(nvec,bvec,w,r,f_params):\n",
    "    beta, nvec, A, alpha, delta, sigma, SS_tol = f_params\n",
    "    c = np.zeros(S)\n",
    "\n",
    "    c[0] = nvec[0]*w - bvec[1]\n",
    "    for sS in range(1,S-1):        \n",
    "        c[sS] = nvec[sS]*w + (1+r)*bvec[sS] - bvec[sS+1]\n",
    "    c[S-1] = nvec[S-1]*w + (1+r)*bvec[S-1] #index S-1 in python is S-th position\n",
    "    return c"
   ]
  },
  {
   "cell_type": "code",
   "execution_count": 161,
   "metadata": {
    "collapsed": true
   },
   "outputs": [],
   "source": [
    "def get_SS_S(f_params, S, bvec_guess, SS_graphs=False):\n",
    "    \n",
    "    '''\n",
    "    INPUT : \n",
    "        f_arams : a tuple of the parameters for the model\n",
    "        bvec_guess : an initial guess of the steady-state savings\n",
    "        SS graphs : generates a figure of the steady-state distribution of consumption\n",
    "          and savings if it is set to True.\n",
    "    '''\n",
    "    \n",
    "    start_time = time.perf_counter()\n",
    "    # initialize \n",
    "    EulErr_ss = np.zeros(S-1)\n",
    "    c_ss = np.zeros(S)\n",
    "    \n",
    "    # unpack parameters\n",
    "    beta, nvec, A, alpha, delta, sigma, SS_tol = f_params\n",
    "    \n",
    "    # Solve for the optimal bvec    \n",
    "    Fn = lambda bvec: Eul_errs_fn_S(bvec,S,f_params)\n",
    "    root_found = opt.root(Fn, bvec_guess, tol=SS_tol)\n",
    "\n",
    "    # Calculate steady-state levels of equilibrium objects\n",
    "    b_ss = root_found.x\n",
    "    Euler_ss = root_found.fun\n",
    "        \n",
    "    K_ss = get_K(b_ss)\n",
    "    L_ss = get_L(nvec)\n",
    "    w_ss = get_w(K_ss,L_ss,f_params) #in steady state, they are the same \n",
    "    r_ss = get_r(K_ss,L_ss,f_params)\n",
    "    c_ss = find_c(nvec,np.append(0,b_ss),w_ss,r_ss,f_params)\n",
    "    Y_ss = A*(K_ss)**alpha*L_ss**(1-alpha)\n",
    "    C_ss = np.sum(c_ss)\n",
    "\n",
    "    RCerr_ss =  Y_ss - C_ss - delta*K_ss\n",
    "    \n",
    "    if SS_graphs == True:\n",
    "        fig, ax = plt.subplots(figsize=(6,6))\n",
    "        s = range(S)\n",
    "        plt.plot(s, c_ss, label=r'$\\bar{c}_s$')\n",
    "        plt.plot(s[1:], b_ss, label=r'$\\bar{b}_s$')\n",
    "        plt.title(\"Steady-State Consumption and Savings\")\n",
    "        plt.legend()\n",
    "        plt.grid()\n",
    "        plt.xlabel(\"Cohort\")\n",
    "        plt.ylabel(\"Level\")\n",
    "        plt.show()\n",
    "\n",
    "    ss_time = time.perf_counter()\n",
    "    ss_output = {'b_ss': b_ss, 'c_ss': c_ss, 'w_ss': w_ss, \\\n",
    "                 'r_ss': r_ss,'K_ss': K_ss, 'Y_ss': Y_ss, 'C_ss': C_ss, 'EulErr_ss': EulErr_ss, 'RCerr_ss': RCerr_ss,'ss_time': ss_time}\n",
    "        \n",
    "    return ss_output"
   ]
  },
  {
   "cell_type": "code",
   "execution_count": 164,
   "metadata": {
    "scrolled": false
   },
   "outputs": [
    {
     "data": {
      "image/png": "[encoded data removed]",
      "text/plain": [
       "<Figure size 432x432 with 1 Axes>"
      ]
     },
     "metadata": {
      "needs_background": "light"
     },
     "output_type": "display_data"
    },
    {
     "data": {
      "text/plain": [
       "{'b_ss': array([ 0.06304188,  0.12995367,  0.20086131,  0.276124  ,  0.35559185,\n",
       "         0.43956212,  0.52820088,  0.62168501,  0.72019764,  0.82392885,\n",
       "         0.93307598,  1.0478439 ,  1.16844529,  1.29510094,  1.42804005,\n",
       "         1.56750059,  1.71372958,  1.86698347,  2.02752849,  2.19564102,\n",
       "         2.37160799,  2.55572727,  2.74830809,  2.94967146,  3.16015066,\n",
       "         3.38009165,  3.6098536 ,  3.84980938,  4.10034607,  4.36186552,\n",
       "         4.63478491,  4.91953731,  5.21657232,  5.52635669,  5.84937495,\n",
       "         6.18613013,  6.53714443,  6.90295997,  7.28413954,  7.6812674 ,\n",
       "         8.09495008,  8.52581723,  8.97452255,  9.44174462,  9.92818794,\n",
       "        10.43458385, 10.96169158, 11.51029932, 12.08122531, 12.675319  ,\n",
       "        13.29346223, 13.93657047, 14.60559398, 15.30151973, 14.93264549,\n",
       "        14.55112095, 14.15639504, 13.74801876, 13.32545873, 12.88816545,\n",
       "        12.43557875, 11.96711492, 11.48216574, 10.98009951, 10.46026109,\n",
       "         9.92197106,  9.36452472,  8.78719089,  8.18921066,  7.56979589,\n",
       "         6.92812708,  6.26335044,  5.57457706,  4.86089302,  4.12135826,\n",
       "         3.35497879,  2.56074679,  1.73758307,  0.88438319]),\n",
       " 'c_ss': array([1.30285364, 1.30138762, 1.29994322, 1.29829201, 1.29695672,\n",
       "        1.29548455, 1.29401798, 1.29255255, 1.29108876, 1.28962662,\n",
       "        1.28816614, 1.28670731, 1.28525013, 1.2837946 , 1.28234072,\n",
       "        1.28088848, 1.27943789, 1.27798894, 1.27654163, 1.27509596,\n",
       "        1.27365192, 1.27220952, 1.27076875, 1.26932962, 1.26789211,\n",
       "        1.26645623, 1.26502198, 1.26358935, 1.26215834, 1.26072896,\n",
       "        1.25930119, 1.25787503, 1.2564505 , 1.25502757, 1.25360626,\n",
       "        1.25218655, 1.25076846, 1.24935197, 1.24793708, 1.24652379,\n",
       "        1.24511211, 1.24370202, 1.24229353, 1.24088664, 1.23948134,\n",
       "        1.23807763, 1.23667551, 1.23527497, 1.23387603, 1.23247867,\n",
       "        1.2310829 , 1.2296887 , 1.2282962 , 1.22690491, 1.22552527,\n",
       "        1.22410979, 1.22276301, 1.22136184, 1.21997353, 1.21859388,\n",
       "        1.21721259, 1.21583185, 1.21445391, 1.21307906, 1.21170665,\n",
       "        1.21033596, 1.2089664 , 1.20759755, 1.20622927, 1.20486184,\n",
       "        1.2034966 , 1.20213654, 1.20078426, 1.19943087, 1.19806765,\n",
       "        1.19671269, 1.19534192, 1.19398828, 1.19263586, 1.19128527]),\n",
       " 'w_ss': 1.3658955185157622,\n",
       " 'r_ss': 0.038131632545359256,\n",
       " 'K_ss': 494.0399390926024,\n",
       " 'Y_ss': 124.40156107097403,\n",
       " 'C_ss': 99.69956411634394,\n",
       " 'EulErr_ss': array([0., 0., 0., 0., 0., 0., 0., 0., 0., 0., 0., 0., 0., 0., 0., 0., 0.,\n",
       "        0., 0., 0., 0., 0., 0., 0., 0., 0., 0., 0., 0., 0., 0., 0., 0., 0.,\n",
       "        0., 0., 0., 0., 0., 0., 0., 0., 0., 0., 0., 0., 0., 0., 0., 0., 0.,\n",
       "        0., 0., 0., 0., 0., 0., 0., 0., 0., 0., 0., 0., 0., 0., 0., 0., 0.,\n",
       "        0., 0., 0., 0., 0., 0., 0., 0., 0., 0., 0.]),\n",
       " 'RCerr_ss': -3.197442310920451e-14,\n",
       " 'ss_time': 8401.017077953}"
      ]
     },
     "execution_count": 164,
     "metadata": {},
     "output_type": "execute_result"
    }
   ],
   "source": [
    "# Set params\n",
    "alpha = .35\n",
    "delta = .05\n",
    "#0.6415\n",
    "beta = 0.96\n",
    "sigma = 3\n",
    "A = 1\n",
    "SS_tol = 0.001\n",
    "\n",
    "nvec = np.zeros(S)\n",
    "# construct labour suppy (We assume the individuals supply \n",
    "# a unit of labor inelastically in the first two thirds of life) \n",
    "# and are retired during the last third of life\n",
    "\n",
    "for sS in range(S):\n",
    "    if sS <= np.round(2*S/3):\n",
    "        nvec[sS] = 1\n",
    "    else: \n",
    "        nvec[sS] = .2\n",
    "\n",
    "f_params = (beta, nvec, A, alpha, delta, sigma, SS_tol)\n",
    "bvec_guess = np.ones(S-1)*.1\n",
    "get_SS_S(f_params, S, bvec_guess, SS_graphs=True)"
   ]
  },
  {
   "cell_type": "code",
   "execution_count": 165,
   "metadata": {},
   "outputs": [
    {
     "data": {
      "image/png": "[encoded data removed]",
      "text/plain": [
       "<Figure size 432x432 with 1 Axes>"
      ]
     },
     "metadata": {
      "needs_background": "light"
     },
     "output_type": "display_data"
    },
    {
     "data": {
      "text/plain": [
       "{'b_ss': array([ 0.11348063,  0.2400637 ,  0.37993169,  0.5331482 ,  0.69987552,\n",
       "         0.88038011,  1.07477931,  1.28324538,  1.50595394,  1.74308436,\n",
       "         1.99481992,  2.2613478 ,  2.54285916,  2.83954926,  3.15161744,\n",
       "         3.47926727,  3.82270658,  4.18214755,  4.55780676,  4.94990532,\n",
       "         5.35866887,  5.78432774,  6.22711695,  6.68727637,  7.16505073,\n",
       "         7.66068977,  8.17444829,  8.70658624,  9.25736884,  9.82706665,\n",
       "        10.41595568, 11.02431744, 11.65243899, 12.30061289, 12.96913706,\n",
       "        13.65831512, 14.36845958, 15.09988983, 15.85292322, 16.62789199,\n",
       "        17.42513368, 16.99012064, 16.55527548, 16.12053965, 15.68587093,\n",
       "        15.25119591, 14.81646615, 14.38162987, 13.94662107, 13.51136864,\n",
       "        13.0758032 , 12.63985848, 12.20347031, 11.76657528, 11.32910981,\n",
       "        10.89100955, 10.45220913, 10.012642  ,  9.57224044,  9.1309355 ,\n",
       "         8.6886571 ,  8.24533398,  7.80089382,  7.35526326,  6.90836794,\n",
       "         6.4601326 ,  6.01048115,  5.55933683,  5.10662244,  4.65226058,\n",
       "         4.19617345,  3.73828147,  3.27850129,  2.81674778,  2.35293721,\n",
       "         1.88698431,  1.41880243,  0.94830394,  0.47539986]),\n",
       " 'c_ss': array([1.45510576, 1.44406421, 1.43307813, 1.42226972, 1.41154144,\n",
       "        1.40079206, 1.39017554, 1.3796391 , 1.36918252, 1.3588052 ,\n",
       "        1.34850654, 1.33828592, 1.32814278, 1.31807651, 1.30808653,\n",
       "        1.29817227, 1.28833315, 1.27856861, 1.26887808, 1.25926099,\n",
       "        1.24971679, 1.24024493, 1.23084486, 1.22151604, 1.21225793,\n",
       "        1.20306999, 1.19395169, 1.18490249, 1.17592186, 1.16700927,\n",
       "        1.15816419, 1.14938612, 1.14067463, 1.13202943, 1.12345048,\n",
       "        1.11493749, 1.10648708, 1.09809804, 1.08977821, 1.08151848,\n",
       "        1.07331956, 1.06518369, 1.05711564, 1.04910921, 1.04114698,\n",
       "        1.03325936, 1.02542008, 1.01763159, 1.00990716, 1.00225071,\n",
       "        0.99465921, 0.9871283 , 0.97965467, 0.97223639, 0.9648725 ,\n",
       "        0.95756259, 0.95030653, 0.94310429, 0.93595586, 0.92886121,\n",
       "        0.92182025, 0.91483286, 0.90789882, 0.90101787, 0.89418964,\n",
       "        0.88741371, 0.88068954, 0.8740164 , 0.86739335, 0.8608192 ,\n",
       "        0.85429292, 0.84781488, 0.84138743, 0.83501081, 0.82868208,\n",
       "        0.82240127, 0.81616819, 0.80998228, 0.80384326, 0.79775075]),\n",
       " 'w_ss': 1.5685863874145656,\n",
       " 'r_ss': 0.01816074283068507,\n",
       " 'K_ss': 604.7120692916741,\n",
       " 'Y_ss': 117.76463954743203,\n",
       " 'C_ss': 87.52903608284836,\n",
       " 'EulErr_ss': array([0., 0., 0., 0., 0., 0., 0., 0., 0., 0., 0., 0., 0., 0., 0., 0., 0.,\n",
       "        0., 0., 0., 0., 0., 0., 0., 0., 0., 0., 0., 0., 0., 0., 0., 0., 0.,\n",
       "        0., 0., 0., 0., 0., 0., 0., 0., 0., 0., 0., 0., 0., 0., 0., 0., 0.,\n",
       "        0., 0., 0., 0., 0., 0., 0., 0., 0., 0., 0., 0., 0., 0., 0., 0., 0.,\n",
       "        0., 0., 0., 0., 0., 0., 0., 0., 0., 0., 0.]),\n",
       " 'RCerr_ss': -4.263256414560601e-14,\n",
       " 'ss_time': 8422.933317226}"
      ]
     },
     "execution_count": 165,
     "metadata": {},
     "output_type": "execute_result"
    }
   ],
   "source": [
    "S = 80\n",
    "nvec = np.zeros(S)\n",
    "\n",
    "for sS in range(S):\n",
    "    if sS <= np.round(S/2):\n",
    "        nvec[sS] = 1\n",
    "    else: \n",
    "        nvec[sS] = .2\n",
    "        \n",
    "f_params = (beta, nvec, A, alpha, delta, sigma, SS_tol)\n",
    "bvec_guess = np.ones(S)*.1\n",
    "get_SS_S(f_params, S, bvec_guess[1:], SS_graphs=True)"
   ]
  },
  {
   "cell_type": "markdown",
   "metadata": {
    "scrolled": false
   },
   "source": [
    "With earlier retirement we notice that:\n",
    "\n",
    "+ The wage rate increases. This is expected, as the decrease in aggregate labour supply should push prices up\n",
    "\n",
    "+ Steady state capital level increases. This can possibly be explained by substituting labour with capital due to the higher labour costs \n",
    "\n",
    "+ GDP and Consumpiotn decrease. This is possibly due to the decreased production d"
   ]
  },
  {
   "cell_type": "code",
   "execution_count": 111,
   "metadata": {},
   "outputs": [
    {
     "data": {
      "image/png": "[encoded data removed]",
      "text/plain": [
       "<Figure size 432x432 with 1 Axes>"
      ]
     },
     "metadata": {
      "needs_background": "light"
     },
     "output_type": "display_data"
    },
    {
     "data": {
      "text/plain": [
       "{'b_ss': array([0.01931262, 0.05841243]),\n",
       " 'c_ss': array([0.18241333, 0.20961424, 0.24087656]),\n",
       " 'w_ss': 0.20172594930955895,\n",
       " 'r_ss': 2.433025771148647,\n",
       " 'K_ss': 0.07772504796372812,\n",
       " 'Y_ss': 0.6827647515092765,\n",
       " 'C_ss': 0.6329041332405448,\n",
       " 'EulErr_ss': array([0., 0.]),\n",
       " 'RCerr_ss': 9.020562075079397e-17,\n",
       " 'ss_time': 5735.98250052}"
      ]
     },
     "execution_count": 111,
     "metadata": {},
     "output_type": "execute_result"
    }
   ],
   "source": [
    "# Check if I get the same results as before when I set S = 3 \n",
    "\n",
    "# Set params\n",
    "alpha = .35\n",
    "delta = 0.6415\n",
    "beta = 0.96\n",
    "sigma = 3\n",
    "A = 1\n",
    "SS_tol = 0.001\n",
    "\n",
    "S = 3\n",
    "nvec = np.zeros(S)\n",
    "# construct labour suppy (We assume the individuals supply \n",
    "# a unit of labor inelastically in the first two thirds of life) \n",
    "# and are retired during the last third of life\n",
    "\n",
    "S = 80\n",
    "nvec = np.zeros(S)\n",
    "\n",
    "for sS in range(S):\n",
    "    if sS <= np.round(2*S/3):\n",
    "        nvec[sS] = 1\n",
    "    else: \n",
    "        nvec[sS] = .2\n",
    "        \n",
    "nvec = np.array([1,1,.2])\n",
    "\n",
    "f_params = (beta, nvec, A, alpha, delta, sigma, SS_tol)\n",
    "bvec_guess = np.ones(S)*.1\n",
    "get_SS_S(f_params, S, bvec_guess[1:], SS_graphs=True)"
   ]
  },
  {
   "cell_type": "code",
   "execution_count": null,
   "metadata": {
    "collapsed": true
   },
   "outputs": [],
   "source": []
  }
 ],
 "metadata": {
  "kernelspec": {
   "display_name": "Python 3",
   "language": "python",
   "name": "python3"
  },
  "language_info": {
   "codemirror_mode": {
    "name": "ipython",
    "version": 3
   },
   "file_extension": ".py",
   "mimetype": "text/x-python",
   "name": "python",
   "nbconvert_exporter": "python",
   "pygments_lexer": "ipython3",
   "version": "3.6.7"
  }
 },
 "nbformat": 4,
 "nbformat_minor": 2
}
