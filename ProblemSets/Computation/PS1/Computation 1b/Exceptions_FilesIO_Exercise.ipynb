{
 "cells": [
  {
   "cell_type": "markdown",
   "metadata": {},
   "source": [
    "### Exceptions and Files IO\n",
    "\n",
    "Li Liu\n",
    "\n",
    "7/7/2019"
   ]
  },
  {
   "cell_type": "markdown",
   "metadata": {},
   "source": [
    "#### Pbm 1"
   ]
  },
  {
   "cell_type": "code",
   "execution_count": null,
   "metadata": {},
   "outputs": [],
   "source": [
    "def arithmagic():\n",
    "    n1 = input(\"Enter a 3-digit number:\")\n",
    "    if len(str(n1)) != 3:\n",
    "        raise ValueError(\"is not a 3-digit number\")\n",
    "    if str(n1)[-1]-str(n1)[0] !=2:\n",
    "        raise ValueError(\"first and last digits should differ by 2\")\n",
    "    n2 = input(\"Enter the reverse number\")\n",
    "    if n2 != int(str(n1)[::-1]):\n",
    "        raise ValueError(\"not the reverse number\")\n",
    "    diff = input(\"Enter the positive difference of these number\")\n",
    "    if diff != abs(n2-n1)\n",
    "        raise ValueError(\"not the correct difference\")\n",
    "    revdiff = input(\"Enter the reverse of the previous result\")\n",
    "    if revdiff != int(str(diff)[::-1]):\n",
    "        raise ValueError(\"not the reverse of the third number\")"
   ]
  },
  {
   "cell_type": "markdown",
   "metadata": {},
   "source": [
    "#### Pbm 2"
   ]
  },
  {
   "cell_type": "code",
   "execution_count": 17,
   "metadata": {},
   "outputs": [],
   "source": [
    "from random import choice"
   ]
  },
  {
   "cell_type": "code",
   "execution_count": 35,
   "metadata": {},
   "outputs": [],
   "source": [
    "def random_walk(max_iters=1e12):\n",
    "    walk = 0\n",
    "    directions = [1, -1]\n",
    "    for i in range(int(max_iters)):\n",
    "        try:\n",
    "            walk+=choice(directions)\n",
    "        \n",
    "        except KeyboardInterrupt:\n",
    "            print(\"Process interrupted at iteration {}\".format(i))\n",
    "            print(walk)\n",
    "            break\n",
    "        \n",
    "    print('Process completed')\n",
    "    return walk"
   ]
  },
  {
   "cell_type": "code",
   "execution_count": 36,
   "metadata": {},
   "outputs": [
    {
     "name": "stdout",
     "output_type": "stream",
     "text": [
      "Process interrupted at iteration 2599105\n",
      "2185\n",
      "Process completed\n"
     ]
    },
    {
     "data": {
      "text/plain": [
       "2185"
      ]
     },
     "execution_count": 36,
     "metadata": {},
     "output_type": "execute_result"
    }
   ],
   "source": [
    "random_walk(max_iters=1e12)"
   ]
  },
  {
   "cell_type": "markdown",
   "metadata": {},
   "source": [
    "#### Pbm 3 and 4"
   ]
  },
  {
   "cell_type": "code",
   "execution_count": 37,
   "metadata": {},
   "outputs": [],
   "source": [
    "class ContentFilter:\n",
    "    '''Class to read contents'''\n",
    "    \n",
    "    def __init__(self, name):\n",
    "        self.name = name\n",
    "        valid = False\n",
    "        while valid == False:\n",
    "            try:\n",
    "                myfile = open(self.name, 'r')\n",
    "            except (FileNotFoundError, TypeError, OSError) as e:\n",
    "                print(e)\n",
    "                self.name = input('Please enter a valid file name:')\n",
    "                print(self.name)\n",
    "            else:\n",
    "                valid = True\n",
    "        self.contents = myfile.readlines()\n",
    "        myfile.close()\n",
    "        \n",
    "    def uniform(self, file_name, mode = 'w', case = 'upper'):\n",
    "        if mode == 'w':\n",
    "            new_file = open(file_name, 'w')\n",
    "        elif mode == 'x':\n",
    "            new_file = open(file_name, 'x')\n",
    "        elif mode == 'a':\n",
    "            new_file = open(file_name, 'a')\n",
    "        else:\n",
    "            raise ValueError('mode has to be \"w\" or \"x\" or \"a\"')\n",
    "        if case == 'upper':\n",
    "            contents = self.contents.upper()\n",
    "        elif case == 'lower':\n",
    "            contents = self.contesnt.lower()\n",
    "        else:\n",
    "            raise ValueError('case has to be \"upper\" or \"lower\"')\n",
    "        new_file.write(contents)\n",
    "        new_file.close\n",
    "        \n",
    "    def reverse(self, file_name, mode = 'w', unit = 'line'):\n",
    "        if mode == 'w':\n",
    "            new_file = open(file_name, 'w')\n",
    "        elif mode == 'x':\n",
    "            new_file = open(file_name, 'x')\n",
    "        elif mode == 'a':\n",
    "            new_file = open(file_name, 'a')\n",
    "        else:\n",
    "            raise ValueError('mode has to be \"w\" or \"x\" or \"a\"')\n",
    "        if unit == 'line':\n",
    "            contents = self.contents.split('\\n')[::-1]\n",
    "        if unit == 'word':\n",
    "            contents = self.contents.split()[::-1]\n",
    "        new_file.write(contents)\n",
    "        \n",
    "    def transpose(self, file_name, mode = 'w'): \n",
    "        if mode == 'w':\n",
    "            new_file = open(file_name, 'w')\n",
    "        elif mode == 'x':\n",
    "            new_file = open(file_name, 'x')\n",
    "        elif mode == 'a':\n",
    "            new_file = open(file_name, 'a')\n",
    "        else:\n",
    "            raise ValueError('mode has to be \"w\" or \"x\" or \"a\"')\n",
    "        contents = self.contents.split('\\n')\n",
    "        for i in range(len(contents)):\n",
    "            contents[i] = contents[i].split()"
   ]
  }
 ],
 "metadata": {
  "kernelspec": {
   "display_name": "Python 3",
   "language": "python",
   "name": "python3"
  },
  "language_info": {
   "codemirror_mode": {
    "name": "ipython",
    "version": 3
   },
   "file_extension": ".py",
   "mimetype": "text/x-python",
   "name": "python",
   "nbconvert_exporter": "python",
   "pygments_lexer": "ipython3",
   "version": "3.7.1"
  }
 },
 "nbformat": 4,
 "nbformat_minor": 2
}
