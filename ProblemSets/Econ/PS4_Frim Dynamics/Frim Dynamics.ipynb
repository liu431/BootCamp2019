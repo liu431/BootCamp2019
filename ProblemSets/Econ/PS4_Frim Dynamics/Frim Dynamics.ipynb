{
 "cells": [
  {
   "cell_type": "markdown",
   "metadata": {},
   "source": [
    "Link to problem set: https://github.com/OpenSourceEcon/BootCamp2019/blob/master/Econ/Wk4_FirmDyn/winberry_exercise.pdf"
   ]
  },
  {
   "cell_type": "code",
   "execution_count": null,
   "metadata": {},
   "outputs": [],
   "source": [
    "import numpy as np\n",
    "import math\n",
    "from scipy.optimize import fsolve\n",
    "from quantecon.markov.approximation import tauchen\n",
    "import matplotlib.pyplot as plt\n",
    "from scipy import interpolate\n",
    "from numba import jit"
   ]
  },
  {
   "cell_type": "code",
   "execution_count": null,
   "metadata": {
    "collapsed": true
   },
   "outputs": [],
   "source": [
    "# Define parameter values\n",
    "θ = .21\n",
    "ν = .64\n",
    "δ = .1\n",
    "β = .96\n",
    "φ = .5\n",
    "ρ = .9\n",
    "σ = .02\n",
    "N_rep = .6   # assume steady state labor supply from rep. household\n",
    "tol = 1e-6\n",
    "nϵ = 11\n",
    "ϵ = tauchen(ρ,σ,0,3,nϵ)"
   ]
  },
  {
   "cell_type": "code",
   "execution_count": null,
   "metadata": {
    "collapsed": true
   },
   "outputs": [],
   "source": [
    "'''\n",
    "------------------------------------------------------------------------\n",
    "Functions for steady state\n",
    "------------------------------------------------------------------------\n",
    "'''\n",
    "\n",
    "# Firm labor demand given w and k\n",
    "n_star = lambda ν,θ,ϵ,w,k: (w/(math.exp(ϵ)*ν*k**θ))**(1/(ν-1)) if k != 0  else 0\n",
    "# Derivative of firm profit wrt k\n",
    "π_k = lambda ν,θ,ϵ,w,k: θ*math.exp(ϵ)*k**(θ-1)*(w/(ν*math.exp(ϵ)*k**θ))**(ν/(ν-1))\n",
    "# Derivative of value function V wrt k\n",
    "V_k = lambda ν,θ,δ,φ,ϵ,w,k: π_k(ν,θ,ϵ,w,k) - φ/2*δ**2+(φ-1)*δ+1\n",
    "\n",
    "# Left hand side of firm FOC\n",
    "def foc(k,w,parameters):\n",
    "    β,ν,θ,δ,φ,ϵ = parameters\n",
    "    foc_lhs = -1-φ*δ + β*V_k(ν,θ,δ,φ,ϵ,w,k)\n",
    "    return foc_lhs\n",
    "\n",
    "# Solve for steady state capital given w\n",
    "def get_Kss(w,parameters):\n",
    "    kss = fsolve(foc,.1,args=(w,parameters))\n",
    "    return kss\n",
    "\n",
    "# Solve the steady state capital and w\n",
    "def excess_labor_supply(w,parameters):\n",
    "    β,ν,θ,δ,φ,N_rep = parameters\n",
    "    k = get_Kss(w,[β,ν,θ,δ,φ,0])\n",
    "    n = n_star(ν,θ,0,w,k)\n",
    "    n_excess = N_rep - n\n",
    "    return n_excess               "
   ]
  },
  {
   "cell_type": "code",
   "execution_count": null,
   "metadata": {
    "collapsed": true
   },
   "outputs": [],
   "source": [
    "'''\n",
    "------------------------------------------------------------------------\n",
    "Functions for solving policy functions\n",
    "------------------------------------------------------------------------\n",
    "'''\n",
    "# Value function iteration based on grid\n",
    "def VFI(cf,w,k_grid,parameters,ϵ):\n",
    "    ν,θ,δ,φ,tol = parameters\n",
    "    π = lambda ν,θ,ϵ,w,k: math.exp(ϵ)*k**θ*n_star(ν,θ,ϵ,w,k)**ν-w*n_star(ν,θ,ϵ,w,k)\n",
    "    inv_friction = lambda φ,i,k: φ/2*(i/k)**2 *k if k != 0 else 0\n",
    "    \n",
    "    # Initialized some values\n",
    "    nϵ,nk = len(ϵ.state_values),len(k_grid)\n",
    "    V = np.zeros((nϵ*nk,1))\n",
    "    max_diff = np.inf\n",
    "    niter = 1\n",
    "    \n",
    "    # Iterate until convergence\n",
    "    while max_diff > tol:\n",
    "        # A vector for expected continuation value. Each capital value stands for k'\n",
    "        ev = np.zeros((nϵ*nk,1))\n",
    "        for ikp in range(nk):\n",
    "            idxp = np.arange(ikp,nϵ*nk+ikp,nk)\n",
    "            for iϵ in range(nϵ):            \n",
    "                idx = iϵ*nk + ikp                 \n",
    "                ev[idx] = ev[idx] + ϵ.P[iϵ,:].dot(V[idxp])\n",
    "                \n",
    "        tempV = (1-δ)*np.ones((nϵ,1)).dot(k_grid.T).reshape(nϵ*nk,1)\n",
    "        \n",
    "        # Only solve maximization 2 out of 5 times to speed up the code\n",
    "        if niter % 5 == 1 or niter % 5 == 2:\n",
    "            gk = np.zeros((nϵ*nk,1),dtype='int')    # policy function for k'\n",
    "        ge = np.ones((nϵ*nk,1))                     # policy function for exit\n",
    "        \n",
    "        # Iterate over states today\n",
    "        for ik,k in enumerate(k_grid):            \n",
    "            for iϵ,ϵ_curr in enumerate(ϵ.state_values):            \n",
    "                idx = iϵ*nk + ik \n",
    "                \n",
    "                # Only solve maximization 2 out of 5 times to speed up the code\n",
    "                if niter % 5 == 1 or niter % 5 == 2:\n",
    "                    vv = (1-δ)*k \n",
    "\n",
    "                    # Find the k' that maximizes firm's value\n",
    "                    for ikp,kp in enumerate(k_grid):\n",
    "                        idxp = iϵ*nk + ikp\n",
    "                        investment = kp - (1-δ)*k\n",
    "                        v_tilde = π(ν,θ,ϵ_curr,w,k) - investment - inv_friction(φ,investment,k) + β*ev[idxp]\n",
    "\n",
    "                        if v_tilde - cf > (1-δ)*k:\n",
    "                            if v_tilde > vv:\n",
    "                                vv = v_tilde\n",
    "                                tempV[idx] = v_tilde\n",
    "                                gk[idx] = ikp\n",
    "                                ge[idx] = 0\n",
    "                else:\n",
    "                    investment = k_grid[gk[idx]] - (1-δ)*k\n",
    "                    idxp = iϵ*nk + gk[idx]\n",
    "                    v_tilde = π(ν,θ,ϵ_curr,w,k) - investment - inv_friction(φ,investment,k) + β*ev[idxp]\n",
    "                    if v_tilde - cf > (1-δ)*k:\n",
    "                        tempV[idx] = v_tilde\n",
    "                        ge[idx] = 0\n",
    "                        \n",
    "        max_diff = max(np.abs(V-tempV))\n",
    "        V = tempV.copy()\n",
    "        if niter == 1 or niter % 50 == 0:\n",
    "            print('Iteration %d: max diff = %1.7f' % (niter,max_diff))\n",
    "                  \n",
    "        niter = niter + 1\n",
    "    return V,gk,ge"
   ]
  },
  {
   "cell_type": "code",
   "execution_count": null,
   "metadata": {
    "collapsed": true
   },
   "outputs": [],
   "source": [
    "# Solve for representative agent steady state\n",
    "w = 1\n",
    "parameters = [β,ν,θ,δ,φ,N_rep]\n",
    "wss = fsolve(excess_labor_supply,.25,args=parameters)\n",
    "kss = get_Kss(wss,[β,ν,θ,δ,φ,0])\n",
    "\n",
    "nk = 50\n",
    "k_grid = np.linspace([0],[5],nk)\n",
    "parameters = [ν,θ,δ,φ,tol]"
   ]
  },
  {
   "cell_type": "code",
   "execution_count": null,
   "metadata": {},
   "outputs": [],
   "source": [
    "# Solve for incumbent firm's decision rules\n",
    "cf = .01\n",
    "V1,gk1_idx,ge1 = VFI(cf,wss,k_grid,parameters,ϵ)\n",
    "gk1 = k_grid[gk1_idx.reshape(nϵ*nk,1)].reshape(nϵ*nk,1)"
   ]
  },
  {
   "cell_type": "code",
   "execution_count": null,
   "metadata": {},
   "outputs": [],
   "source": [
    "plt.plot(gk1)"
   ]
  },
  {
   "cell_type": "code",
   "execution_count": null,
   "metadata": {},
   "outputs": [],
   "source": [
    "plt.plot(V1)"
   ]
  },
  {
   "cell_type": "code",
   "execution_count": null,
   "metadata": {
    "collapsed": true
   },
   "outputs": [],
   "source": [
    "# Find the value for k this period using the Euler equation\n",
    "def euler_solvek(kp,ikp,gk,w,ν,θ,β,φ,δ,ϵ,iϵ):\n",
    "    E_Vk = 0\n",
    "    nϵ = len(ϵ.state_values)\n",
    "    nk = np.int(len(gk) / nϵ)\n",
    "    \n",
    "    for iϵp,ϵp in enumerate(ϵ.state_values):\n",
    "        idxp = iϵp*nk + ikp \n",
    "        E_Vk = E_Vk + ϵ.P[iϵ,iϵp]*(π_k(ν,θ,ϵp,w,kp)+(1-δ)-φ/2*((gk[idxp]/kp-(1-δ))**2-2*gk[idxp]/kp*(gk[idxp]/kp-(1-δ))))\n",
    "       \n",
    "    if kp != 0:\n",
    "        k = kp / (1/φ * (β*E_Vk-1) + 1-δ)\n",
    "    else:\n",
    "        k = 0\n",
    "    return k\n",
    "\n",
    "# Endogenous grid method for incumbent firm's decision rules (doesn't work very well)\n",
    "def EGM(cf,w,k_grid,parameters,ϵ):\n",
    "    ν,θ,δ,φ,tol = parameters\n",
    "    π = lambda ν,θ,ϵ,w,k: math.exp(ϵ)*k**θ*n_star(ν,θ,ϵ,w,k)**ν-w*n_star(ν,θ,ϵ,w,k)\n",
    "    v_kp0 = lambda k,ν,θ,δ,φ,β,ϵ_curr,w,ev0,v0: π(ν,θ,ϵ_curr,w,k)+(1-δ)*k-φ/2*(1-δ)**2*k+β*ev0 - v0\n",
    "    \n",
    "    nϵ,nk = len(ϵ.state_values),len(k_grid)    \n",
    "    max_diff = np.inf\n",
    "    niter = 1\n",
    "    \n",
    "    # Guess value functions\n",
    "    V_e = (1-δ)*np.ones((nϵ,1)).dot(k_grid.T).reshape(nϵ*nk,1)\n",
    "    V_tilde = V_e + np.ones((nϵ,1)).dot(np.linspace(.1,.2,nk).reshape(1,nk)).reshape(nϵ*nk,1)\n",
    "    V = np.maximum(V_tilde-cf,V_e)\n",
    "\n",
    "    # Guess a policy function of k' defined on the original grid\n",
    "    gk = np.ones((nϵ,1)).dot(k_grid.T).reshape(nϵ*nk,1)\n",
    "    \n",
    "    while max_diff > tol:\n",
    "\n",
    "        ev = np.zeros((nϵ*nk,1))\n",
    "        for iϵ in range(nϵ):\n",
    "            for ik in range(nk):\n",
    "                idx = iϵ*nk + ik \n",
    "                idxp = np.arange(ik,nϵ*nk+ik,nk)\n",
    "                ev[idx] = ev[idx] + ϵ.P[iϵ,:].dot(V[idxp])\n",
    "                        \n",
    "        k_end,V_tilde_end,V_tilde_new,ge = np.zeros((nϵ*nk,1)),np.zeros((nϵ*nk,1)),np.zeros((nϵ*nk,1)),np.ones((nϵ*nk,1))\n",
    "        \n",
    "        for iϵ, ϵ_curr in enumerate(ϵ.state_values):\n",
    "            grid_range = np.arange(iϵ*nk,iϵ*nk+nk,1)\n",
    "            #ev_interp = interpolate.interp1d(k_grid.reshape(nk,),ev[grid_range].reshape(nk,),fill_value='extrapolate')\n",
    "            \n",
    "            # Iterate over k'\n",
    "            ik_cutoff = 0\n",
    "            for ikp,kp in enumerate(k_grid):\n",
    "                idxp = iϵ*nk + ikp \n",
    "                k = euler_solvek(kp,ikp,gk,w,ν,θ,β,φ,δ,ϵ,iϵ)                                       \n",
    "                k_end[idxp] = k\n",
    "                \n",
    "                if k != 0:\n",
    "                    V_tilde_end[idxp] = π(ν,θ,ϵ_curr,w,k) - (kp-(1-δ)*k) - φ/2*(kp/k-(1-δ))**2 *k + β*ev[idxp] #β*ev_interp(k)\n",
    "                else:\n",
    "                    V_tilde_end[idxp] = - (kp-(1-δ)*k) + β*ev[idxp] #β*ev_interp(k)\n",
    "                    \n",
    "                if V_tilde_end[idxp] - cf < (1-δ)*k:\n",
    "                    ik_cutoff = ikp\n",
    "            \n",
    "            V_tilde_end_interp = interpolate.interp1d(k_end[grid_range].reshape(nk,),V_tilde_end[grid_range].reshape(nk,),fill_value='extrapolate',assume_sorted=False)\n",
    "            gk_interp = interpolate.interp1d(k_end[grid_range].reshape(nk,),k_grid.reshape(nk,),fill_value='extrapolate',assume_sorted=False)\n",
    "            for ik,k in enumerate(k_grid):\n",
    "                idx = iϵ*nk + ik                \n",
    "                V_tilde_new[idx] = V_tilde_end_interp(k)\n",
    "                if V_tilde_new[idx] - cf >= (1-δ)*k:\n",
    "                    ge[idx] = 0\n",
    "                \n",
    "                if ik <= ik_cutoff:\n",
    "                    gk[idx] = 0                    \n",
    "                else:\n",
    "                    gk[idx] = gk_interp(k)   \n",
    "                gk[idx] = gk_interp(k)\n",
    "        \n",
    "        V_new = np.maximum(V_tilde_new-cf,V_e)\n",
    "        max_diff = max(np.abs(V_new-V))\n",
    "        V = V_new.copy()\n",
    "#         V_new = V_tilde_new.copy()\n",
    "#         max_diff = max(np.abs(V_new-V))\n",
    "#         V = V_new.copy()\n",
    "        if niter == 1 or niter % 50 == 0:\n",
    "            print('Iteration %d: max diff = %1.7f' % (niter,max_diff))\n",
    "                  \n",
    "        niter = niter + 1\n",
    "\n",
    "    return V,gk,ge"
   ]
  },
  {
   "cell_type": "code",
   "execution_count": null,
   "metadata": {},
   "outputs": [],
   "source": [
    "cf = .01\n",
    "parameters = ν,θ,δ,φ,tol\n",
    "V2,gk2,ge2 = EGM(cf,wss,k_grid,parameters,ϵ)"
   ]
  },
  {
   "cell_type": "code",
   "execution_count": null,
   "metadata": {},
   "outputs": [],
   "source": [
    "plt.plot(gk2)"
   ]
  },
  {
   "cell_type": "code",
   "execution_count": null,
   "metadata": {},
   "outputs": [],
   "source": [
    "plt.plot(V2)"
   ]
  },
  {
   "cell_type": "code",
   "execution_count": null,
   "metadata": {},
   "outputs": [],
   "source": [
    "plt.plot(ge2)"
   ]
  }
 ],
 "metadata": {
  "kernelspec": {
   "display_name": "Python 3",
   "language": "python",
   "name": "python3"
  },
  "language_info": {
   "codemirror_mode": {
    "name": "ipython",
    "version": 3
   },
   "file_extension": ".py",
   "mimetype": "text/x-python",
   "name": "python",
   "nbconvert_exporter": "python",
   "pygments_lexer": "ipython3",
   "version": "3.6.7"
  }
 },
 "nbformat": 4,
 "nbformat_minor": 2
}
